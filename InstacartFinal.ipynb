{
 "cells": [
  {
   "cell_type": "markdown",
   "id": "8ee2b844",
   "metadata": {},
   "source": [
    "# Instacart Insights: Unpacking Grocery Shopping Patterns\n",
    "**Overview :** Understanding customer purchasing behavior is crcial for enhancing the customer experience, optimizing product offerins, and improving operational efficiency. This project focuses on analyzing the purchasing patterns of customers and providing actionable insights that can lead to more personalizedd product recommendationa dn improved iventory management. \n",
    "\n",
    "**Objective :** By leveraging transaction data, the goal is to uncover patterns in customer preferences, identify frequently purchased items, and develop strategies for personalized recommendations. Ultimately, the project aims to contribute to optimizing the shopping experience for customers and boosting overall sales for the business.\n",
    "\n",
    "**Goal :** Offer actionable insights that can help the business in improving its product assortment, inventory management, and customer targeting strategies.\n"
   ]
  },
  {
   "cell_type": "code",
   "execution_count": 1,
   "id": "fbf1adab",
   "metadata": {},
   "outputs": [],
   "source": [
    "#imports\n",
    "import pandas as pd\n",
    "import numpy as np\n",
    "from matplotlib import pyplot as plt"
   ]
  },
  {
   "cell_type": "code",
   "execution_count": 2,
   "id": "ad36396d",
   "metadata": {},
   "outputs": [
    {
     "name": "stdout",
     "output_type": "stream",
     "text": [
      "   order_id  user_id  order_number  order_dow  order_hour_of_day  \\\n",
      "0   1515936   183418            11          6                 13   \n",
      "1   1690866   163593             5          5                 12   \n",
      "2   1454967    39980             4          5                 19   \n",
      "3   1768857    82516            56          0                 20   \n",
      "4   3007858   196724             2          4                 12   \n",
      "\n",
      "   days_since_prior_order  \n",
      "0                    30.0  \n",
      "1                     9.0  \n",
      "2                     2.0  \n",
      "3                    10.0  \n",
      "4                    17.0  \n",
      "\n",
      "<class 'pandas.core.frame.DataFrame'>\n",
      "RangeIndex: 478967 entries, 0 to 478966\n",
      "Data columns (total 6 columns):\n",
      " #   Column                  Non-Null Count   Dtype  \n",
      "---  ------                  --------------   -----  \n",
      " 0   order_id                478967 non-null  int64  \n",
      " 1   user_id                 478967 non-null  int64  \n",
      " 2   order_number            478967 non-null  int64  \n",
      " 3   order_dow               478967 non-null  int64  \n",
      " 4   order_hour_of_day       478967 non-null  int64  \n",
      " 5   days_since_prior_order  450148 non-null  float64\n",
      "dtypes: float64(1), int64(5)\n",
      "memory usage: 21.9 MB\n"
     ]
    }
   ],
   "source": [
    "#create df and sample data\n",
    "df_instacart_orders = pd.read_csv('/datasets/instacart_orders.csv', sep=';')\n",
    "print(df_instacart_orders.head())\n",
    "print()\n",
    "df_instacart_orders.info()"
   ]
  },
  {
   "cell_type": "code",
   "execution_count": 3,
   "id": "ad6a1efa",
   "metadata": {},
   "outputs": [
    {
     "name": "stdout",
     "output_type": "stream",
     "text": [
      "   product_id                                       product_name  aisle_id  \\\n",
      "0           1                         Chocolate Sandwich Cookies        61   \n",
      "1           2                                   All-Seasons Salt       104   \n",
      "2           3               Robust Golden Unsweetened Oolong Tea        94   \n",
      "3           4  Smart Ones Classic Favorites Mini Rigatoni Wit...        38   \n",
      "4           5                          Green Chile Anytime Sauce         5   \n",
      "\n",
      "   department_id  \n",
      "0             19  \n",
      "1             13  \n",
      "2              7  \n",
      "3              1  \n",
      "4             13  \n",
      "\n",
      "<class 'pandas.core.frame.DataFrame'>\n",
      "RangeIndex: 49694 entries, 0 to 49693\n",
      "Data columns (total 4 columns):\n",
      " #   Column         Non-Null Count  Dtype \n",
      "---  ------         --------------  ----- \n",
      " 0   product_id     49694 non-null  int64 \n",
      " 1   product_name   48436 non-null  object\n",
      " 2   aisle_id       49694 non-null  int64 \n",
      " 3   department_id  49694 non-null  int64 \n",
      "dtypes: int64(3), object(1)\n",
      "memory usage: 1.5+ MB\n"
     ]
    }
   ],
   "source": [
    "#create df and sample data\n",
    "df_products = pd.read_csv('/datasets/products.csv', sep=';')\n",
    "print(df_products.head())\n",
    "print()\n",
    "df_products.info()"
   ]
  },
  {
   "cell_type": "code",
   "execution_count": 4,
   "id": "5130e05e",
   "metadata": {},
   "outputs": [
    {
     "name": "stdout",
     "output_type": "stream",
     "text": [
      "   order_id  product_id  add_to_cart_order  reordered\n",
      "0   2141543       11440               17.0          0\n",
      "1    567889        1560                1.0          1\n",
      "2   2261212       26683                1.0          1\n",
      "3    491251        8670               35.0          1\n",
      "4   2571142        1940                5.0          1\n",
      "\n",
      "<class 'pandas.core.frame.DataFrame'>\n",
      "RangeIndex: 4545007 entries, 0 to 4545006\n",
      "Data columns (total 4 columns):\n",
      " #   Column             Dtype  \n",
      "---  ------             -----  \n",
      " 0   order_id           int64  \n",
      " 1   product_id         int64  \n",
      " 2   add_to_cart_order  float64\n",
      " 3   reordered          int64  \n",
      "dtypes: float64(1), int64(3)\n",
      "memory usage: 138.7 MB\n",
      "None\n",
      "836\n"
     ]
    }
   ],
   "source": [
    "#create df and sample data\n",
    "df_order_products = pd.read_csv('/datasets/order_products.csv', sep=';')\n",
    "print(df_order_products.head())\n",
    "print()\n",
    "print(df_order_products.info())\n",
    "print(df_order_products['add_to_cart_order'].isna().sum())"
   ]
  },
  {
   "cell_type": "code",
   "execution_count": 5,
   "id": "d8370c05",
   "metadata": {},
   "outputs": [
    {
     "name": "stdout",
     "output_type": "stream",
     "text": [
      "   aisle_id                       aisle\n",
      "0         1       prepared soups salads\n",
      "1         2           specialty cheeses\n",
      "2         3         energy granola bars\n",
      "3         4               instant foods\n",
      "4         5  marinades meat preparation\n",
      "\n",
      "<class 'pandas.core.frame.DataFrame'>\n",
      "RangeIndex: 134 entries, 0 to 133\n",
      "Data columns (total 2 columns):\n",
      " #   Column    Non-Null Count  Dtype \n",
      "---  ------    --------------  ----- \n",
      " 0   aisle_id  134 non-null    int64 \n",
      " 1   aisle     134 non-null    object\n",
      "dtypes: int64(1), object(1)\n",
      "memory usage: 2.2+ KB\n"
     ]
    }
   ],
   "source": [
    "#create df and sample data\n",
    "df_aisles = pd.read_csv('/datasets/aisles.csv', sep=';')\n",
    "print(df_aisles.head())\n",
    "print()\n",
    "df_aisles.info()"
   ]
  },
  {
   "cell_type": "code",
   "execution_count": 6,
   "id": "59e2090f",
   "metadata": {},
   "outputs": [
    {
     "name": "stdout",
     "output_type": "stream",
     "text": [
      "   department_id department\n",
      "0              1     frozen\n",
      "1              2      other\n",
      "2              3     bakery\n",
      "3              4    produce\n",
      "4              5    alcohol\n",
      "\n",
      "<class 'pandas.core.frame.DataFrame'>\n",
      "RangeIndex: 21 entries, 0 to 20\n",
      "Data columns (total 2 columns):\n",
      " #   Column         Non-Null Count  Dtype \n",
      "---  ------         --------------  ----- \n",
      " 0   department_id  21 non-null     int64 \n",
      " 1   department     21 non-null     object\n",
      "dtypes: int64(1), object(1)\n",
      "memory usage: 464.0+ bytes\n"
     ]
    }
   ],
   "source": [
    "#create df and sample data\n",
    "df_departments = pd.read_csv('/datasets/departments.csv', sep=';')\n",
    "print(df_departments.head())\n",
    "print()\n",
    "df_departments.info()"
   ]
  },
  {
   "cell_type": "markdown",
   "id": "9202773a",
   "metadata": {},
   "source": [
    "**Summary :** Column names do not need to be renamed. Missing values in df_instacart_orders under days_since_prior_order and in df_order_products under add_to_cart_order. Optimal data type for df_instacart_orders['days_since_prior_order'] and df_order_products['add_to_cart_order'] is int64 not float64. "
   ]
  },
  {
   "cell_type": "markdown",
   "id": "07357848-dc64-4156-9cc3-01ff4365226d",
   "metadata": {},
   "source": [
    "## Find and remove duplicate values "
   ]
  },
  {
   "cell_type": "markdown",
   "id": "f179f0a9",
   "metadata": {},
   "source": [
    "### `orders` data frame"
   ]
  },
  {
   "cell_type": "code",
   "execution_count": 7,
   "id": "b99297a5-405a-463d-8535-9adc3da4ad74",
   "metadata": {},
   "outputs": [
    {
     "name": "stdout",
     "output_type": "stream",
     "text": [
      "<class 'pandas.core.frame.DataFrame'>\n",
      "Int64Index: 15 entries, 145574 to 441599\n",
      "Data columns (total 6 columns):\n",
      " #   Column                  Non-Null Count  Dtype  \n",
      "---  ------                  --------------  -----  \n",
      " 0   order_id                15 non-null     int64  \n",
      " 1   user_id                 15 non-null     int64  \n",
      " 2   order_number            15 non-null     int64  \n",
      " 3   order_dow               15 non-null     int64  \n",
      " 4   order_hour_of_day       15 non-null     int64  \n",
      " 5   days_since_prior_order  13 non-null     float64\n",
      "dtypes: float64(1), int64(5)\n",
      "memory usage: 840.0 bytes\n",
      "None\n"
     ]
    }
   ],
   "source": [
    "# Check for duplicated orders\n",
    "# create df of duplicate rows (15 duplicate rows)\n",
    "duplicates = df_instacart_orders[df_instacart_orders.duplicated()]\n",
    "print(duplicates.info())"
   ]
  },
  {
   "cell_type": "code",
   "execution_count": 8,
   "id": "0d44de5d",
   "metadata": {},
   "outputs": [
    {
     "data": {
      "text/html": [
       "<div>\n",
       "<style scoped>\n",
       "    .dataframe tbody tr th:only-of-type {\n",
       "        vertical-align: middle;\n",
       "    }\n",
       "\n",
       "    .dataframe tbody tr th {\n",
       "        vertical-align: top;\n",
       "    }\n",
       "\n",
       "    .dataframe thead th {\n",
       "        text-align: right;\n",
       "    }\n",
       "</style>\n",
       "<table border=\"1\" class=\"dataframe\">\n",
       "  <thead>\n",
       "    <tr style=\"text-align: right;\">\n",
       "      <th></th>\n",
       "      <th>order_id</th>\n",
       "      <th>user_id</th>\n",
       "      <th>order_number</th>\n",
       "      <th>order_dow</th>\n",
       "      <th>order_hour_of_day</th>\n",
       "      <th>days_since_prior_order</th>\n",
       "    </tr>\n",
       "  </thead>\n",
       "  <tbody>\n",
       "    <tr>\n",
       "      <th>4838</th>\n",
       "      <td>2766110</td>\n",
       "      <td>162084</td>\n",
       "      <td>41</td>\n",
       "      <td>3</td>\n",
       "      <td>2</td>\n",
       "      <td>16.0</td>\n",
       "    </tr>\n",
       "    <tr>\n",
       "      <th>5156</th>\n",
       "      <td>2190225</td>\n",
       "      <td>138285</td>\n",
       "      <td>18</td>\n",
       "      <td>3</td>\n",
       "      <td>2</td>\n",
       "      <td>11.0</td>\n",
       "    </tr>\n",
       "    <tr>\n",
       "      <th>15506</th>\n",
       "      <td>553049</td>\n",
       "      <td>58599</td>\n",
       "      <td>13</td>\n",
       "      <td>3</td>\n",
       "      <td>2</td>\n",
       "      <td>7.0</td>\n",
       "    </tr>\n",
       "    <tr>\n",
       "      <th>18420</th>\n",
       "      <td>382357</td>\n",
       "      <td>120200</td>\n",
       "      <td>19</td>\n",
       "      <td>3</td>\n",
       "      <td>2</td>\n",
       "      <td>11.0</td>\n",
       "    </tr>\n",
       "    <tr>\n",
       "      <th>24691</th>\n",
       "      <td>690242</td>\n",
       "      <td>77357</td>\n",
       "      <td>2</td>\n",
       "      <td>3</td>\n",
       "      <td>2</td>\n",
       "      <td>9.0</td>\n",
       "    </tr>\n",
       "    <tr>\n",
       "      <th>...</th>\n",
       "      <td>...</td>\n",
       "      <td>...</td>\n",
       "      <td>...</td>\n",
       "      <td>...</td>\n",
       "      <td>...</td>\n",
       "      <td>...</td>\n",
       "    </tr>\n",
       "    <tr>\n",
       "      <th>457013</th>\n",
       "      <td>3384021</td>\n",
       "      <td>14881</td>\n",
       "      <td>6</td>\n",
       "      <td>3</td>\n",
       "      <td>2</td>\n",
       "      <td>30.0</td>\n",
       "    </tr>\n",
       "    <tr>\n",
       "      <th>458816</th>\n",
       "      <td>910166</td>\n",
       "      <td>164782</td>\n",
       "      <td>18</td>\n",
       "      <td>3</td>\n",
       "      <td>2</td>\n",
       "      <td>4.0</td>\n",
       "    </tr>\n",
       "    <tr>\n",
       "      <th>459635</th>\n",
       "      <td>1680532</td>\n",
       "      <td>106435</td>\n",
       "      <td>6</td>\n",
       "      <td>3</td>\n",
       "      <td>2</td>\n",
       "      <td>21.0</td>\n",
       "    </tr>\n",
       "    <tr>\n",
       "      <th>468324</th>\n",
       "      <td>222962</td>\n",
       "      <td>54979</td>\n",
       "      <td>59</td>\n",
       "      <td>3</td>\n",
       "      <td>2</td>\n",
       "      <td>3.0</td>\n",
       "    </tr>\n",
       "    <tr>\n",
       "      <th>477526</th>\n",
       "      <td>2592344</td>\n",
       "      <td>46860</td>\n",
       "      <td>38</td>\n",
       "      <td>3</td>\n",
       "      <td>2</td>\n",
       "      <td>3.0</td>\n",
       "    </tr>\n",
       "  </tbody>\n",
       "</table>\n",
       "<p>121 rows × 6 columns</p>\n",
       "</div>"
      ],
      "text/plain": [
       "        order_id  user_id  order_number  order_dow  order_hour_of_day  \\\n",
       "4838     2766110   162084            41          3                  2   \n",
       "5156     2190225   138285            18          3                  2   \n",
       "15506     553049    58599            13          3                  2   \n",
       "18420     382357   120200            19          3                  2   \n",
       "24691     690242    77357             2          3                  2   \n",
       "...          ...      ...           ...        ...                ...   \n",
       "457013   3384021    14881             6          3                  2   \n",
       "458816    910166   164782            18          3                  2   \n",
       "459635   1680532   106435             6          3                  2   \n",
       "468324    222962    54979            59          3                  2   \n",
       "477526   2592344    46860            38          3                  2   \n",
       "\n",
       "        days_since_prior_order  \n",
       "4838                      16.0  \n",
       "5156                      11.0  \n",
       "15506                      7.0  \n",
       "18420                     11.0  \n",
       "24691                      9.0  \n",
       "...                        ...  \n",
       "457013                    30.0  \n",
       "458816                     4.0  \n",
       "459635                    21.0  \n",
       "468324                     3.0  \n",
       "477526                     3.0  \n",
       "\n",
       "[121 rows x 6 columns]"
      ]
     },
     "execution_count": 8,
     "metadata": {},
     "output_type": "execute_result"
    }
   ],
   "source": [
    "# Check for all orders placed Wednesday at 2:00 AM\n",
    "# create df of orders placed Wendnesday at 2:00 AM assuming Sunday = 0 (121 orders)\n",
    "wed_orders = df_instacart_orders[(df_instacart_orders['order_dow'] == 3) & (df_instacart_orders['order_hour_of_day'] == 2)]\n",
    "wed_orders"
   ]
  },
  {
   "cell_type": "code",
   "execution_count": 9,
   "id": "480563c7",
   "metadata": {},
   "outputs": [
    {
     "name": "stdout",
     "output_type": "stream",
     "text": [
      "<class 'pandas.core.frame.DataFrame'>\n",
      "RangeIndex: 478952 entries, 0 to 478951\n",
      "Data columns (total 6 columns):\n",
      " #   Column                  Non-Null Count   Dtype  \n",
      "---  ------                  --------------   -----  \n",
      " 0   order_id                478952 non-null  int64  \n",
      " 1   user_id                 478952 non-null  int64  \n",
      " 2   order_number            478952 non-null  int64  \n",
      " 3   order_dow               478952 non-null  int64  \n",
      " 4   order_hour_of_day       478952 non-null  int64  \n",
      " 5   days_since_prior_order  450135 non-null  float64\n",
      "dtypes: float64(1), int64(5)\n",
      "memory usage: 21.9 MB\n",
      "None\n"
     ]
    }
   ],
   "source": [
    "# Remove duplicate orders\n",
    "# filter duplicate orders (478,952 entries after dropping duplicates (478,967 (Original) - 478,952 = 15)\n",
    "df_instacart_orders = df_instacart_orders.drop_duplicates().reset_index(drop=True)\n",
    "print(df_instacart_orders.info())"
   ]
  },
  {
   "cell_type": "code",
   "execution_count": 10,
   "id": "0b2396a2",
   "metadata": {},
   "outputs": [
    {
     "name": "stdout",
     "output_type": "stream",
     "text": [
      "0\n"
     ]
    }
   ],
   "source": [
    "# Double check for duplicate rows\n",
    "# Check for duplicate rows (No duplicate rows)\n",
    "print(df_instacart_orders.duplicated().sum())"
   ]
  },
  {
   "cell_type": "code",
   "execution_count": 11,
   "id": "f6113ef1",
   "metadata": {},
   "outputs": [
    {
     "name": "stdout",
     "output_type": "stream",
     "text": [
      "0\n"
     ]
    }
   ],
   "source": [
    "# Double check for duplicate order IDs only\n",
    "# Check for duplicate order ids (No duplicate order ids)\n",
    "dup_ids = df_instacart_orders['order_id'].duplicated().sum()\n",
    "print(dup_ids)\n",
    "## Updated : changed to df_instacart_orders"
   ]
  },
  {
   "cell_type": "markdown",
   "id": "5e8905ae",
   "metadata": {},
   "source": [
    "**Conclusion :** The analysis above provides a more reliable dataset to make decisions, ensuring resources are allocated efficiently while providing insights that can guide marketing and operational strategies. However, for the purpose of this analysis, we chose to remove the identified duplicates to ensure that they did not skew the results. Additionally, we conducted a check on the \"Order ID\" column and found no duplicate entries, confirming the uniqueness of each order record. While the duplicates we identified were limited in scope, the potential data quality issue could impact the accuracy of reporting, especially if it is indicative of a broader pattern. The data quality team should be informed to ensure this issue is addressed for future analyses."
   ]
  },
  {
   "cell_type": "markdown",
   "id": "45e6bc46",
   "metadata": {},
   "source": [
    "### `products` data frame"
   ]
  },
  {
   "cell_type": "code",
   "execution_count": 12,
   "id": "5f526b5b-8175-46fa-a0fd-441767d50e64",
   "metadata": {},
   "outputs": [
    {
     "name": "stdout",
     "output_type": "stream",
     "text": [
      "<class 'pandas.core.frame.DataFrame'>\n",
      "Int64Index: 0 entries\n",
      "Data columns (total 4 columns):\n",
      " #   Column         Non-Null Count  Dtype \n",
      "---  ------         --------------  ----- \n",
      " 0   product_id     0 non-null      int64 \n",
      " 1   product_name   0 non-null      object\n",
      " 2   aisle_id       0 non-null      int64 \n",
      " 3   department_id  0 non-null      int64 \n",
      "dtypes: int64(3), object(1)\n",
      "memory usage: 0.0+ bytes\n",
      "None\n"
     ]
    }
   ],
   "source": [
    "# Check for fully duplicate rows\n",
    "# create df of duplicate rows (No fully duplicated rows)\n",
    "duplicates = df_products[df_products.duplicated()]\n",
    "print(duplicates.info())"
   ]
  },
  {
   "cell_type": "code",
   "execution_count": 13,
   "id": "88daa4f4",
   "metadata": {},
   "outputs": [
    {
     "name": "stdout",
     "output_type": "stream",
     "text": [
      "<class 'pandas.core.frame.DataFrame'>\n",
      "Int64Index: 0 entries\n",
      "Data columns (total 4 columns):\n",
      " #   Column         Non-Null Count  Dtype \n",
      "---  ------         --------------  ----- \n",
      " 0   product_id     0 non-null      int64 \n",
      " 1   product_name   0 non-null      object\n",
      " 2   aisle_id       0 non-null      int64 \n",
      " 3   department_id  0 non-null      int64 \n",
      "dtypes: int64(3), object(1)\n",
      "memory usage: 0.0+ bytes\n",
      "None\n"
     ]
    }
   ],
   "source": [
    "# Check for just duplicate product IDs\n",
    "# create df of duplicate product ids (No duplicate product ids)\n",
    "dup_product_ids = df_products[df_products['product_id'].duplicated()]\n",
    "print(dup_product_ids.info())"
   ]
  },
  {
   "cell_type": "code",
   "execution_count": 14,
   "id": "c773f0bf",
   "metadata": {},
   "outputs": [
    {
     "data": {
      "text/html": [
       "<div>\n",
       "<style scoped>\n",
       "    .dataframe tbody tr th:only-of-type {\n",
       "        vertical-align: middle;\n",
       "    }\n",
       "\n",
       "    .dataframe tbody tr th {\n",
       "        vertical-align: top;\n",
       "    }\n",
       "\n",
       "    .dataframe thead th {\n",
       "        text-align: right;\n",
       "    }\n",
       "</style>\n",
       "<table border=\"1\" class=\"dataframe\">\n",
       "  <thead>\n",
       "    <tr style=\"text-align: right;\">\n",
       "      <th></th>\n",
       "      <th>product_id</th>\n",
       "      <th>product_name</th>\n",
       "      <th>aisle_id</th>\n",
       "      <th>department_id</th>\n",
       "    </tr>\n",
       "  </thead>\n",
       "  <tbody>\n",
       "    <tr>\n",
       "      <th>71</th>\n",
       "      <td>72</td>\n",
       "      <td>NaN</td>\n",
       "      <td>100</td>\n",
       "      <td>21</td>\n",
       "    </tr>\n",
       "    <tr>\n",
       "      <th>109</th>\n",
       "      <td>110</td>\n",
       "      <td>NaN</td>\n",
       "      <td>100</td>\n",
       "      <td>21</td>\n",
       "    </tr>\n",
       "    <tr>\n",
       "      <th>296</th>\n",
       "      <td>297</td>\n",
       "      <td>NaN</td>\n",
       "      <td>100</td>\n",
       "      <td>21</td>\n",
       "    </tr>\n",
       "    <tr>\n",
       "      <th>416</th>\n",
       "      <td>417</td>\n",
       "      <td>NaN</td>\n",
       "      <td>100</td>\n",
       "      <td>21</td>\n",
       "    </tr>\n",
       "    <tr>\n",
       "      <th>436</th>\n",
       "      <td>437</td>\n",
       "      <td>NaN</td>\n",
       "      <td>100</td>\n",
       "      <td>21</td>\n",
       "    </tr>\n",
       "    <tr>\n",
       "      <th>...</th>\n",
       "      <td>...</td>\n",
       "      <td>...</td>\n",
       "      <td>...</td>\n",
       "      <td>...</td>\n",
       "    </tr>\n",
       "    <tr>\n",
       "      <th>49689</th>\n",
       "      <td>49690</td>\n",
       "      <td>HIGH PERFORMANCE ENERGY DRINK</td>\n",
       "      <td>64</td>\n",
       "      <td>7</td>\n",
       "    </tr>\n",
       "    <tr>\n",
       "      <th>49690</th>\n",
       "      <td>49691</td>\n",
       "      <td>ORIGINAL PANCAKE &amp; WAFFLE MIX</td>\n",
       "      <td>130</td>\n",
       "      <td>14</td>\n",
       "    </tr>\n",
       "    <tr>\n",
       "      <th>49691</th>\n",
       "      <td>49692</td>\n",
       "      <td>ORGANIC INSTANT OATMEAL LIGHT MAPLE BROWN SUGAR</td>\n",
       "      <td>130</td>\n",
       "      <td>14</td>\n",
       "    </tr>\n",
       "    <tr>\n",
       "      <th>49692</th>\n",
       "      <td>49693</td>\n",
       "      <td>SPRING WATER BODY WASH</td>\n",
       "      <td>127</td>\n",
       "      <td>11</td>\n",
       "    </tr>\n",
       "    <tr>\n",
       "      <th>49693</th>\n",
       "      <td>49694</td>\n",
       "      <td>BURRITO- STEAK &amp; CHEESE</td>\n",
       "      <td>38</td>\n",
       "      <td>1</td>\n",
       "    </tr>\n",
       "  </tbody>\n",
       "</table>\n",
       "<p>1361 rows × 4 columns</p>\n",
       "</div>"
      ],
      "text/plain": [
       "       product_id                                     product_name  aisle_id  \\\n",
       "71             72                                              NaN       100   \n",
       "109           110                                              NaN       100   \n",
       "296           297                                              NaN       100   \n",
       "416           417                                              NaN       100   \n",
       "436           437                                              NaN       100   \n",
       "...           ...                                              ...       ...   \n",
       "49689       49690                    HIGH PERFORMANCE ENERGY DRINK        64   \n",
       "49690       49691                    ORIGINAL PANCAKE & WAFFLE MIX       130   \n",
       "49691       49692  ORGANIC INSTANT OATMEAL LIGHT MAPLE BROWN SUGAR       130   \n",
       "49692       49693                           SPRING WATER BODY WASH       127   \n",
       "49693       49694                          BURRITO- STEAK & CHEESE        38   \n",
       "\n",
       "       department_id  \n",
       "71                21  \n",
       "109               21  \n",
       "296               21  \n",
       "416               21  \n",
       "436               21  \n",
       "...              ...  \n",
       "49689              7  \n",
       "49690             14  \n",
       "49691             14  \n",
       "49692             11  \n",
       "49693              1  \n",
       "\n",
       "[1361 rows x 4 columns]"
      ]
     },
     "execution_count": 14,
     "metadata": {},
     "output_type": "execute_result"
    }
   ],
   "source": [
    "# Check for just duplicate product names (convert names to lowercase to compare better)\n",
    "# create df of duplicate product names (1361 rows of duplicate product names - some are duplicate missing values)\n",
    "dup_product_names = df_products[df_products['product_name'].str.lower().duplicated()]\n",
    "dup_product_names"
   ]
  },
  {
   "cell_type": "code",
   "execution_count": 15,
   "id": "01efd02e",
   "metadata": {},
   "outputs": [
    {
     "data": {
      "text/html": [
       "<div>\n",
       "<style scoped>\n",
       "    .dataframe tbody tr th:only-of-type {\n",
       "        vertical-align: middle;\n",
       "    }\n",
       "\n",
       "    .dataframe tbody tr th {\n",
       "        vertical-align: top;\n",
       "    }\n",
       "\n",
       "    .dataframe thead th {\n",
       "        text-align: right;\n",
       "    }\n",
       "</style>\n",
       "<table border=\"1\" class=\"dataframe\">\n",
       "  <thead>\n",
       "    <tr style=\"text-align: right;\">\n",
       "      <th></th>\n",
       "      <th>product_id</th>\n",
       "      <th>product_name</th>\n",
       "      <th>aisle_id</th>\n",
       "      <th>department_id</th>\n",
       "    </tr>\n",
       "  </thead>\n",
       "  <tbody>\n",
       "    <tr>\n",
       "      <th>2058</th>\n",
       "      <td>2059</td>\n",
       "      <td>Biotin 1000 Mcg</td>\n",
       "      <td>47</td>\n",
       "      <td>11</td>\n",
       "    </tr>\n",
       "    <tr>\n",
       "      <th>5455</th>\n",
       "      <td>5456</td>\n",
       "      <td>Green Tea With Ginseng and Honey</td>\n",
       "      <td>96</td>\n",
       "      <td>20</td>\n",
       "    </tr>\n",
       "    <tr>\n",
       "      <th>5558</th>\n",
       "      <td>5559</td>\n",
       "      <td>Cream Of Mushroom Soup</td>\n",
       "      <td>69</td>\n",
       "      <td>15</td>\n",
       "    </tr>\n",
       "    <tr>\n",
       "      <th>7558</th>\n",
       "      <td>7559</td>\n",
       "      <td>Cinnamon Rolls with Icing</td>\n",
       "      <td>105</td>\n",
       "      <td>13</td>\n",
       "    </tr>\n",
       "    <tr>\n",
       "      <th>9037</th>\n",
       "      <td>9038</td>\n",
       "      <td>American Cheese slices</td>\n",
       "      <td>21</td>\n",
       "      <td>16</td>\n",
       "    </tr>\n",
       "    <tr>\n",
       "      <th>...</th>\n",
       "      <td>...</td>\n",
       "      <td>...</td>\n",
       "      <td>...</td>\n",
       "      <td>...</td>\n",
       "    </tr>\n",
       "    <tr>\n",
       "      <th>49689</th>\n",
       "      <td>49690</td>\n",
       "      <td>HIGH PERFORMANCE ENERGY DRINK</td>\n",
       "      <td>64</td>\n",
       "      <td>7</td>\n",
       "    </tr>\n",
       "    <tr>\n",
       "      <th>49690</th>\n",
       "      <td>49691</td>\n",
       "      <td>ORIGINAL PANCAKE &amp; WAFFLE MIX</td>\n",
       "      <td>130</td>\n",
       "      <td>14</td>\n",
       "    </tr>\n",
       "    <tr>\n",
       "      <th>49691</th>\n",
       "      <td>49692</td>\n",
       "      <td>ORGANIC INSTANT OATMEAL LIGHT MAPLE BROWN SUGAR</td>\n",
       "      <td>130</td>\n",
       "      <td>14</td>\n",
       "    </tr>\n",
       "    <tr>\n",
       "      <th>49692</th>\n",
       "      <td>49693</td>\n",
       "      <td>SPRING WATER BODY WASH</td>\n",
       "      <td>127</td>\n",
       "      <td>11</td>\n",
       "    </tr>\n",
       "    <tr>\n",
       "      <th>49693</th>\n",
       "      <td>49694</td>\n",
       "      <td>BURRITO- STEAK &amp; CHEESE</td>\n",
       "      <td>38</td>\n",
       "      <td>1</td>\n",
       "    </tr>\n",
       "  </tbody>\n",
       "</table>\n",
       "<p>104 rows × 4 columns</p>\n",
       "</div>"
      ],
      "text/plain": [
       "       product_id                                     product_name  aisle_id  \\\n",
       "2058         2059                                  Biotin 1000 Mcg        47   \n",
       "5455         5456                 Green Tea With Ginseng and Honey        96   \n",
       "5558         5559                           Cream Of Mushroom Soup        69   \n",
       "7558         7559                        Cinnamon Rolls with Icing       105   \n",
       "9037         9038                           American Cheese slices        21   \n",
       "...           ...                                              ...       ...   \n",
       "49689       49690                    HIGH PERFORMANCE ENERGY DRINK        64   \n",
       "49690       49691                    ORIGINAL PANCAKE & WAFFLE MIX       130   \n",
       "49691       49692  ORGANIC INSTANT OATMEAL LIGHT MAPLE BROWN SUGAR       130   \n",
       "49692       49693                           SPRING WATER BODY WASH       127   \n",
       "49693       49694                          BURRITO- STEAK & CHEESE        38   \n",
       "\n",
       "       department_id  \n",
       "2058              11  \n",
       "5455              20  \n",
       "5558              15  \n",
       "7558              13  \n",
       "9037              16  \n",
       "...              ...  \n",
       "49689              7  \n",
       "49690             14  \n",
       "49691             14  \n",
       "49692             11  \n",
       "49693              1  \n",
       "\n",
       "[104 rows x 4 columns]"
      ]
     },
     "execution_count": 15,
     "metadata": {},
     "output_type": "execute_result"
    }
   ],
   "source": [
    "# Check for duplicate product names that aren't missing\n",
    "# create df of duplicate product names that do not have missing values (1361 (Original) - 104 = 1257 missing values)\n",
    "dup_product_names_2 = dup_product_names[dup_product_names['product_name'].notna()]\n",
    "dup_product_names_2"
   ]
  },
  {
   "cell_type": "markdown",
   "id": "60f30db1",
   "metadata": {},
   "source": [
    "### `departments` data frame"
   ]
  },
  {
   "cell_type": "code",
   "execution_count": 16,
   "id": "fb410ad4-0fbf-4b80-bb09-23fdea79afe3",
   "metadata": {},
   "outputs": [
    {
     "name": "stdout",
     "output_type": "stream",
     "text": [
      "[ 1  2  3  4  5  6  7  8  9 10 11 12 13 14 15 16 17 18 19 20 21]\n"
     ]
    }
   ],
   "source": [
    "# calulate number of unique department ids \n",
    "# 21 unique department ids\n",
    "depart_ids = df_departments['department_id'].unique()\n",
    "print(depart_ids)"
   ]
  },
  {
   "cell_type": "code",
   "execution_count": 17,
   "id": "332b12bb",
   "metadata": {},
   "outputs": [
    {
     "name": "stdout",
     "output_type": "stream",
     "text": [
      "0\n"
     ]
    }
   ],
   "source": [
    "# calulate number of unique department names (same as original length)\n",
    "depart_names = df_departments['department'].duplicated().sum()\n",
    "print(depart_names)\n",
    "## Updated : changed to duplicated().sum()"
   ]
  },
  {
   "cell_type": "markdown",
   "id": "bd30d78e",
   "metadata": {},
   "source": [
    "**Summary :** The uniqueness of department names ensures consistency in how products are categorized across the platform. With 21 distinct department IDs, the business can leverage these categories to improve product recommendations, inventory management, and marketing strategies. Since no duplicates in department names were found, the data is well-organized and can be reliably used for further analysis and segmentation."
   ]
  },
  {
   "cell_type": "markdown",
   "id": "889349c1",
   "metadata": {},
   "source": [
    "### `aisles` data frame"
   ]
  },
  {
   "cell_type": "code",
   "execution_count": 18,
   "id": "9da89fb9-4679-40f5-ad0d-c34df753a3f8",
   "metadata": {},
   "outputs": [
    {
     "name": "stdout",
     "output_type": "stream",
     "text": [
      "134\n"
     ]
    }
   ],
   "source": [
    "# calulate number of unique aisle ids (same as original length)\n",
    "aisle_ids = df_aisles['aisle_id'].unique()\n",
    "print(len(aisle_ids))"
   ]
  },
  {
   "cell_type": "code",
   "execution_count": 19,
   "id": "da7c2822",
   "metadata": {},
   "outputs": [
    {
     "name": "stdout",
     "output_type": "stream",
     "text": [
      "134\n"
     ]
    }
   ],
   "source": [
    "# calulate number of unique aisle names (same as original length)\n",
    "aisle_names = df_aisles['aisle'].unique()\n",
    "print(len(aisle_names))"
   ]
  },
  {
   "cell_type": "markdown",
   "id": "ac63826f",
   "metadata": {},
   "source": [
    "**Summary :** df_departments and df_aisles have all unique values that will be reference for deparment names and aislse names. Df_products will also be referenced but had some missing values. "
   ]
  },
  {
   "cell_type": "markdown",
   "id": "274cd06a",
   "metadata": {},
   "source": [
    "### `order_products` data frame"
   ]
  },
  {
   "cell_type": "code",
   "execution_count": 20,
   "id": "52326689-84a8-4b8f-a881-7c68780f62c9",
   "metadata": {},
   "outputs": [
    {
     "name": "stdout",
     "output_type": "stream",
     "text": [
      "Empty DataFrame\n",
      "Columns: [order_id, product_id, add_to_cart_order, reordered]\n",
      "Index: []\n"
     ]
    }
   ],
   "source": [
    "# Check for fully duplicate rows\n",
    "# create df of duplicated products (Empty df showing no duplicate rows)\n",
    "dup_order_products = df_order_products[df_order_products.duplicated()]\n",
    "print(dup_order_products)\n",
    "\n"
   ]
  },
  {
   "cell_type": "code",
   "execution_count": 21,
   "id": "7b861391",
   "metadata": {},
   "outputs": [
    {
     "name": "stdout",
     "output_type": "stream",
     "text": [
      "0\n",
      "\n",
      "4545007\n"
     ]
    }
   ],
   "source": [
    "# Double check for any other tricky duplicates\n",
    "# create df of duplicated order ids in order_products (4,094,961 order ids share the same value)\n",
    "dup_order_ids = df_order_products.duplicated(subset=['order_id', 'product_id']).sum()\n",
    "print(dup_order_ids)\n",
    "\n",
    "## Added filter for order_id and product_id (No duplicates found where order_id and product id are same value)\n",
    "dup_order_ids_2 = df_order_products.duplicated(subset='order_id').count()\n",
    "print()\n",
    "print(dup_order_ids_2)\n",
    "\n",
    "## Updated : filter for order_id duplicates showing possible multiple product ids per order id\n"
   ]
  },
  {
   "cell_type": "markdown",
   "id": "0b890492",
   "metadata": {},
   "source": [
    "**Summary :** While no significant duplicate data issues were found in terms of exact order-product combinations, the large number of repeated order_id and product_id pairs suggests that customers may frequently reorder the same products in different sessions. This could indicate valuable insights for product recommendation systems or loyalty programs"
   ]
  },
  {
   "cell_type": "markdown",
   "id": "1e46de76",
   "metadata": {},
   "source": [
    "## Find and remove missing values\n"
   ]
  },
  {
   "cell_type": "markdown",
   "id": "c0aebd78",
   "metadata": {},
   "source": [
    "### `products` data frame"
   ]
  },
  {
   "cell_type": "code",
   "execution_count": 22,
   "id": "fe4a8b0f",
   "metadata": {},
   "outputs": [
    {
     "name": "stdout",
     "output_type": "stream",
     "text": [
      "product_id          0\n",
      "product_name     1258\n",
      "aisle_id            0\n",
      "department_id       0\n",
      "dtype: int64\n"
     ]
    }
   ],
   "source": [
    "# create df of missing values\n",
    "products_missing = df_products.isna().sum()\n",
    "print(products_missing)\n",
    "\n",
    "## Updated : changes to isna().sum()"
   ]
  },
  {
   "cell_type": "code",
   "execution_count": 23,
   "id": "e96167bc",
   "metadata": {},
   "outputs": [
    {
     "name": "stdout",
     "output_type": "stream",
     "text": [
      "       product_id product_name  aisle_id  department_id\n",
      "37             38          NaN       100             21\n",
      "71             72          NaN       100             21\n",
      "109           110          NaN       100             21\n",
      "296           297          NaN       100             21\n",
      "416           417          NaN       100             21\n",
      "...           ...          ...       ...            ...\n",
      "49552       49553          NaN       100             21\n",
      "49574       49575          NaN       100             21\n",
      "49640       49641          NaN       100             21\n",
      "49663       49664          NaN       100             21\n",
      "49668       49669          NaN       100             21\n",
      "\n",
      "[1258 rows x 4 columns]\n",
      "100    1258\n",
      "Name: aisle_id, dtype: int64\n"
     ]
    }
   ],
   "source": [
    "# Are all of the missing product names associated with aisle ID 100?\n",
    "# create df of missing product names \n",
    "aisle_check = df_products[df_products['product_name'].isna()]\n",
    "print(aisle_check)\n",
    "\n",
    "# caluclate frequency of values (Only value for aisle_id is 100) (Answer: Yes)\n",
    "aisle_check = aisle_check['aisle_id'].value_counts()                    \n",
    "print(aisle_check)"
   ]
  },
  {
   "cell_type": "code",
   "execution_count": 24,
   "id": "8fd0a541",
   "metadata": {},
   "outputs": [
    {
     "name": "stdout",
     "output_type": "stream",
     "text": [
      "       product_id product_name  aisle_id  department_id\n",
      "37             38          NaN       100             21\n",
      "71             72          NaN       100             21\n",
      "109           110          NaN       100             21\n",
      "296           297          NaN       100             21\n",
      "416           417          NaN       100             21\n",
      "...           ...          ...       ...            ...\n",
      "49552       49553          NaN       100             21\n",
      "49574       49575          NaN       100             21\n",
      "49640       49641          NaN       100             21\n",
      "49663       49664          NaN       100             21\n",
      "49668       49669          NaN       100             21\n",
      "\n",
      "[1258 rows x 4 columns]\n",
      "21    1258\n",
      "Name: department_id, dtype: int64\n"
     ]
    }
   ],
   "source": [
    "# Are all of the missing product names associated with department ID 21?\n",
    "# create df of missing product names\n",
    "department_check = df_products[df_products['product_name'].isna()]\n",
    "print(department_check)\n",
    "\n",
    "# caluclate frequency of values (Only value for department ID is 21) (Answer: Yes)\n",
    "department_check = department_check['department_id'].value_counts()\n",
    "print(department_check)"
   ]
  },
  {
   "cell_type": "code",
   "execution_count": 25,
   "id": "325c3464",
   "metadata": {},
   "outputs": [
    {
     "name": "stdout",
     "output_type": "stream",
     "text": [
      "    aisle_id    aisle\n",
      "99       100  missing\n",
      "    department_id department\n",
      "20             21    missing\n"
     ]
    }
   ],
   "source": [
    "# What is this aisle and department?\n",
    "# pull aisle and department name (aisle and department = 'missing')\n",
    "print(df_aisles[df_aisles['aisle_id'] == 100])\n",
    "print(df_departments[df_departments['department_id'] == 21])\n"
   ]
  },
  {
   "cell_type": "code",
   "execution_count": 26,
   "id": "6b295120",
   "metadata": {},
   "outputs": [
    {
     "name": "stdout",
     "output_type": "stream",
     "text": [
      "0\n"
     ]
    }
   ],
   "source": [
    "# Fill missing product names with 'Unknown'\n",
    "# fill missing product names with 'Unknown'\n",
    "df_products['product_name'] = df_products['product_name'].fillna('Unknown')\n",
    "print(df_products['product_name'].isna().sum())"
   ]
  },
  {
   "cell_type": "markdown",
   "id": "fc70e5ad",
   "metadata": {},
   "source": [
    "**Summary :** The presence of missing product names, especially in the 'missing' aisle and department categories, suggests that some products might not have been fully categorized or labeled in the system. By filling in these gaps with 'Unknown', we ensure that the dataset remains functional for analysis, though further attention should be given to resolving the root cause of these missing values. This will improve the quality of product categorization and support more accurate recommendations and inventory management."
   ]
  },
  {
   "cell_type": "markdown",
   "id": "7eb45c86",
   "metadata": {},
   "source": [
    "### `orders` data frame"
   ]
  },
  {
   "cell_type": "code",
   "execution_count": 27,
   "id": "93e41d96",
   "metadata": {},
   "outputs": [
    {
     "name": "stdout",
     "output_type": "stream",
     "text": [
      "order_id                      0\n",
      "user_id                       0\n",
      "order_number                  0\n",
      "order_dow                     0\n",
      "order_hour_of_day             0\n",
      "days_since_prior_order    28817\n",
      "dtype: int64\n"
     ]
    }
   ],
   "source": [
    "# print sum of missing values (Result could be first time orders)\n",
    "print(df_instacart_orders.isna().sum())"
   ]
  },
  {
   "cell_type": "code",
   "execution_count": 28,
   "id": "166e5a86",
   "metadata": {},
   "outputs": [
    {
     "name": "stdout",
     "output_type": "stream",
     "text": [
      "28       NaN\n",
      "96       NaN\n",
      "100      NaN\n",
      "103      NaN\n",
      "104      NaN\n",
      "          ..\n",
      "478880   NaN\n",
      "478881   NaN\n",
      "478907   NaN\n",
      "478911   NaN\n",
      "478930   NaN\n",
      "Name: days_since_prior_order, Length: 28817, dtype: float64\n"
     ]
    }
   ],
   "source": [
    "# Are there any missing values where it's not a customer's first order?\n",
    "# create df of days_since_prior_order is a missing value (28819 missing values)\n",
    "missing = df_instacart_orders[df_instacart_orders['days_since_prior_order'].isna()]\n",
    "print(missing['days_since_prior_order'])"
   ]
  },
  {
   "cell_type": "markdown",
   "id": "4e23d089",
   "metadata": {},
   "source": []
  },
  {
   "cell_type": "markdown",
   "id": "69dc9ca4",
   "metadata": {},
   "source": [
    "### `order_products` data frame"
   ]
  },
  {
   "cell_type": "code",
   "execution_count": 29,
   "id": "b8240253",
   "metadata": {},
   "outputs": [
    {
     "name": "stdout",
     "output_type": "stream",
     "text": [
      "<class 'pandas.core.frame.DataFrame'>\n",
      "RangeIndex: 4545007 entries, 0 to 4545006\n",
      "Data columns (total 4 columns):\n",
      " #   Column             Dtype  \n",
      "---  ------             -----  \n",
      " 0   order_id           int64  \n",
      " 1   product_id         int64  \n",
      " 2   add_to_cart_order  float64\n",
      " 3   reordered          int64  \n",
      "dtypes: float64(1), int64(3)\n",
      "memory usage: 138.7 MB\n",
      "   order_id  product_id  add_to_cart_order  reordered\n",
      "0   2141543       11440               17.0          0\n",
      "1    567889        1560                1.0          1\n",
      "2   2261212       26683                1.0          1\n",
      "3    491251        8670               35.0          1\n",
      "4   2571142        1940                5.0          1\n"
     ]
    }
   ],
   "source": [
    "# print df info\n",
    "df_order_products.info()\n",
    "print(df_order_products.head())"
   ]
  },
  {
   "cell_type": "code",
   "execution_count": 30,
   "id": "9a78e5ee",
   "metadata": {},
   "outputs": [
    {
     "name": "stdout",
     "output_type": "stream",
     "text": [
      "Min : 1.0\n",
      "Max : 64.0\n"
     ]
    }
   ],
   "source": [
    "# What are the min and max values in this column?\n",
    "# print min and max values\n",
    "# Wow, 64 items in an order is alot!!\n",
    "print(\"Min :\", df_order_products['add_to_cart_order'].min())\n",
    "print(\"Max :\", df_order_products['add_to_cart_order'].max())"
   ]
  },
  {
   "cell_type": "code",
   "execution_count": 31,
   "id": "ab9d0c2b",
   "metadata": {},
   "outputs": [
    {
     "name": "stdout",
     "output_type": "stream",
     "text": [
      "         order_id  product_id  add_to_cart_order  reordered\n",
      "737       2449164        5068                NaN          0\n",
      "9926      1968313       43867                NaN          0\n",
      "14394     2926893       11688                NaN          0\n",
      "16418     1717990        4142                NaN          0\n",
      "30114     1959075       42828                NaN          1\n",
      "...           ...         ...                ...        ...\n",
      "4505662   1800005        7411                NaN          0\n",
      "4511400   1633337         260                NaN          0\n",
      "4517562    404157        9517                NaN          0\n",
      "4534112   1673227       17835                NaN          0\n",
      "4535739   1832957       17949                NaN          1\n",
      "\n",
      "[836 rows x 4 columns]\n"
     ]
    }
   ],
   "source": [
    "# Save all order IDs with at least one missing value in 'add_to_cart_order'\n",
    "# create df of order ids with add_to_cart_order missing values\n",
    "missing = df_order_products[df_order_products['add_to_cart_order'].isna()]\n",
    "print(missing)"
   ]
  },
  {
   "cell_type": "code",
   "execution_count": 32,
   "id": "54c31695",
   "metadata": {},
   "outputs": [
    {
     "name": "stdout",
     "output_type": "stream",
     "text": [
      "         order_id  product_id  add_to_cart_order  reordered\n",
      "267       2094761       31469               57.0          1\n",
      "737       2449164        5068                NaN          0\n",
      "1742      2997021        4920               37.0          0\n",
      "3463       871281       40063               61.0          1\n",
      "3535       171934       36397                7.0          0\n",
      "...           ...         ...                ...        ...\n",
      "4543519   2621907       32018               28.0          1\n",
      "4544672    102236       34688               49.0          0\n",
      "4544708   2256933       41544               21.0          0\n",
      "4544771    180546       12741               46.0          1\n",
      "4544810   2136777       20072               10.0          0\n",
      "\n",
      "[5316 rows x 4 columns]\n",
      "\n",
      "order_id\n",
      "9310        65\n",
      "61355      127\n",
      "102236      95\n",
      "129627      69\n",
      "165801      70\n",
      "          ... \n",
      "2999801     70\n",
      "3125735     86\n",
      "3308010    115\n",
      "3347453     71\n",
      "3383594     69\n",
      "Length: 70, dtype: int64\n",
      "\n",
      "Min Order Size : 65\n"
     ]
    }
   ],
   "source": [
    "# Do all orders with missing values have more than 64 products?\n",
    "## filter the original dataframe to only include orders with missing add_to_cart_order values\n",
    "order_ids_with_missing = df_order_products[df_order_products['order_id'].isin(missing['order_id'].unique())]\n",
    "print(order_ids_with_missing)\n",
    "print()\n",
    "\n",
    "## group by 'order_id' and calculate the size of each order\n",
    "order_sizes = order_ids_with_missing.groupby('order_id').size()\n",
    "print(order_sizes)\n",
    "print()\n",
    "\n",
    "## print min order size\n",
    "min_order_size = order_sizes.min()\n",
    "print('Min Order Size :', min_order_size)"
   ]
  },
  {
   "cell_type": "code",
   "execution_count": 33,
   "id": "7a987d08",
   "metadata": {},
   "outputs": [
    {
     "name": "stdout",
     "output_type": "stream",
     "text": [
      "0\n",
      "\n",
      "<class 'pandas.core.frame.DataFrame'>\n",
      "RangeIndex: 4545007 entries, 0 to 4545006\n",
      "Data columns (total 4 columns):\n",
      " #   Column             Dtype\n",
      "---  ------             -----\n",
      " 0   order_id           int64\n",
      " 1   product_id         int64\n",
      " 2   add_to_cart_order  int64\n",
      " 3   reordered          int64\n",
      "dtypes: int64(4)\n",
      "memory usage: 138.7 MB\n",
      "None\n"
     ]
    }
   ],
   "source": [
    "# Replace missing values with 999 and convert column to integer type\n",
    "# replace missing values with 999 (result: No missing values in add to cart order column)\n",
    "df_order_products['add_to_cart_order'] = df_order_products['add_to_cart_order'].fillna(999)\n",
    "print(df_order_products['add_to_cart_order'].isna().sum())\n",
    "\n",
    "# convert to int\n",
    "df_order_products['add_to_cart_order'] = df_order_products['add_to_cart_order'].astype(int)\n",
    "print()\n",
    "print(df_order_products.info())"
   ]
  },
  {
   "cell_type": "markdown",
   "id": "fea4bcc7",
   "metadata": {},
   "source": [
    "**Summary :** Data quality issues have been addressed resulting in a more usable for further business analysis. Understanding customer behavior regarding card sizes gives insight on inventory management and order fullfillment process. We found that the highest add-to-cart order number is 64, with missing values in this field corresponding to items placed beyond the 64th position (between 65 and 127 items). This suggests a potential technical issue with assigning proper order numbers for items added after the 64th position, which could lead to inaccuracies in tracking the sequence of items in customer carts."
   ]
  },
  {
   "cell_type": "markdown",
   "id": "cc58ea52",
   "metadata": {},
   "source": [
    "<div class=\"alert alert-success\"; style=\"border-left: 7px solid green\">\n",
    "<b>✅ Reviewer's comment, v. 1</b> \n",
    "    \n",
    "Great job! Except for the minor comments I mentioned."
   ]
  },
  {
   "cell_type": "markdown",
   "id": "short-capability",
   "metadata": {},
   "source": [
    "### Verify that the `'order_hour_of_day'` and `'order_dow'` values in the `orders` tables are sensible \n"
   ]
  },
  {
   "cell_type": "code",
   "execution_count": 34,
   "id": "growing-fruit",
   "metadata": {},
   "outputs": [
    {
     "name": "stdout",
     "output_type": "stream",
     "text": [
      "0 to 23\n"
     ]
    }
   ],
   "source": [
    "# print min and max for order hour of day\n",
    "min = df_instacart_orders['order_hour_of_day'].min()\n",
    "max = df_instacart_orders['order_hour_of_day'].max()\n",
    "print(min, \"to\", max)"
   ]
  },
  {
   "cell_type": "code",
   "execution_count": 35,
   "id": "accessory-malaysia",
   "metadata": {},
   "outputs": [
    {
     "name": "stdout",
     "output_type": "stream",
     "text": [
      "0 to 6\n"
     ]
    }
   ],
   "source": [
    "# print min and max for order day of week\n",
    "min = df_instacart_orders['order_dow'].min()\n",
    "max = df_instacart_orders['order_dow'].max()\n",
    "print(min, 'to', max)\n"
   ]
  },
  {
   "cell_type": "markdown",
   "id": "a6743a70",
   "metadata": {},
   "source": [
    "### What time of day do people shop for groceries?"
   ]
  },
  {
   "cell_type": "code",
   "execution_count": 36,
   "id": "a36cca27",
   "metadata": {},
   "outputs": [
    {
     "name": "stdout",
     "output_type": "stream",
     "text": [
      "10    40578\n",
      "11    40032\n",
      "15    39789\n",
      "14    39631\n",
      "13    39007\n",
      "16    38112\n",
      "12    38034\n",
      "Name: order_hour_of_day, dtype: int64\n"
     ]
    },
    {
     "data": {
      "image/png": "[encoded data removed]",
      "text/plain": [
       "<Figure size 640x480 with 1 Axes>"
      ]
     },
     "metadata": {},
     "output_type": "display_data"
    }
   ],
   "source": [
    "# print amount of orders per hour of day \n",
    "print(df_instacart_orders['order_hour_of_day'].value_counts().head(7))\n",
    "\n",
    "# plot distribution of orders by time of day\n",
    "plot_1 = df_instacart_orders['order_hour_of_day'].value_counts()\n",
    "plot_1.sort_index().plot(kind='bar', title=\"Distribution of Orders by Hours\", xlabel='Hour of Day', ylabel='Number of Orders')\n",
    "plt.show()"
   ]
  },
  {
   "cell_type": "markdown",
   "id": "11270eed",
   "metadata": {},
   "source": [
    "**Summary :** Top 7 hours of the day are between 10AM and 4PM. 10AM is the most common. This analysis provides insight on inventory management and proper employee allocation. "
   ]
  },
  {
   "cell_type": "markdown",
   "id": "documented-command",
   "metadata": {},
   "source": [
    "### What day of the week do people shop for groceries?"
   ]
  },
  {
   "cell_type": "code",
   "execution_count": 37,
   "id": "chief-digit",
   "metadata": {},
   "outputs": [
    {
     "name": "stdout",
     "output_type": "stream",
     "text": [
      "0    84090\n",
      "1    82185\n",
      "2    65833\n",
      "Name: order_dow, dtype: int64\n"
     ]
    },
    {
     "data": {
      "image/png": "[encoded data removed]",
      "text/plain": [
       "<Figure size 640x480 with 1 Axes>"
      ]
     },
     "metadata": {},
     "output_type": "display_data"
    }
   ],
   "source": [
    "# print amount of orders per day of week \n",
    "print(df_instacart_orders['order_dow'].value_counts().head(3))\n",
    "\n",
    "# plot distribution of order by day of week\n",
    "plot_2 = df_instacart_orders['order_dow'].value_counts()\n",
    "plot_2.sort_index().plot(kind='bar', title='Distribution of Orders by Day of Week', xlabel='Day of Week', ylabel='Number of Orders')\n",
    "plt.show()"
   ]
  },
  {
   "cell_type": "markdown",
   "id": "dominant-lightning",
   "metadata": {},
   "source": [
    "**Summary :** Assuming Sunday = 0. The top 3 days are Sunday, Monday, and Tuesday. The most common day is Sunday.This analysis provides additional insight into employee allocation and peak days. "
   ]
  },
  {
   "cell_type": "markdown",
   "id": "cutting-concert",
   "metadata": {},
   "source": [
    "### How long do people wait until placing another order?"
   ]
  },
  {
   "cell_type": "code",
   "execution_count": 38,
   "id": "c231f523",
   "metadata": {},
   "outputs": [
    {
     "name": "stdout",
     "output_type": "stream",
     "text": [
      "count    450135.000000\n",
      "mean         11.101814\n",
      "std           9.190004\n",
      "min           0.000000\n",
      "25%           4.000000\n",
      "50%           7.000000\n",
      "75%          15.000000\n",
      "max          30.000000\n",
      "Name: days_since_prior_order, dtype: float64\n",
      "\n",
      "30.0    51337\n",
      "7.0     44577\n",
      "6.0     33930\n",
      "Name: days_since_prior_order, dtype: int64\n"
     ]
    }
   ],
   "source": [
    "# print descriptive statistics of days since prior order \n",
    "print(df_instacart_orders['days_since_prior_order'].describe())\n",
    "\n",
    "# print amount of days since prior order per order \n",
    "print()\n",
    "print(df_instacart_orders['days_since_prior_order'].value_counts().head(3)) "
   ]
  },
  {
   "cell_type": "markdown",
   "id": "discrete-vertex",
   "metadata": {},
   "source": [
    "**Summary :** People spend an average of 11 days since prior order. Top three days between orders are 30, 7, and 6 days respectively. This analysis provides additional insight into marketing strategies. "
   ]
  },
  {
   "cell_type": "code",
   "execution_count": 39,
   "id": "exciting-fantasy",
   "metadata": {},
   "outputs": [
    {
     "data": {
      "image/png": "[encoded data removed]",
      "text/plain": [
       "<Figure size 640x480 with 1 Axes>"
      ]
     },
     "metadata": {},
     "output_type": "display_data"
    }
   ],
   "source": [
    "# plot distribution of reorder frequency\n",
    "plot_3 = df_instacart_orders['days_since_prior_order'].value_counts()\n",
    "plot_3.sort_index().plot(kind='bar', title='Distribution of Reorder Frequency', xlabel='Days Since Prior Order', ylabel='Number of Orders')\n",
    "plt.show()\n"
   ]
  },
  {
   "cell_type": "markdown",
   "id": "packed-classic",
   "metadata": {},
   "source": [
    "### Is there a difference in `'order_hour_of_day'` distributions on Wednesdays and Saturdays? "
   ]
  },
  {
   "cell_type": "code",
   "execution_count": 40,
   "id": "d89b8403",
   "metadata": {},
   "outputs": [
    {
     "data": {
      "image/png": "[encoded data removed]",
      "text/plain": [
       "<Figure size 640x480 with 1 Axes>"
      ]
     },
     "metadata": {},
     "output_type": "display_data"
    }
   ],
   "source": [
    "# filter orders for Wednesday and Saturday and plot histograms\n",
    "df_instacart_orders[df_instacart_orders['order_dow'] == 3]['order_hour_of_day'].plot(kind='hist', bins=72, alpha=0.5, title='Wednesday Orders / Saturday Orders', color='green')\n",
    "df_instacart_orders[df_instacart_orders['order_dow'] == 6]['order_hour_of_day'].plot(kind='hist', bins=72, alpha=0.5, color='orange')\n",
    "\n",
    "# format visualization for easier consumption\n",
    "plt.xlabel('Hour of Day')\n",
    "plt.ylabel('Number of Orders')\n",
    "plt.legend(['Wednesday', 'Saturday'])\n",
    "plt.show()"
   ]
  },
  {
   "cell_type": "markdown",
   "id": "d2637473",
   "metadata": {},
   "source": [
    "**Summary :** The distribution of orders by time of day is similar for Wednesday and Saturday, except for Saturdays between 12 p.m. and 2 p.m."
   ]
  },
  {
   "cell_type": "markdown",
   "id": "e3891143",
   "metadata": {},
   "source": [
    "### What's the distribution for the number of orders per customer?"
   ]
  },
  {
   "cell_type": "code",
   "execution_count": 41,
   "id": "d8c26c23",
   "metadata": {},
   "outputs": [
    {
     "name": "stdout",
     "output_type": "stream",
     "text": [
      "user_id\n",
      "152331     1\n",
      "139876     1\n",
      "60408      1\n",
      "139873     1\n",
      "139871     1\n",
      "          ..\n",
      "66664     24\n",
      "148162    24\n",
      "78375     25\n",
      "193164    26\n",
      "149605    28\n",
      "Name: order_id, Length: 157437, dtype: int64\n"
     ]
    }
   ],
   "source": [
    "# calculate number of orders per customer (1 to 28 orders per customer)\n",
    "orders_per_customer = df_instacart_orders.groupby('user_id')['order_id'].nunique()\n",
    "print(orders_per_customer.sort_values())"
   ]
  },
  {
   "cell_type": "code",
   "execution_count": 42,
   "id": "00e69a66",
   "metadata": {},
   "outputs": [
    {
     "data": {
      "image/png": "[encoded data removed]",
      "text/plain": [
       "<Figure size 640x480 with 1 Axes>"
      ]
     },
     "metadata": {},
     "output_type": "display_data"
    }
   ],
   "source": [
    "# plot histogram and format for consumption\n",
    "orders_per_customer.plot(kind='hist', bins=28, title='Orders per Customer')\n",
    "plt.xlabel('Number of Orders')\n",
    "plt.ylabel('Number of Customers')\n",
    "plt.show()"
   ]
  },
  {
   "cell_type": "markdown",
   "id": "d2eff7d5",
   "metadata": {},
   "source": [
    "**Summary :** The majority of customers have made 1-5 orders with Instacart. "
   ]
  },
  {
   "cell_type": "markdown",
   "id": "54a0319c",
   "metadata": {},
   "source": [
    "### [B3] What are the top 20 popular products (display their id and name)?"
   ]
  },
  {
   "cell_type": "code",
   "execution_count": 43,
   "id": "e0700a80",
   "metadata": {},
   "outputs": [
    {
     "name": "stdout",
     "output_type": "stream",
     "text": [
      "24852    66050\n",
      "13176    53297\n",
      "21137    37039\n",
      "21903    33971\n",
      "47209    29773\n",
      "         ...  \n",
      "10543        1\n",
      "5222         1\n",
      "2347         1\n",
      "11893        1\n",
      "32074        1\n",
      "Name: product_id, Length: 45573, dtype: int64\n",
      "\n",
      "Int64Index([24852, 13176, 21137, 21903, 47209, 47766, 47626, 16797, 26209,\n",
      "            27845, 27966, 22935, 24964, 45007, 39275, 49683, 28204,  5876,\n",
      "             8277, 40706],\n",
      "           dtype='int64')\n",
      "\n",
      "       product_id              product_name\n",
      "5875         5876             Organic Lemon\n",
      "8276         8277  Apple Honeycrisp Organic\n",
      "13175       13176    Bag of Organic Bananas\n",
      "16796       16797              Strawberries\n",
      "21136       21137      Organic Strawberries\n",
      "21902       21903      Organic Baby Spinach\n",
      "22934       22935      Organic Yellow Onion\n",
      "24851       24852                    Banana\n",
      "24963       24964            Organic Garlic\n",
      "26208       26209                     Limes\n",
      "27844       27845        Organic Whole Milk\n",
      "27965       27966       Organic Raspberries\n",
      "28203       28204        Organic Fuji Apple\n",
      "39274       39275       Organic Blueberries\n",
      "40705       40706    Organic Grape Tomatoes\n",
      "45006       45007          Organic Zucchini\n",
      "47208       47209      Organic Hass Avocado\n",
      "47625       47626               Large Lemon\n",
      "47765       47766           Organic Avocado\n",
      "49682       49683            Cucumber Kirby\n"
     ]
    }
   ],
   "source": [
    "# count the number of times each product is ordered\n",
    "product_popularity = df_order_products['product_id'].value_counts()\n",
    "print(product_popularity)\n",
    "\n",
    "# calculate the top 20 most ordered products .index maintains correct index for first 20\n",
    "top_20_product_ids = product_popularity.head(20).index\n",
    "print()\n",
    "print(top_20_product_ids)\n",
    "\n",
    "# split products df with products with top 20 products\n",
    "top_20_product_names = df_products[df_products['product_id'].isin(top_20_product_ids)][['product_id', 'product_name']]\n",
    "print()\n",
    "print(top_20_product_names)\n"
   ]
  },
  {
   "cell_type": "code",
   "execution_count": 44,
   "id": "03204481",
   "metadata": {},
   "outputs": [
    {
     "data": {
      "text/html": [
       "<div>\n",
       "<style scoped>\n",
       "    .dataframe tbody tr th:only-of-type {\n",
       "        vertical-align: middle;\n",
       "    }\n",
       "\n",
       "    .dataframe tbody tr th {\n",
       "        vertical-align: top;\n",
       "    }\n",
       "\n",
       "    .dataframe thead th {\n",
       "        text-align: right;\n",
       "    }\n",
       "</style>\n",
       "<table border=\"1\" class=\"dataframe\">\n",
       "  <thead>\n",
       "    <tr style=\"text-align: right;\">\n",
       "      <th></th>\n",
       "      <th>product_id</th>\n",
       "      <th>product_name</th>\n",
       "      <th>total_orders</th>\n",
       "    </tr>\n",
       "  </thead>\n",
       "  <tbody>\n",
       "    <tr>\n",
       "      <th>24851</th>\n",
       "      <td>24852</td>\n",
       "      <td>Banana</td>\n",
       "      <td>66050</td>\n",
       "    </tr>\n",
       "    <tr>\n",
       "      <th>13175</th>\n",
       "      <td>13176</td>\n",
       "      <td>Bag of Organic Bananas</td>\n",
       "      <td>53297</td>\n",
       "    </tr>\n",
       "    <tr>\n",
       "      <th>21136</th>\n",
       "      <td>21137</td>\n",
       "      <td>Organic Strawberries</td>\n",
       "      <td>37039</td>\n",
       "    </tr>\n",
       "    <tr>\n",
       "      <th>21902</th>\n",
       "      <td>21903</td>\n",
       "      <td>Organic Baby Spinach</td>\n",
       "      <td>33971</td>\n",
       "    </tr>\n",
       "    <tr>\n",
       "      <th>47208</th>\n",
       "      <td>47209</td>\n",
       "      <td>Organic Hass Avocado</td>\n",
       "      <td>29773</td>\n",
       "    </tr>\n",
       "    <tr>\n",
       "      <th>47765</th>\n",
       "      <td>47766</td>\n",
       "      <td>Organic Avocado</td>\n",
       "      <td>24689</td>\n",
       "    </tr>\n",
       "    <tr>\n",
       "      <th>47625</th>\n",
       "      <td>47626</td>\n",
       "      <td>Large Lemon</td>\n",
       "      <td>21495</td>\n",
       "    </tr>\n",
       "    <tr>\n",
       "      <th>16796</th>\n",
       "      <td>16797</td>\n",
       "      <td>Strawberries</td>\n",
       "      <td>20018</td>\n",
       "    </tr>\n",
       "    <tr>\n",
       "      <th>26208</th>\n",
       "      <td>26209</td>\n",
       "      <td>Limes</td>\n",
       "      <td>19690</td>\n",
       "    </tr>\n",
       "    <tr>\n",
       "      <th>27844</th>\n",
       "      <td>27845</td>\n",
       "      <td>Organic Whole Milk</td>\n",
       "      <td>19600</td>\n",
       "    </tr>\n",
       "    <tr>\n",
       "      <th>27965</th>\n",
       "      <td>27966</td>\n",
       "      <td>Organic Raspberries</td>\n",
       "      <td>19197</td>\n",
       "    </tr>\n",
       "    <tr>\n",
       "      <th>22934</th>\n",
       "      <td>22935</td>\n",
       "      <td>Organic Yellow Onion</td>\n",
       "      <td>15898</td>\n",
       "    </tr>\n",
       "    <tr>\n",
       "      <th>24963</th>\n",
       "      <td>24964</td>\n",
       "      <td>Organic Garlic</td>\n",
       "      <td>15292</td>\n",
       "    </tr>\n",
       "    <tr>\n",
       "      <th>45006</th>\n",
       "      <td>45007</td>\n",
       "      <td>Organic Zucchini</td>\n",
       "      <td>14584</td>\n",
       "    </tr>\n",
       "    <tr>\n",
       "      <th>39274</th>\n",
       "      <td>39275</td>\n",
       "      <td>Organic Blueberries</td>\n",
       "      <td>13879</td>\n",
       "    </tr>\n",
       "    <tr>\n",
       "      <th>49682</th>\n",
       "      <td>49683</td>\n",
       "      <td>Cucumber Kirby</td>\n",
       "      <td>13675</td>\n",
       "    </tr>\n",
       "    <tr>\n",
       "      <th>28203</th>\n",
       "      <td>28204</td>\n",
       "      <td>Organic Fuji Apple</td>\n",
       "      <td>12544</td>\n",
       "    </tr>\n",
       "    <tr>\n",
       "      <th>5875</th>\n",
       "      <td>5876</td>\n",
       "      <td>Organic Lemon</td>\n",
       "      <td>12232</td>\n",
       "    </tr>\n",
       "    <tr>\n",
       "      <th>8276</th>\n",
       "      <td>8277</td>\n",
       "      <td>Apple Honeycrisp Organic</td>\n",
       "      <td>11993</td>\n",
       "    </tr>\n",
       "    <tr>\n",
       "      <th>40705</th>\n",
       "      <td>40706</td>\n",
       "      <td>Organic Grape Tomatoes</td>\n",
       "      <td>11781</td>\n",
       "    </tr>\n",
       "  </tbody>\n",
       "</table>\n",
       "</div>"
      ],
      "text/plain": [
       "       product_id              product_name  total_orders\n",
       "24851       24852                    Banana         66050\n",
       "13175       13176    Bag of Organic Bananas         53297\n",
       "21136       21137      Organic Strawberries         37039\n",
       "21902       21903      Organic Baby Spinach         33971\n",
       "47208       47209      Organic Hass Avocado         29773\n",
       "47765       47766           Organic Avocado         24689\n",
       "47625       47626               Large Lemon         21495\n",
       "16796       16797              Strawberries         20018\n",
       "26208       26209                     Limes         19690\n",
       "27844       27845        Organic Whole Milk         19600\n",
       "27965       27966       Organic Raspberries         19197\n",
       "22934       22935      Organic Yellow Onion         15898\n",
       "24963       24964            Organic Garlic         15292\n",
       "45006       45007          Organic Zucchini         14584\n",
       "39274       39275       Organic Blueberries         13879\n",
       "49682       49683            Cucumber Kirby         13675\n",
       "28203       28204        Organic Fuji Apple         12544\n",
       "5875         5876             Organic Lemon         12232\n",
       "8276         8277  Apple Honeycrisp Organic         11993\n",
       "40705       40706    Organic Grape Tomatoes         11781"
      ]
     },
     "execution_count": 44,
     "metadata": {},
     "output_type": "execute_result"
    }
   ],
   "source": [
    "# add total orders column to check\n",
    "top_20_product_names['total_orders'] = top_20_product_names['product_id'].map(product_popularity)\n",
    "\n",
    "# sort df\n",
    "top_20_product_names_sorted = top_20_product_names.sort_values(by='total_orders', ascending=False)\n",
    "top_20_product_names_sorted"
   ]
  },
  {
   "cell_type": "markdown",
   "id": "5e6b5537",
   "metadata": {},
   "source": [
    "### What are the top 20 items that are reordered most frequently?"
   ]
  },
  {
   "cell_type": "code",
   "execution_count": 45,
   "id": "9374e55a",
   "metadata": {},
   "outputs": [
    {
     "name": "stdout",
     "output_type": "stream",
     "text": [
      "         order_id  product_id  add_to_cart_order  reordered\n",
      "1          567889        1560                  1          1\n",
      "2         2261212       26683                  1          1\n",
      "3          491251        8670                 35          1\n",
      "4         2571142        1940                  5          1\n",
      "5         2456893       21616                  4          1\n",
      "...           ...         ...                ...        ...\n",
      "4544999   1622300       24852                  1          1\n",
      "4545000   1125324       40600                  6          1\n",
      "4545002    577211       15290                 12          1\n",
      "4545004    692640       47766                  4          1\n",
      "4545005    319435         691                  8          1\n",
      "\n",
      "[2683838 rows x 4 columns]\n",
      "product_id\n",
      "1        158\n",
      "3         31\n",
      "4         25\n",
      "7          1\n",
      "8          6\n",
      "        ... \n",
      "49690      4\n",
      "49691     31\n",
      "49692      5\n",
      "49693     11\n",
      "49694      3\n",
      "Name: order_id, Length: 36228, dtype: int64\n"
     ]
    }
   ],
   "source": [
    "# create df of reordered products\n",
    "reordered_products = df_order_products[df_order_products['reordered'] == 1]\n",
    "print(reordered_products)\n",
    "\n",
    "# count total orders on a reoder product\n",
    "reordered_counts = reordered_products.groupby('product_id')['order_id'].count()\n",
    "print(reordered_counts)"
   ]
  },
  {
   "cell_type": "code",
   "execution_count": 46,
   "id": "possible-change",
   "metadata": {},
   "outputs": [
    {
     "name": "stdout",
     "output_type": "stream",
     "text": [
      "product_id\n",
      "24852    55763\n",
      "13176    44450\n",
      "21137    28639\n",
      "21903    26233\n",
      "47209    23629\n",
      "47766    18743\n",
      "27845    16251\n",
      "47626    15044\n",
      "27966    14748\n",
      "16797    13945\n",
      "26209    13327\n",
      "22935    11145\n",
      "24964    10411\n",
      "45007    10076\n",
      "49683     9538\n",
      "28204     8989\n",
      "8277      8836\n",
      "39275     8799\n",
      "5876      8412\n",
      "49235     8389\n",
      "Name: total_reorders, dtype: int64\n"
     ]
    }
   ],
   "source": [
    "# sort by reorder frequency and grab first 20\n",
    "top_20_reordered_products = reordered_counts.sort_values(ascending=False).head(20)\n",
    "top_20_reordered_products.name = \"total_reorders\"\n",
    "print(top_20_reordered_products)"
   ]
  },
  {
   "cell_type": "code",
   "execution_count": 47,
   "id": "professional-surfing",
   "metadata": {
    "scrolled": true
   },
   "outputs": [
    {
     "name": "stdout",
     "output_type": "stream",
     "text": [
      "       product_id              product_name\n",
      "5875         5876             Organic Lemon\n",
      "8276         8277  Apple Honeycrisp Organic\n",
      "13175       13176    Bag of Organic Bananas\n",
      "16796       16797              Strawberries\n",
      "21136       21137      Organic Strawberries\n",
      "21902       21903      Organic Baby Spinach\n",
      "22934       22935      Organic Yellow Onion\n",
      "24851       24852                    Banana\n",
      "24963       24964            Organic Garlic\n",
      "26208       26209                     Limes\n",
      "27844       27845        Organic Whole Milk\n",
      "27965       27966       Organic Raspberries\n",
      "28203       28204        Organic Fuji Apple\n",
      "39274       39275       Organic Blueberries\n",
      "45006       45007          Organic Zucchini\n",
      "47208       47209      Organic Hass Avocado\n",
      "47625       47626               Large Lemon\n",
      "47765       47766           Organic Avocado\n",
      "49234       49235       Organic Half & Half\n",
      "49682       49683            Cucumber Kirby\n"
     ]
    }
   ],
   "source": [
    "# Split products df by top 20 products based on reorder frequency\n",
    "top_20_product_names = df_products[df_products['product_id'].isin(top_20_reordered_products.index)][['product_id', 'product_name']]\n",
    "print(top_20_product_names)"
   ]
  },
  {
   "cell_type": "code",
   "execution_count": 48,
   "id": "02a268fc",
   "metadata": {},
   "outputs": [
    {
     "name": "stdout",
     "output_type": "stream",
     "text": [
      "    product_id  total_reorders              product_name\n",
      "0        24852           55763                    Banana\n",
      "1        13176           44450    Bag of Organic Bananas\n",
      "2        21137           28639      Organic Strawberries\n",
      "3        21903           26233      Organic Baby Spinach\n",
      "4        47209           23629      Organic Hass Avocado\n",
      "5        47766           18743           Organic Avocado\n",
      "6        27845           16251        Organic Whole Milk\n",
      "7        47626           15044               Large Lemon\n",
      "8        27966           14748       Organic Raspberries\n",
      "9        16797           13945              Strawberries\n",
      "10       26209           13327                     Limes\n",
      "11       22935           11145      Organic Yellow Onion\n",
      "12       24964           10411            Organic Garlic\n",
      "13       45007           10076          Organic Zucchini\n",
      "14       49683            9538            Cucumber Kirby\n",
      "15       28204            8989        Organic Fuji Apple\n",
      "16        8277            8836  Apple Honeycrisp Organic\n",
      "17       39275            8799       Organic Blueberries\n",
      "18        5876            8412             Organic Lemon\n",
      "19       49235            8389       Organic Half & Half\n"
     ]
    }
   ],
   "source": [
    "# merge top 20 reoder frequency and top 20 product\n",
    "top_20_reordered_details = pd.merge(top_20_reordered_products, top_20_product_names, on='product_id')\n",
    "\n",
    "# add total orders column\n",
    "# top_20_reordered_details['total_reorders'] = top_20_reordered_details['product_id'].map(top_20_reordered_products)\n",
    "print(top_20_reordered_details)"
   ]
  },
  {
   "cell_type": "code",
   "execution_count": 49,
   "id": "48dd3658",
   "metadata": {},
   "outputs": [
    {
     "data": {
      "text/html": [
       "<div>\n",
       "<style scoped>\n",
       "    .dataframe tbody tr th:only-of-type {\n",
       "        vertical-align: middle;\n",
       "    }\n",
       "\n",
       "    .dataframe tbody tr th {\n",
       "        vertical-align: top;\n",
       "    }\n",
       "\n",
       "    .dataframe thead th {\n",
       "        text-align: right;\n",
       "    }\n",
       "</style>\n",
       "<table border=\"1\" class=\"dataframe\">\n",
       "  <thead>\n",
       "    <tr style=\"text-align: right;\">\n",
       "      <th></th>\n",
       "      <th>product_id</th>\n",
       "      <th>product_name</th>\n",
       "      <th>total_reorders</th>\n",
       "    </tr>\n",
       "  </thead>\n",
       "  <tbody>\n",
       "    <tr>\n",
       "      <th>0</th>\n",
       "      <td>24852</td>\n",
       "      <td>Banana</td>\n",
       "      <td>55763</td>\n",
       "    </tr>\n",
       "    <tr>\n",
       "      <th>1</th>\n",
       "      <td>13176</td>\n",
       "      <td>Bag of Organic Bananas</td>\n",
       "      <td>44450</td>\n",
       "    </tr>\n",
       "    <tr>\n",
       "      <th>2</th>\n",
       "      <td>21137</td>\n",
       "      <td>Organic Strawberries</td>\n",
       "      <td>28639</td>\n",
       "    </tr>\n",
       "    <tr>\n",
       "      <th>3</th>\n",
       "      <td>21903</td>\n",
       "      <td>Organic Baby Spinach</td>\n",
       "      <td>26233</td>\n",
       "    </tr>\n",
       "    <tr>\n",
       "      <th>4</th>\n",
       "      <td>47209</td>\n",
       "      <td>Organic Hass Avocado</td>\n",
       "      <td>23629</td>\n",
       "    </tr>\n",
       "    <tr>\n",
       "      <th>5</th>\n",
       "      <td>47766</td>\n",
       "      <td>Organic Avocado</td>\n",
       "      <td>18743</td>\n",
       "    </tr>\n",
       "    <tr>\n",
       "      <th>6</th>\n",
       "      <td>27845</td>\n",
       "      <td>Organic Whole Milk</td>\n",
       "      <td>16251</td>\n",
       "    </tr>\n",
       "    <tr>\n",
       "      <th>7</th>\n",
       "      <td>47626</td>\n",
       "      <td>Large Lemon</td>\n",
       "      <td>15044</td>\n",
       "    </tr>\n",
       "    <tr>\n",
       "      <th>8</th>\n",
       "      <td>27966</td>\n",
       "      <td>Organic Raspberries</td>\n",
       "      <td>14748</td>\n",
       "    </tr>\n",
       "    <tr>\n",
       "      <th>9</th>\n",
       "      <td>16797</td>\n",
       "      <td>Strawberries</td>\n",
       "      <td>13945</td>\n",
       "    </tr>\n",
       "    <tr>\n",
       "      <th>10</th>\n",
       "      <td>26209</td>\n",
       "      <td>Limes</td>\n",
       "      <td>13327</td>\n",
       "    </tr>\n",
       "    <tr>\n",
       "      <th>11</th>\n",
       "      <td>22935</td>\n",
       "      <td>Organic Yellow Onion</td>\n",
       "      <td>11145</td>\n",
       "    </tr>\n",
       "    <tr>\n",
       "      <th>12</th>\n",
       "      <td>24964</td>\n",
       "      <td>Organic Garlic</td>\n",
       "      <td>10411</td>\n",
       "    </tr>\n",
       "    <tr>\n",
       "      <th>13</th>\n",
       "      <td>45007</td>\n",
       "      <td>Organic Zucchini</td>\n",
       "      <td>10076</td>\n",
       "    </tr>\n",
       "    <tr>\n",
       "      <th>14</th>\n",
       "      <td>49683</td>\n",
       "      <td>Cucumber Kirby</td>\n",
       "      <td>9538</td>\n",
       "    </tr>\n",
       "    <tr>\n",
       "      <th>15</th>\n",
       "      <td>28204</td>\n",
       "      <td>Organic Fuji Apple</td>\n",
       "      <td>8989</td>\n",
       "    </tr>\n",
       "    <tr>\n",
       "      <th>16</th>\n",
       "      <td>8277</td>\n",
       "      <td>Apple Honeycrisp Organic</td>\n",
       "      <td>8836</td>\n",
       "    </tr>\n",
       "    <tr>\n",
       "      <th>17</th>\n",
       "      <td>39275</td>\n",
       "      <td>Organic Blueberries</td>\n",
       "      <td>8799</td>\n",
       "    </tr>\n",
       "    <tr>\n",
       "      <th>18</th>\n",
       "      <td>5876</td>\n",
       "      <td>Organic Lemon</td>\n",
       "      <td>8412</td>\n",
       "    </tr>\n",
       "    <tr>\n",
       "      <th>19</th>\n",
       "      <td>49235</td>\n",
       "      <td>Organic Half &amp; Half</td>\n",
       "      <td>8389</td>\n",
       "    </tr>\n",
       "  </tbody>\n",
       "</table>\n",
       "</div>"
      ],
      "text/plain": [
       "    product_id              product_name  total_reorders\n",
       "0        24852                    Banana           55763\n",
       "1        13176    Bag of Organic Bananas           44450\n",
       "2        21137      Organic Strawberries           28639\n",
       "3        21903      Organic Baby Spinach           26233\n",
       "4        47209      Organic Hass Avocado           23629\n",
       "5        47766           Organic Avocado           18743\n",
       "6        27845        Organic Whole Milk           16251\n",
       "7        47626               Large Lemon           15044\n",
       "8        27966       Organic Raspberries           14748\n",
       "9        16797              Strawberries           13945\n",
       "10       26209                     Limes           13327\n",
       "11       22935      Organic Yellow Onion           11145\n",
       "12       24964            Organic Garlic           10411\n",
       "13       45007          Organic Zucchini           10076\n",
       "14       49683            Cucumber Kirby            9538\n",
       "15       28204        Organic Fuji Apple            8989\n",
       "16        8277  Apple Honeycrisp Organic            8836\n",
       "17       39275       Organic Blueberries            8799\n",
       "18        5876             Organic Lemon            8412\n",
       "19       49235       Organic Half & Half            8389"
      ]
     },
     "execution_count": 49,
     "metadata": {},
     "output_type": "execute_result"
    }
   ],
   "source": [
    "# reorder columns\n",
    "top_20_display = top_20_reordered_details[['product_id', 'product_name', 'total_reorders']]\n",
    "top_20_display"
   ]
  },
  {
   "cell_type": "markdown",
   "id": "80e70c74",
   "metadata": {},
   "source": [
    "**Summary :** Top 5 redordered products bananas, organic bananas, organic strawberries, organic baby spinach, and organic hass avocado. Providing insight to future inventory needs. "
   ]
  },
  {
   "cell_type": "markdown",
   "id": "9d312b14",
   "metadata": {},
   "source": [
    "### For each product, what proportion of its orders are reorders?"
   ]
  },
  {
   "cell_type": "code",
   "execution_count": 50,
   "id": "8ae9f4b1",
   "metadata": {},
   "outputs": [
    {
     "name": "stdout",
     "output_type": "stream",
     "text": [
      "product_id\n",
      "1        280\n",
      "2         11\n",
      "3         42\n",
      "4         49\n",
      "7          2\n",
      "        ... \n",
      "49690      5\n",
      "49691     72\n",
      "49692     12\n",
      "49693     25\n",
      "49694      9\n",
      "Name: order_id, Length: 45573, dtype: int64\n",
      "\n",
      "product_id\n",
      "1        158\n",
      "3         31\n",
      "4         25\n",
      "7          1\n",
      "8          6\n",
      "        ... \n",
      "49690      4\n",
      "49691     31\n",
      "49692      5\n",
      "49693     11\n",
      "49694      3\n",
      "Name: order_id, Length: 36228, dtype: int64\n"
     ]
    }
   ],
   "source": [
    "# calculate the total number of orders for each product\n",
    "total_orders_per_product = df_order_products.groupby('product_id')['order_id'].count()\n",
    "print(total_orders_per_product)\n",
    "\n",
    "# calculate the total number of reorders\n",
    "reorders_per_product = df_order_products[df_order_products['reordered'] == 1].groupby('product_id')['order_id'].count()\n",
    "print()\n",
    "print(reorders_per_product)\n",
    "\n",
    "# calculate the reorder proportion for each product\n",
    "reorder_proportion = reorders_per_product / total_orders_per_product"
   ]
  },
  {
   "cell_type": "code",
   "execution_count": 51,
   "id": "103e7fe1",
   "metadata": {},
   "outputs": [
    {
     "name": "stdout",
     "output_type": "stream",
     "text": [
      "       product_id                                       product_name\n",
      "0               1                         Chocolate Sandwich Cookies\n",
      "1               2                                   All-Seasons Salt\n",
      "2               3               Robust Golden Unsweetened Oolong Tea\n",
      "3               4  Smart Ones Classic Favorites Mini Rigatoni Wit...\n",
      "4               5                          Green Chile Anytime Sauce\n",
      "...           ...                                                ...\n",
      "49689       49690                      HIGH PERFORMANCE ENERGY DRINK\n",
      "49690       49691                      ORIGINAL PANCAKE & WAFFLE MIX\n",
      "49691       49692    ORGANIC INSTANT OATMEAL LIGHT MAPLE BROWN SUGAR\n",
      "49692       49693                             SPRING WATER BODY WASH\n",
      "49693       49694                            BURRITO- STEAK & CHEESE\n",
      "\n",
      "[49694 rows x 2 columns]\n",
      "\n",
      "       product_id  total_orders  reorders\n",
      "0               1           280     158.0\n",
      "1               2            11       NaN\n",
      "2               3            42      31.0\n",
      "3               4            49      25.0\n",
      "4               7             2       1.0\n",
      "...           ...           ...       ...\n",
      "45568       49690             5       4.0\n",
      "45569       49691            72      31.0\n",
      "45570       49692            12       5.0\n",
      "45571       49693            25      11.0\n",
      "45572       49694             9       3.0\n",
      "\n",
      "[45573 rows x 3 columns]\n"
     ]
    }
   ],
   "source": [
    "# Split products df into df with id and name\n",
    "product_details = df_products[['product_id', 'product_name']]\n",
    "print(product_details)\n",
    "\n",
    "# create df including total orders and reorders\n",
    "orders_and_reorders = pd.DataFrame({\n",
    "    'total_orders': total_orders_per_product,\n",
    "    'reorders': reorders_per_product\n",
    "}).reset_index()\n",
    "print()\n",
    "print(orders_and_reorders)"
   ]
  },
  {
   "cell_type": "code",
   "execution_count": 52,
   "id": "40661b89",
   "metadata": {},
   "outputs": [
    {
     "name": "stdout",
     "output_type": "stream",
     "text": [
      "       product_id  total_orders  reorders  \\\n",
      "0               1           280     158.0   \n",
      "1               2            11       NaN   \n",
      "2               3            42      31.0   \n",
      "3               4            49      25.0   \n",
      "4               7             2       1.0   \n",
      "...           ...           ...       ...   \n",
      "45568       49690             5       4.0   \n",
      "45569       49691            72      31.0   \n",
      "45570       49692            12       5.0   \n",
      "45571       49693            25      11.0   \n",
      "45572       49694             9       3.0   \n",
      "\n",
      "                                            product_name  \n",
      "0                             Chocolate Sandwich Cookies  \n",
      "1                                       All-Seasons Salt  \n",
      "2                   Robust Golden Unsweetened Oolong Tea  \n",
      "3      Smart Ones Classic Favorites Mini Rigatoni Wit...  \n",
      "4                         Pure Coconut Water With Orange  \n",
      "...                                                  ...  \n",
      "45568                      HIGH PERFORMANCE ENERGY DRINK  \n",
      "45569                      ORIGINAL PANCAKE & WAFFLE MIX  \n",
      "45570    ORGANIC INSTANT OATMEAL LIGHT MAPLE BROWN SUGAR  \n",
      "45571                             SPRING WATER BODY WASH  \n",
      "45572                            BURRITO- STEAK & CHEESE  \n",
      "\n",
      "[45573 rows x 4 columns]\n",
      "\n",
      "       product_id  total_orders  reorders  \\\n",
      "0               1           280     158.0   \n",
      "1               2            11       NaN   \n",
      "2               3            42      31.0   \n",
      "3               4            49      25.0   \n",
      "4               7             2       1.0   \n",
      "...           ...           ...       ...   \n",
      "45568       49690             5       4.0   \n",
      "45569       49691            72      31.0   \n",
      "45570       49692            12       5.0   \n",
      "45571       49693            25      11.0   \n",
      "45572       49694             9       3.0   \n",
      "\n",
      "                                            product_name  reorder_proportion  \n",
      "0                             Chocolate Sandwich Cookies                56.4  \n",
      "1                                       All-Seasons Salt                 NaN  \n",
      "2                   Robust Golden Unsweetened Oolong Tea                73.8  \n",
      "3      Smart Ones Classic Favorites Mini Rigatoni Wit...                51.0  \n",
      "4                         Pure Coconut Water With Orange                50.0  \n",
      "...                                                  ...                 ...  \n",
      "45568                      HIGH PERFORMANCE ENERGY DRINK                80.0  \n",
      "45569                      ORIGINAL PANCAKE & WAFFLE MIX                43.1  \n",
      "45570    ORGANIC INSTANT OATMEAL LIGHT MAPLE BROWN SUGAR                41.7  \n",
      "45571                             SPRING WATER BODY WASH                44.0  \n",
      "45572                            BURRITO- STEAK & CHEESE                33.3  \n",
      "\n",
      "[45573 rows x 5 columns]\n"
     ]
    }
   ],
   "source": [
    "# Merge with product details df created earlier\n",
    "orders_and_reorders = pd.merge(orders_and_reorders, product_details, on='product_id', how='left')\n",
    "print(orders_and_reorders)\n",
    "\n",
    "# add reorder_proportion column \n",
    "orders_and_reorders['reorder_proportion'] = ((orders_and_reorders['reorders'] / orders_and_reorders['total_orders']) * 100).round(1)\n",
    "print()\n",
    "print(orders_and_reorders)"
   ]
  },
  {
   "cell_type": "code",
   "execution_count": 53,
   "id": "social-individual",
   "metadata": {},
   "outputs": [
    {
     "data": {
      "text/html": [
       "<div>\n",
       "<style scoped>\n",
       "    .dataframe tbody tr th:only-of-type {\n",
       "        vertical-align: middle;\n",
       "    }\n",
       "\n",
       "    .dataframe tbody tr th {\n",
       "        vertical-align: top;\n",
       "    }\n",
       "\n",
       "    .dataframe thead th {\n",
       "        text-align: right;\n",
       "    }\n",
       "</style>\n",
       "<table border=\"1\" class=\"dataframe\">\n",
       "  <thead>\n",
       "    <tr style=\"text-align: right;\">\n",
       "      <th></th>\n",
       "      <th>product_id</th>\n",
       "      <th>product_name</th>\n",
       "      <th>total_orders</th>\n",
       "      <th>reorders</th>\n",
       "      <th>reorder_proportion</th>\n",
       "    </tr>\n",
       "  </thead>\n",
       "  <tbody>\n",
       "    <tr>\n",
       "      <th>0</th>\n",
       "      <td>1</td>\n",
       "      <td>Chocolate Sandwich Cookies</td>\n",
       "      <td>280</td>\n",
       "      <td>158.0</td>\n",
       "      <td>56.4</td>\n",
       "    </tr>\n",
       "    <tr>\n",
       "      <th>1</th>\n",
       "      <td>2</td>\n",
       "      <td>All-Seasons Salt</td>\n",
       "      <td>11</td>\n",
       "      <td>NaN</td>\n",
       "      <td>NaN</td>\n",
       "    </tr>\n",
       "    <tr>\n",
       "      <th>2</th>\n",
       "      <td>3</td>\n",
       "      <td>Robust Golden Unsweetened Oolong Tea</td>\n",
       "      <td>42</td>\n",
       "      <td>31.0</td>\n",
       "      <td>73.8</td>\n",
       "    </tr>\n",
       "    <tr>\n",
       "      <th>3</th>\n",
       "      <td>4</td>\n",
       "      <td>Smart Ones Classic Favorites Mini Rigatoni Wit...</td>\n",
       "      <td>49</td>\n",
       "      <td>25.0</td>\n",
       "      <td>51.0</td>\n",
       "    </tr>\n",
       "    <tr>\n",
       "      <th>4</th>\n",
       "      <td>7</td>\n",
       "      <td>Pure Coconut Water With Orange</td>\n",
       "      <td>2</td>\n",
       "      <td>1.0</td>\n",
       "      <td>50.0</td>\n",
       "    </tr>\n",
       "    <tr>\n",
       "      <th>...</th>\n",
       "      <td>...</td>\n",
       "      <td>...</td>\n",
       "      <td>...</td>\n",
       "      <td>...</td>\n",
       "      <td>...</td>\n",
       "    </tr>\n",
       "    <tr>\n",
       "      <th>45568</th>\n",
       "      <td>49690</td>\n",
       "      <td>HIGH PERFORMANCE ENERGY DRINK</td>\n",
       "      <td>5</td>\n",
       "      <td>4.0</td>\n",
       "      <td>80.0</td>\n",
       "    </tr>\n",
       "    <tr>\n",
       "      <th>45569</th>\n",
       "      <td>49691</td>\n",
       "      <td>ORIGINAL PANCAKE &amp; WAFFLE MIX</td>\n",
       "      <td>72</td>\n",
       "      <td>31.0</td>\n",
       "      <td>43.1</td>\n",
       "    </tr>\n",
       "    <tr>\n",
       "      <th>45570</th>\n",
       "      <td>49692</td>\n",
       "      <td>ORGANIC INSTANT OATMEAL LIGHT MAPLE BROWN SUGAR</td>\n",
       "      <td>12</td>\n",
       "      <td>5.0</td>\n",
       "      <td>41.7</td>\n",
       "    </tr>\n",
       "    <tr>\n",
       "      <th>45571</th>\n",
       "      <td>49693</td>\n",
       "      <td>SPRING WATER BODY WASH</td>\n",
       "      <td>25</td>\n",
       "      <td>11.0</td>\n",
       "      <td>44.0</td>\n",
       "    </tr>\n",
       "    <tr>\n",
       "      <th>45572</th>\n",
       "      <td>49694</td>\n",
       "      <td>BURRITO- STEAK &amp; CHEESE</td>\n",
       "      <td>9</td>\n",
       "      <td>3.0</td>\n",
       "      <td>33.3</td>\n",
       "    </tr>\n",
       "  </tbody>\n",
       "</table>\n",
       "<p>45573 rows × 5 columns</p>\n",
       "</div>"
      ],
      "text/plain": [
       "       product_id                                       product_name  \\\n",
       "0               1                         Chocolate Sandwich Cookies   \n",
       "1               2                                   All-Seasons Salt   \n",
       "2               3               Robust Golden Unsweetened Oolong Tea   \n",
       "3               4  Smart Ones Classic Favorites Mini Rigatoni Wit...   \n",
       "4               7                     Pure Coconut Water With Orange   \n",
       "...           ...                                                ...   \n",
       "45568       49690                      HIGH PERFORMANCE ENERGY DRINK   \n",
       "45569       49691                      ORIGINAL PANCAKE & WAFFLE MIX   \n",
       "45570       49692    ORGANIC INSTANT OATMEAL LIGHT MAPLE BROWN SUGAR   \n",
       "45571       49693                             SPRING WATER BODY WASH   \n",
       "45572       49694                            BURRITO- STEAK & CHEESE   \n",
       "\n",
       "       total_orders  reorders  reorder_proportion  \n",
       "0               280     158.0                56.4  \n",
       "1                11       NaN                 NaN  \n",
       "2                42      31.0                73.8  \n",
       "3                49      25.0                51.0  \n",
       "4                 2       1.0                50.0  \n",
       "...             ...       ...                 ...  \n",
       "45568             5       4.0                80.0  \n",
       "45569            72      31.0                43.1  \n",
       "45570            12       5.0                41.7  \n",
       "45571            25      11.0                44.0  \n",
       "45572             9       3.0                33.3  \n",
       "\n",
       "[45573 rows x 5 columns]"
      ]
     },
     "execution_count": 53,
     "metadata": {},
     "output_type": "execute_result"
    }
   ],
   "source": [
    "# reorder columns for easier consumption\n",
    "orders_and_reorders = orders_and_reorders[['product_id', 'product_name', 'total_orders', 'reorders', 'reorder_proportion']]\n",
    "orders_and_reorders"
   ]
  },
  {
   "cell_type": "code",
   "execution_count": 54,
   "id": "ad5cecfa",
   "metadata": {},
   "outputs": [
    {
     "data": {
      "text/html": [
       "<div>\n",
       "<style scoped>\n",
       "    .dataframe tbody tr th:only-of-type {\n",
       "        vertical-align: middle;\n",
       "    }\n",
       "\n",
       "    .dataframe tbody tr th {\n",
       "        vertical-align: top;\n",
       "    }\n",
       "\n",
       "    .dataframe thead th {\n",
       "        text-align: right;\n",
       "    }\n",
       "</style>\n",
       "<table border=\"1\" class=\"dataframe\">\n",
       "  <thead>\n",
       "    <tr style=\"text-align: right;\">\n",
       "      <th></th>\n",
       "      <th>product_id</th>\n",
       "      <th>product_name</th>\n",
       "      <th>total_orders</th>\n",
       "      <th>reorders</th>\n",
       "      <th>reorder_proportion</th>\n",
       "    </tr>\n",
       "  </thead>\n",
       "  <tbody>\n",
       "    <tr>\n",
       "      <th>99</th>\n",
       "      <td>112</td>\n",
       "      <td>Hot Tomatillo Salsa</td>\n",
       "      <td>10</td>\n",
       "      <td>1.0</td>\n",
       "      <td>10.0</td>\n",
       "    </tr>\n",
       "  </tbody>\n",
       "</table>\n",
       "</div>"
      ],
      "text/plain": [
       "    product_id         product_name  total_orders  reorders  \\\n",
       "99         112  Hot Tomatillo Salsa            10       1.0   \n",
       "\n",
       "    reorder_proportion  \n",
       "99                10.0  "
      ]
     },
     "execution_count": 54,
     "metadata": {},
     "output_type": "execute_result"
    }
   ],
   "source": [
    "# reorder proportion is easily accessed per product by calling the product name\n",
    "df_check = orders_and_reorders[orders_and_reorders['product_name'] == 'Hot Tomatillo Salsa']\n",
    "df_check\n",
    "\n",
    "# Hot Tomatillo Salsa has a reorder proportion of 10%"
   ]
  },
  {
   "cell_type": "code",
   "execution_count": 55,
   "id": "e18ff996",
   "metadata": {
    "scrolled": true
   },
   "outputs": [
    {
     "data": {
      "text/html": [
       "<style  type=\"text/css\" >\n",
       "</style><table id=\"T_11e18_\" ><thead>    <tr>        <th class=\"blank\" ></th>        <th class=\"blank level0\" ></th>        <th class=\"col_heading level0 col0\" >reordered</th>    </tr>    <tr>        <th class=\"index_name level0\" >product_id</th>        <th class=\"index_name level1\" >product_name</th>        <th class=\"blank\" ></th>    </tr></thead><tbody>\n",
       "                <tr>\n",
       "                        <th id=\"T_11e18_level0_row0\" class=\"row_heading level0 row0\" >1</th>\n",
       "                        <th id=\"T_11e18_level1_row0\" class=\"row_heading level1 row0\" >Chocolate Sandwich Cookies</th>\n",
       "                        <td id=\"T_11e18_row0_col0\" class=\"data row0 col0\" >56.4%</td>\n",
       "            </tr>\n",
       "            <tr>\n",
       "                        <th id=\"T_11e18_level0_row1\" class=\"row_heading level0 row1\" >2</th>\n",
       "                        <th id=\"T_11e18_level1_row1\" class=\"row_heading level1 row1\" >All-Seasons Salt</th>\n",
       "                        <td id=\"T_11e18_row1_col0\" class=\"data row1 col0\" >0.0%</td>\n",
       "            </tr>\n",
       "            <tr>\n",
       "                        <th id=\"T_11e18_level0_row2\" class=\"row_heading level0 row2\" >3</th>\n",
       "                        <th id=\"T_11e18_level1_row2\" class=\"row_heading level1 row2\" >Robust Golden Unsweetened Oolong Tea</th>\n",
       "                        <td id=\"T_11e18_row2_col0\" class=\"data row2 col0\" >73.8%</td>\n",
       "            </tr>\n",
       "            <tr>\n",
       "                        <th id=\"T_11e18_level0_row3\" class=\"row_heading level0 row3\" >4</th>\n",
       "                        <th id=\"T_11e18_level1_row3\" class=\"row_heading level1 row3\" >Smart Ones Classic Favorites Mini Rigatoni With Vodka Cream Sauce</th>\n",
       "                        <td id=\"T_11e18_row3_col0\" class=\"data row3 col0\" >51.0%</td>\n",
       "            </tr>\n",
       "            <tr>\n",
       "                        <th id=\"T_11e18_level0_row4\" class=\"row_heading level0 row4\" >7</th>\n",
       "                        <th id=\"T_11e18_level1_row4\" class=\"row_heading level1 row4\" >Pure Coconut Water With Orange</th>\n",
       "                        <td id=\"T_11e18_row4_col0\" class=\"data row4 col0\" >50.0%</td>\n",
       "            </tr>\n",
       "            <tr>\n",
       "                        <th id=\"T_11e18_level0_row5\" class=\"row_heading level0 row5\" >8</th>\n",
       "                        <th id=\"T_11e18_level1_row5\" class=\"row_heading level1 row5\" >Cut Russet Potatoes Steam N' Mash</th>\n",
       "                        <td id=\"T_11e18_row5_col0\" class=\"data row5 col0\" >31.6%</td>\n",
       "            </tr>\n",
       "            <tr>\n",
       "                        <th id=\"T_11e18_level0_row6\" class=\"row_heading level0 row6\" >9</th>\n",
       "                        <th id=\"T_11e18_level1_row6\" class=\"row_heading level1 row6\" >Light Strawberry Blueberry Yogurt</th>\n",
       "                        <td id=\"T_11e18_row6_col0\" class=\"data row6 col0\" >76.2%</td>\n",
       "            </tr>\n",
       "            <tr>\n",
       "                        <th id=\"T_11e18_level0_row7\" class=\"row_heading level0 row7\" >10</th>\n",
       "                        <th id=\"T_11e18_level1_row7\" class=\"row_heading level1 row7\" >Sparkling Orange Juice & Prickly Pear Beverage</th>\n",
       "                        <td id=\"T_11e18_row7_col0\" class=\"data row7 col0\" >44.8%</td>\n",
       "            </tr>\n",
       "            <tr>\n",
       "                        <th id=\"T_11e18_level0_row8\" class=\"row_heading level0 row8\" >11</th>\n",
       "                        <th id=\"T_11e18_level1_row8\" class=\"row_heading level1 row8\" >Peach Mango Juice</th>\n",
       "                        <td id=\"T_11e18_row8_col0\" class=\"data row8 col0\" >62.5%</td>\n",
       "            </tr>\n",
       "            <tr>\n",
       "                        <th id=\"T_11e18_level0_row9\" class=\"row_heading level0 row9\" >12</th>\n",
       "                        <th id=\"T_11e18_level1_row9\" class=\"row_heading level1 row9\" >Chocolate Fudge Layer Cake</th>\n",
       "                        <td id=\"T_11e18_row9_col0\" class=\"data row9 col0\" >39.0%</td>\n",
       "            </tr>\n",
       "            <tr>\n",
       "                        <th id=\"T_11e18_level0_row10\" class=\"row_heading level0 row10\" >13</th>\n",
       "                        <th id=\"T_11e18_level1_row10\" class=\"row_heading level1 row10\" >Saline Nasal Mist</th>\n",
       "                        <td id=\"T_11e18_row10_col0\" class=\"data row10 col0\" >50.0%</td>\n",
       "            </tr>\n",
       "            <tr>\n",
       "                        <th id=\"T_11e18_level0_row11\" class=\"row_heading level0 row11\" >14</th>\n",
       "                        <th id=\"T_11e18_level1_row11\" class=\"row_heading level1 row11\" >Fresh Scent Dishwasher Cleaner</th>\n",
       "                        <td id=\"T_11e18_row11_col0\" class=\"data row11 col0\" >0.0%</td>\n",
       "            </tr>\n",
       "            <tr>\n",
       "                        <th id=\"T_11e18_level0_row12\" class=\"row_heading level0 row12\" >17</th>\n",
       "                        <th id=\"T_11e18_level1_row12\" class=\"row_heading level1 row12\" >Rendered Duck Fat</th>\n",
       "                        <td id=\"T_11e18_row12_col0\" class=\"data row12 col0\" >0.0%</td>\n",
       "            </tr>\n",
       "            <tr>\n",
       "                        <th id=\"T_11e18_level0_row13\" class=\"row_heading level0 row13\" >18</th>\n",
       "                        <th id=\"T_11e18_level1_row13\" class=\"row_heading level1 row13\" >Pizza for One Suprema  Frozen Pizza</th>\n",
       "                        <td id=\"T_11e18_row13_col0\" class=\"data row13 col0\" >53.3%</td>\n",
       "            </tr>\n",
       "            <tr>\n",
       "                        <th id=\"T_11e18_level0_row14\" class=\"row_heading level0 row14\" >19</th>\n",
       "                        <th id=\"T_11e18_level1_row14\" class=\"row_heading level1 row14\" >Gluten Free Quinoa Three Cheese & Mushroom Blend</th>\n",
       "                        <td id=\"T_11e18_row14_col0\" class=\"data row14 col0\" >0.0%</td>\n",
       "            </tr>\n",
       "            <tr>\n",
       "                        <th id=\"T_11e18_level0_row15\" class=\"row_heading level0 row15\" >21</th>\n",
       "                        <th id=\"T_11e18_level1_row15\" class=\"row_heading level1 row15\" >Small & Medium Dental Dog Treats</th>\n",
       "                        <td id=\"T_11e18_row15_col0\" class=\"data row15 col0\" >0.0%</td>\n",
       "            </tr>\n",
       "            <tr>\n",
       "                        <th id=\"T_11e18_level0_row16\" class=\"row_heading level0 row16\" >22</th>\n",
       "                        <th id=\"T_11e18_level1_row16\" class=\"row_heading level1 row16\" >Fresh Breath Oral Rinse Mild Mint</th>\n",
       "                        <td id=\"T_11e18_row16_col0\" class=\"data row16 col0\" >50.0%</td>\n",
       "            </tr>\n",
       "            <tr>\n",
       "                        <th id=\"T_11e18_level0_row17\" class=\"row_heading level0 row17\" >23</th>\n",
       "                        <th id=\"T_11e18_level1_row17\" class=\"row_heading level1 row17\" >Organic Turkey Burgers</th>\n",
       "                        <td id=\"T_11e18_row17_col0\" class=\"data row17 col0\" >38.1%</td>\n",
       "            </tr>\n",
       "            <tr>\n",
       "                        <th id=\"T_11e18_level0_row18\" class=\"row_heading level0 row18\" >24</th>\n",
       "                        <th id=\"T_11e18_level1_row18\" class=\"row_heading level1 row18\" >Tri-Vi-Sol® Vitamins A-C-and D Supplement Drops for Infants</th>\n",
       "                        <td id=\"T_11e18_row18_col0\" class=\"data row18 col0\" >0.0%</td>\n",
       "            </tr>\n",
       "            <tr>\n",
       "                        <th id=\"T_11e18_level0_row19\" class=\"row_heading level0 row19\" >25</th>\n",
       "                        <th id=\"T_11e18_level1_row19\" class=\"row_heading level1 row19\" >Salted Caramel Lean Protein & Fiber Bar</th>\n",
       "                        <td id=\"T_11e18_row19_col0\" class=\"data row19 col0\" >67.5%</td>\n",
       "            </tr>\n",
       "    </tbody></table>"
      ],
      "text/plain": [
       "<pandas.io.formats.style.Styler at 0x7f69d45feac0>"
      ]
     },
     "execution_count": 55,
     "metadata": {},
     "output_type": "execute_result"
    }
   ],
   "source": [
    "#ADDED BY REVIEWER\n",
    "\n",
    "#Upload the dataframes. You can skip that step and use your own dataframes\n",
    "df_order_products = pd.read_csv('/datasets/order_products.csv', sep=';')\n",
    "df_products = pd.read_csv('/datasets/products.csv', sep=';')\n",
    "\n",
    "#Merge sales and products\n",
    "reorder_pct = df_order_products.merge(df_products)\n",
    "\n",
    "#Get the reorder ratio\n",
    "reorder_pct = reorder_pct.groupby(['product_id', 'product_name'])['reordered'].mean().to_frame()\n",
    "\n",
    "#Format the output\n",
    "reorder_pct.head(20).style.format({'reordered': '{:.1%}'}) #format to percentage with 1 decimal"
   ]
  },
  {
   "cell_type": "markdown",
   "id": "d29ef0aa",
   "metadata": {},
   "source": [
    "**Summary :** Calculating a reorder proportion could provide insight into item satisfaction and future inventory needs. "
   ]
  },
  {
   "cell_type": "markdown",
   "id": "a3e9efc5",
   "metadata": {},
   "source": [
    "**Comprehensive Summary :**\n",
    "\n",
    "\n",
    "Analysis of the distribution of orders by hour of the day revealed a clear pattern in customer behavior. The majority of orders are placed during specific peak hours, which can be important for optimizing staffing and inventory management.\n",
    "\n",
    "\n",
    "\"Days Since Prior Order\" showed a distribution of how frequently customers reorder groceries. This metric is crucial for understanding customer retention and can guide efforts to keep customers coming back. A high frequency of reorders indicates strong customer loyalty, while longer gaps between orders may highlight opportunities for re-engagement or targeted promotions to encourage return purchases.\n",
    "\n",
    "\n",
    "During the data cleanup process, missing product names were identified, which were mainly tied to specific aisle and department categories labeled as 'missing.' These missing values were filled with 'Unknown' to maintain data integrity. However, it’s important to investigate the root cause of these missing values to prevent future occurrences.\n",
    "\n",
    "\n",
    "A deeper dive into the add-to-cart sequence revealed a technical issue where items added after the 64th position were not properly assigned order numbers. This could lead to tracking issues in customer carts, potentially affecting the accuracy of the checkout process.\n",
    "\n",
    "**Actionable Insights**\n",
    "- Peak hours are between 10am and 4pm.\n",
    "- Sundays and Mondays have the most orders per day. \n",
    "- Typically, reorders occur on a weekly or monthly basis.  "
   ]
  }
 ],
 "metadata": {
  "ExecuteTimeLog": [
   {
    "duration": 327,
    "start_time": "2025-01-23T15:19:31.128Z"
   },
   {
    "duration": 522,
    "start_time": "2025-01-23T15:19:33.930Z"
   },
   {
    "duration": 56,
    "start_time": "2025-01-23T15:19:46.651Z"
   },
   {
    "duration": 271,
    "start_time": "2025-01-23T15:19:54.249Z"
   },
   {
    "duration": 284,
    "start_time": "2025-01-23T15:20:08.991Z"
   },
   {
    "duration": 276,
    "start_time": "2025-01-23T15:20:16.425Z"
   },
   {
    "duration": 54,
    "start_time": "2025-01-23T15:21:06.165Z"
   },
   {
    "duration": 2045,
    "start_time": "2025-01-23T15:21:45.047Z"
   },
   {
    "duration": 12,
    "start_time": "2025-01-23T15:22:34.004Z"
   },
   {
    "duration": 11,
    "start_time": "2025-01-23T15:23:13.924Z"
   },
   {
    "duration": 20,
    "start_time": "2025-01-23T15:23:45.744Z"
   },
   {
    "duration": 322,
    "start_time": "2025-01-23T15:25:37.529Z"
   },
   {
    "duration": 302,
    "start_time": "2025-01-23T15:25:37.855Z"
   },
   {
    "duration": 38,
    "start_time": "2025-01-23T15:25:38.159Z"
   },
   {
    "duration": 1962,
    "start_time": "2025-01-23T15:25:38.199Z"
   },
   {
    "duration": 9,
    "start_time": "2025-01-23T15:25:40.164Z"
   },
   {
    "duration": 9,
    "start_time": "2025-01-23T15:25:40.175Z"
   },
   {
    "duration": 3,
    "start_time": "2025-01-23T15:25:40.185Z"
   },
   {
    "duration": 3,
    "start_time": "2025-01-23T15:25:40.189Z"
   },
   {
    "duration": 3,
    "start_time": "2025-01-23T15:25:40.194Z"
   },
   {
    "duration": 3,
    "start_time": "2025-01-23T15:25:40.198Z"
   },
   {
    "duration": 2,
    "start_time": "2025-01-23T15:25:40.231Z"
   },
   {
    "duration": 2,
    "start_time": "2025-01-23T15:25:40.235Z"
   },
   {
    "duration": 3,
    "start_time": "2025-01-23T15:25:40.239Z"
   },
   {
    "duration": 2,
    "start_time": "2025-01-23T15:25:40.245Z"
   },
   {
    "duration": 3,
    "start_time": "2025-01-23T15:25:40.249Z"
   },
   {
    "duration": 4,
    "start_time": "2025-01-23T15:25:40.253Z"
   },
   {
    "duration": 3,
    "start_time": "2025-01-23T15:25:40.259Z"
   },
   {
    "duration": 4,
    "start_time": "2025-01-23T15:25:40.263Z"
   },
   {
    "duration": 3,
    "start_time": "2025-01-23T15:25:40.268Z"
   },
   {
    "duration": 3,
    "start_time": "2025-01-23T15:25:40.272Z"
   },
   {
    "duration": 3,
    "start_time": "2025-01-23T15:25:40.277Z"
   },
   {
    "duration": 3,
    "start_time": "2025-01-23T15:25:40.282Z"
   },
   {
    "duration": 47,
    "start_time": "2025-01-23T15:25:40.286Z"
   },
   {
    "duration": 4,
    "start_time": "2025-01-23T15:25:40.334Z"
   },
   {
    "duration": 3,
    "start_time": "2025-01-23T15:25:40.339Z"
   },
   {
    "duration": 3,
    "start_time": "2025-01-23T15:25:40.344Z"
   },
   {
    "duration": 285,
    "start_time": "2025-01-23T15:26:00.492Z"
   },
   {
    "duration": 292,
    "start_time": "2025-01-23T15:26:09.014Z"
   },
   {
    "duration": 272,
    "start_time": "2025-01-23T15:26:25.186Z"
   },
   {
    "duration": 37,
    "start_time": "2025-01-23T15:26:55.665Z"
   },
   {
    "duration": 36,
    "start_time": "2025-01-23T15:27:03.193Z"
   },
   {
    "duration": 2005,
    "start_time": "2025-01-23T15:27:14.062Z"
   },
   {
    "duration": 10,
    "start_time": "2025-01-23T15:27:37.280Z"
   },
   {
    "duration": 10,
    "start_time": "2025-01-23T15:27:42.438Z"
   },
   {
    "duration": 123,
    "start_time": "2025-01-23T15:28:02.699Z"
   },
   {
    "duration": 39,
    "start_time": "2025-01-23T15:28:22.975Z"
   },
   {
    "duration": 758,
    "start_time": "2025-01-23T15:28:33.876Z"
   },
   {
    "duration": 12,
    "start_time": "2025-01-23T15:28:41.367Z"
   },
   {
    "duration": 11,
    "start_time": "2025-01-23T15:28:48.587Z"
   },
   {
    "duration": 159,
    "start_time": "2025-01-23T15:44:01.562Z"
   },
   {
    "duration": 81,
    "start_time": "2025-01-23T15:44:38.907Z"
   },
   {
    "duration": 86,
    "start_time": "2025-01-23T15:45:08.421Z"
   },
   {
    "duration": 98,
    "start_time": "2025-01-23T15:45:20.414Z"
   },
   {
    "duration": 10,
    "start_time": "2025-01-23T15:50:17.687Z"
   },
   {
    "duration": 100,
    "start_time": "2025-01-23T15:54:20.179Z"
   },
   {
    "duration": 97,
    "start_time": "2025-01-23T15:54:33.005Z"
   },
   {
    "duration": 67,
    "start_time": "2025-01-23T15:58:36.808Z"
   },
   {
    "duration": 618,
    "start_time": "2025-01-23T16:00:14.278Z"
   },
   {
    "duration": 24,
    "start_time": "2025-01-23T16:00:30.066Z"
   },
   {
    "duration": 5,
    "start_time": "2025-01-23T16:01:17.057Z"
   },
   {
    "duration": 27,
    "start_time": "2025-01-23T16:01:26.865Z"
   },
   {
    "duration": 24,
    "start_time": "2025-01-23T16:02:16.879Z"
   },
   {
    "duration": 14,
    "start_time": "2025-01-23T16:05:23.971Z"
   },
   {
    "duration": 11,
    "start_time": "2025-01-23T16:05:40.516Z"
   },
   {
    "duration": 16,
    "start_time": "2025-01-23T16:06:03.436Z"
   },
   {
    "duration": 14,
    "start_time": "2025-01-23T16:06:16.444Z"
   },
   {
    "duration": 3,
    "start_time": "2025-01-23T16:10:52.082Z"
   },
   {
    "duration": 7,
    "start_time": "2025-01-23T16:11:03.222Z"
   },
   {
    "duration": 19,
    "start_time": "2025-01-23T16:13:10.802Z"
   },
   {
    "duration": 23,
    "start_time": "2025-01-23T16:13:40.728Z"
   },
   {
    "duration": 12,
    "start_time": "2025-01-23T16:17:50.850Z"
   },
   {
    "duration": 7,
    "start_time": "2025-01-23T16:17:57.547Z"
   },
   {
    "duration": 6,
    "start_time": "2025-01-23T16:19:22.848Z"
   },
   {
    "duration": 6,
    "start_time": "2025-01-23T16:20:41.631Z"
   },
   {
    "duration": 3,
    "start_time": "2025-01-23T16:25:28.212Z"
   },
   {
    "duration": 3,
    "start_time": "2025-01-23T16:25:35.924Z"
   },
   {
    "duration": 4,
    "start_time": "2025-01-23T16:26:05.892Z"
   },
   {
    "duration": 3,
    "start_time": "2025-01-23T16:28:01.639Z"
   },
   {
    "duration": 4,
    "start_time": "2025-01-23T16:28:30.440Z"
   },
   {
    "duration": 4,
    "start_time": "2025-01-23T16:28:47.665Z"
   },
   {
    "duration": 13,
    "start_time": "2025-01-23T16:29:05.342Z"
   },
   {
    "duration": 3,
    "start_time": "2025-01-23T16:29:13.319Z"
   },
   {
    "duration": 3,
    "start_time": "2025-01-23T16:29:26.827Z"
   },
   {
    "duration": 3,
    "start_time": "2025-01-23T16:29:48.758Z"
   },
   {
    "duration": 3,
    "start_time": "2025-01-23T16:30:03.396Z"
   },
   {
    "duration": 3,
    "start_time": "2025-01-23T16:30:08.399Z"
   },
   {
    "duration": 3,
    "start_time": "2025-01-23T16:30:24.873Z"
   },
   {
    "duration": 5,
    "start_time": "2025-01-23T16:30:27.936Z"
   },
   {
    "duration": 675,
    "start_time": "2025-01-23T16:32:15.627Z"
   },
   {
    "duration": 119,
    "start_time": "2025-01-23T16:34:31.610Z"
   },
   {
    "duration": 160,
    "start_time": "2025-01-23T16:35:07.457Z"
   },
   {
    "duration": 104,
    "start_time": "2025-01-23T16:35:46.380Z"
   },
   {
    "duration": 50,
    "start_time": "2025-01-23T16:36:12.284Z"
   },
   {
    "duration": 5,
    "start_time": "2025-01-23T20:20:54.288Z"
   },
   {
    "duration": 9,
    "start_time": "2025-01-23T20:21:03.855Z"
   },
   {
    "duration": 8,
    "start_time": "2025-01-23T20:21:27.540Z"
   },
   {
    "duration": 4,
    "start_time": "2025-01-23T20:23:13.530Z"
   },
   {
    "duration": 13,
    "start_time": "2025-01-23T20:23:55.687Z"
   },
   {
    "duration": 13,
    "start_time": "2025-01-23T20:24:01.044Z"
   },
   {
    "duration": 4,
    "start_time": "2025-01-23T20:24:28.430Z"
   },
   {
    "duration": 4,
    "start_time": "2025-01-23T20:26:02.311Z"
   },
   {
    "duration": 6,
    "start_time": "2025-01-23T20:27:20.591Z"
   },
   {
    "duration": 9,
    "start_time": "2025-01-24T19:33:55.786Z"
   },
   {
    "duration": 7,
    "start_time": "2025-01-24T19:34:15.816Z"
   },
   {
    "duration": 6,
    "start_time": "2025-01-24T21:51:16.941Z"
   },
   {
    "duration": 8,
    "start_time": "2025-01-24T21:52:17.153Z"
   },
   {
    "duration": 8,
    "start_time": "2025-01-24T21:52:35.965Z"
   },
   {
    "duration": 6,
    "start_time": "2025-01-24T21:53:23.167Z"
   },
   {
    "duration": 502,
    "start_time": "2025-01-24T21:53:41.444Z"
   },
   {
    "duration": 9,
    "start_time": "2025-01-24T21:54:27.791Z"
   },
   {
    "duration": 32,
    "start_time": "2025-01-24T21:55:32.473Z"
   },
   {
    "duration": 9,
    "start_time": "2025-01-24T21:56:26.695Z"
   },
   {
    "duration": 9,
    "start_time": "2025-01-24T21:57:34.738Z"
   },
   {
    "duration": 144,
    "start_time": "2025-01-24T21:58:02.033Z"
   },
   {
    "duration": 22,
    "start_time": "2025-01-24T21:59:08.022Z"
   },
   {
    "duration": 20,
    "start_time": "2025-01-24T21:59:11.165Z"
   },
   {
    "duration": 10,
    "start_time": "2025-01-24T21:59:18.734Z"
   },
   {
    "duration": 98,
    "start_time": "2025-01-24T22:45:40.936Z"
   },
   {
    "duration": 9,
    "start_time": "2025-01-24T22:45:54.459Z"
   },
   {
    "duration": 10,
    "start_time": "2025-01-24T22:47:11.924Z"
   },
   {
    "duration": 9,
    "start_time": "2025-01-24T22:47:34.162Z"
   },
   {
    "duration": 9,
    "start_time": "2025-01-24T22:50:45.900Z"
   },
   {
    "duration": 9,
    "start_time": "2025-01-24T22:51:26.094Z"
   },
   {
    "duration": 3,
    "start_time": "2025-01-24T22:53:01.749Z"
   },
   {
    "duration": 5,
    "start_time": "2025-01-24T22:53:12.725Z"
   },
   {
    "duration": 4,
    "start_time": "2025-01-24T22:54:37.908Z"
   },
   {
    "duration": 6,
    "start_time": "2025-01-24T22:59:33.323Z"
   },
   {
    "duration": 5,
    "start_time": "2025-01-24T22:59:49.154Z"
   },
   {
    "duration": 4,
    "start_time": "2025-01-24T23:00:17.617Z"
   },
   {
    "duration": 13,
    "start_time": "2025-01-24T23:04:53.499Z"
   },
   {
    "duration": 163,
    "start_time": "2025-01-24T23:05:39.606Z"
   },
   {
    "duration": 28,
    "start_time": "2025-01-24T23:05:49.308Z"
   },
   {
    "duration": 12,
    "start_time": "2025-01-24T23:07:14.295Z"
   },
   {
    "duration": 10,
    "start_time": "2025-01-24T23:07:23.186Z"
   },
   {
    "duration": 325,
    "start_time": "2025-01-24T23:07:33.637Z"
   },
   {
    "duration": 136,
    "start_time": "2025-01-24T23:07:33.965Z"
   },
   {
    "duration": 50,
    "start_time": "2025-01-24T23:07:34.103Z"
   },
   {
    "duration": 728,
    "start_time": "2025-01-24T23:07:34.156Z"
   },
   {
    "duration": 12,
    "start_time": "2025-01-24T23:07:34.887Z"
   },
   {
    "duration": 13,
    "start_time": "2025-01-24T23:07:34.901Z"
   },
   {
    "duration": 116,
    "start_time": "2025-01-24T23:07:34.931Z"
   },
   {
    "duration": 8,
    "start_time": "2025-01-24T23:07:35.049Z"
   },
   {
    "duration": 138,
    "start_time": "2025-01-24T23:07:35.059Z"
   },
   {
    "duration": 102,
    "start_time": "2025-01-24T23:07:35.199Z"
   },
   {
    "duration": 33,
    "start_time": "2025-01-24T23:07:35.302Z"
   },
   {
    "duration": 16,
    "start_time": "2025-01-24T23:07:35.337Z"
   },
   {
    "duration": 7,
    "start_time": "2025-01-24T23:07:35.355Z"
   },
   {
    "duration": 24,
    "start_time": "2025-01-24T23:07:35.366Z"
   },
   {
    "duration": 7,
    "start_time": "2025-01-24T23:07:35.392Z"
   },
   {
    "duration": 33,
    "start_time": "2025-01-24T23:07:35.400Z"
   },
   {
    "duration": 3,
    "start_time": "2025-01-24T23:07:35.435Z"
   },
   {
    "duration": 4,
    "start_time": "2025-01-24T23:07:35.440Z"
   },
   {
    "duration": 3,
    "start_time": "2025-01-24T23:07:35.446Z"
   },
   {
    "duration": 835,
    "start_time": "2025-01-24T23:07:35.451Z"
   },
   {
    "duration": 105,
    "start_time": "2025-01-24T23:07:36.290Z"
   },
   {
    "duration": 6,
    "start_time": "2025-01-24T23:07:36.397Z"
   },
   {
    "duration": 4,
    "start_time": "2025-01-24T23:07:36.405Z"
   },
   {
    "duration": 4,
    "start_time": "2025-01-24T23:07:36.410Z"
   },
   {
    "duration": 6,
    "start_time": "2025-01-24T23:07:36.432Z"
   },
   {
    "duration": 8,
    "start_time": "2025-01-24T23:07:36.440Z"
   },
   {
    "duration": 6,
    "start_time": "2025-01-24T23:07:36.450Z"
   },
   {
    "duration": 7,
    "start_time": "2025-01-24T23:07:36.458Z"
   },
   {
    "duration": 9,
    "start_time": "2025-01-24T23:07:36.466Z"
   },
   {
    "duration": 69,
    "start_time": "2025-01-24T23:07:36.476Z"
   },
   {
    "duration": 10,
    "start_time": "2025-01-24T23:07:36.546Z"
   },
   {
    "duration": 4,
    "start_time": "2025-01-24T23:07:36.557Z"
   },
   {
    "duration": 6,
    "start_time": "2025-01-24T23:07:36.563Z"
   },
   {
    "duration": 326,
    "start_time": "2025-01-24T23:08:05.705Z"
   },
   {
    "duration": 13,
    "start_time": "2025-01-24T23:08:59.981Z"
   },
   {
    "duration": 306,
    "start_time": "2025-01-24T23:09:05.517Z"
   },
   {
    "duration": 144,
    "start_time": "2025-01-24T23:09:05.825Z"
   },
   {
    "duration": 45,
    "start_time": "2025-01-24T23:09:05.972Z"
   },
   {
    "duration": 744,
    "start_time": "2025-01-24T23:09:06.020Z"
   },
   {
    "duration": 13,
    "start_time": "2025-01-24T23:09:06.767Z"
   },
   {
    "duration": 12,
    "start_time": "2025-01-24T23:09:06.782Z"
   },
   {
    "duration": 134,
    "start_time": "2025-01-24T23:09:06.797Z"
   },
   {
    "duration": 8,
    "start_time": "2025-01-24T23:09:06.933Z"
   },
   {
    "duration": 141,
    "start_time": "2025-01-24T23:09:06.943Z"
   },
   {
    "duration": 100,
    "start_time": "2025-01-24T23:09:07.087Z"
   },
   {
    "duration": 30,
    "start_time": "2025-01-24T23:09:07.189Z"
   },
   {
    "duration": 25,
    "start_time": "2025-01-24T23:09:07.221Z"
   },
   {
    "duration": 8,
    "start_time": "2025-01-24T23:09:07.248Z"
   },
   {
    "duration": 23,
    "start_time": "2025-01-24T23:09:07.257Z"
   },
   {
    "duration": 7,
    "start_time": "2025-01-24T23:09:07.282Z"
   },
   {
    "duration": 39,
    "start_time": "2025-01-24T23:09:07.291Z"
   },
   {
    "duration": 4,
    "start_time": "2025-01-24T23:09:07.332Z"
   },
   {
    "duration": 4,
    "start_time": "2025-01-24T23:09:07.338Z"
   },
   {
    "duration": 3,
    "start_time": "2025-01-24T23:09:07.344Z"
   },
   {
    "duration": 866,
    "start_time": "2025-01-24T23:09:07.349Z"
   },
   {
    "duration": 95,
    "start_time": "2025-01-24T23:09:08.217Z"
   },
   {
    "duration": 17,
    "start_time": "2025-01-24T23:09:08.314Z"
   },
   {
    "duration": 5,
    "start_time": "2025-01-24T23:09:08.334Z"
   },
   {
    "duration": 5,
    "start_time": "2025-01-24T23:09:08.341Z"
   },
   {
    "duration": 6,
    "start_time": "2025-01-24T23:09:08.348Z"
   },
   {
    "duration": 8,
    "start_time": "2025-01-24T23:09:08.356Z"
   },
   {
    "duration": 6,
    "start_time": "2025-01-24T23:09:08.365Z"
   },
   {
    "duration": 7,
    "start_time": "2025-01-24T23:09:08.374Z"
   },
   {
    "duration": 7,
    "start_time": "2025-01-24T23:09:08.383Z"
   },
   {
    "duration": 34,
    "start_time": "2025-01-24T23:09:08.432Z"
   },
   {
    "duration": 9,
    "start_time": "2025-01-24T23:09:08.468Z"
   },
   {
    "duration": 5,
    "start_time": "2025-01-24T23:09:08.479Z"
   },
   {
    "duration": 146,
    "start_time": "2025-01-24T23:09:08.485Z"
   },
   {
    "duration": 11,
    "start_time": "2025-01-24T23:10:14.955Z"
   },
   {
    "duration": 12,
    "start_time": "2025-01-24T23:10:18.365Z"
   },
   {
    "duration": 320,
    "start_time": "2025-01-24T23:10:37.276Z"
   },
   {
    "duration": 156,
    "start_time": "2025-01-24T23:10:37.598Z"
   },
   {
    "duration": 47,
    "start_time": "2025-01-24T23:10:37.756Z"
   },
   {
    "duration": 739,
    "start_time": "2025-01-24T23:10:37.806Z"
   },
   {
    "duration": 12,
    "start_time": "2025-01-24T23:10:38.548Z"
   },
   {
    "duration": 11,
    "start_time": "2025-01-24T23:10:38.562Z"
   },
   {
    "duration": 122,
    "start_time": "2025-01-24T23:10:38.575Z"
   },
   {
    "duration": 8,
    "start_time": "2025-01-24T23:10:38.700Z"
   },
   {
    "duration": 138,
    "start_time": "2025-01-24T23:10:38.709Z"
   },
   {
    "duration": 100,
    "start_time": "2025-01-24T23:10:38.852Z"
   },
   {
    "duration": 28,
    "start_time": "2025-01-24T23:10:38.953Z"
   },
   {
    "duration": 17,
    "start_time": "2025-01-24T23:10:38.983Z"
   },
   {
    "duration": 29,
    "start_time": "2025-01-24T23:10:39.002Z"
   },
   {
    "duration": 23,
    "start_time": "2025-01-24T23:10:39.033Z"
   },
   {
    "duration": 6,
    "start_time": "2025-01-24T23:10:39.058Z"
   },
   {
    "duration": 3,
    "start_time": "2025-01-24T23:10:39.066Z"
   },
   {
    "duration": 3,
    "start_time": "2025-01-24T23:10:39.071Z"
   },
   {
    "duration": 3,
    "start_time": "2025-01-24T23:10:39.077Z"
   },
   {
    "duration": 4,
    "start_time": "2025-01-24T23:10:39.082Z"
   },
   {
    "duration": 862,
    "start_time": "2025-01-24T23:10:39.088Z"
   },
   {
    "duration": 91,
    "start_time": "2025-01-24T23:10:39.952Z"
   },
   {
    "duration": 7,
    "start_time": "2025-01-24T23:10:40.045Z"
   },
   {
    "duration": 4,
    "start_time": "2025-01-24T23:10:40.054Z"
   },
   {
    "duration": 3,
    "start_time": "2025-01-24T23:10:40.060Z"
   },
   {
    "duration": 5,
    "start_time": "2025-01-24T23:10:40.066Z"
   },
   {
    "duration": 8,
    "start_time": "2025-01-24T23:10:40.073Z"
   },
   {
    "duration": 6,
    "start_time": "2025-01-24T23:10:40.083Z"
   },
   {
    "duration": 8,
    "start_time": "2025-01-24T23:10:40.131Z"
   },
   {
    "duration": 11,
    "start_time": "2025-01-24T23:10:40.141Z"
   },
   {
    "duration": 32,
    "start_time": "2025-01-24T23:10:40.154Z"
   },
   {
    "duration": 9,
    "start_time": "2025-01-24T23:10:40.188Z"
   },
   {
    "duration": 33,
    "start_time": "2025-01-24T23:10:40.199Z"
   },
   {
    "duration": 48,
    "start_time": "2025-01-24T23:10:40.234Z"
   },
   {
    "duration": 7,
    "start_time": "2025-01-24T23:12:02.688Z"
   },
   {
    "duration": 7,
    "start_time": "2025-01-24T23:12:20.309Z"
   },
   {
    "duration": 3,
    "start_time": "2025-01-24T23:12:38.212Z"
   },
   {
    "duration": 4,
    "start_time": "2025-01-24T23:12:54.048Z"
   },
   {
    "duration": 4,
    "start_time": "2025-01-24T23:13:31.349Z"
   },
   {
    "duration": 4,
    "start_time": "2025-01-24T23:14:24.892Z"
   },
   {
    "duration": 4,
    "start_time": "2025-01-24T23:15:04.212Z"
   },
   {
    "duration": 4,
    "start_time": "2025-01-24T23:15:08.662Z"
   },
   {
    "duration": 6,
    "start_time": "2025-01-24T23:16:04.049Z"
   },
   {
    "duration": 6,
    "start_time": "2025-01-24T23:17:44.685Z"
   },
   {
    "duration": 20,
    "start_time": "2025-01-24T23:19:51.460Z"
   },
   {
    "duration": 26,
    "start_time": "2025-01-24T23:21:19.118Z"
   },
   {
    "duration": 9,
    "start_time": "2025-01-24T23:22:15.187Z"
   },
   {
    "duration": 21,
    "start_time": "2025-01-24T23:22:19.923Z"
   },
   {
    "duration": 332,
    "start_time": "2025-01-25T11:38:58.946Z"
   },
   {
    "duration": 168,
    "start_time": "2025-01-25T11:38:59.280Z"
   },
   {
    "duration": 61,
    "start_time": "2025-01-25T11:38:59.450Z"
   },
   {
    "duration": 794,
    "start_time": "2025-01-25T11:38:59.514Z"
   },
   {
    "duration": 18,
    "start_time": "2025-01-25T11:39:00.311Z"
   },
   {
    "duration": 11,
    "start_time": "2025-01-25T11:39:00.331Z"
   },
   {
    "duration": 115,
    "start_time": "2025-01-25T11:39:00.344Z"
   },
   {
    "duration": 7,
    "start_time": "2025-01-25T11:39:00.461Z"
   },
   {
    "duration": 126,
    "start_time": "2025-01-25T11:39:00.470Z"
   },
   {
    "duration": 92,
    "start_time": "2025-01-25T11:39:00.599Z"
   },
   {
    "duration": 35,
    "start_time": "2025-01-25T11:39:00.693Z"
   },
   {
    "duration": 16,
    "start_time": "2025-01-25T11:39:00.730Z"
   },
   {
    "duration": 8,
    "start_time": "2025-01-25T11:39:00.747Z"
   },
   {
    "duration": 20,
    "start_time": "2025-01-25T11:39:00.756Z"
   },
   {
    "duration": 6,
    "start_time": "2025-01-25T11:39:00.777Z"
   },
   {
    "duration": 3,
    "start_time": "2025-01-25T11:39:00.785Z"
   },
   {
    "duration": 3,
    "start_time": "2025-01-25T11:39:00.824Z"
   },
   {
    "duration": 3,
    "start_time": "2025-01-25T11:39:00.829Z"
   },
   {
    "duration": 3,
    "start_time": "2025-01-25T11:39:00.834Z"
   },
   {
    "duration": 802,
    "start_time": "2025-01-25T11:39:00.839Z"
   },
   {
    "duration": 82,
    "start_time": "2025-01-25T11:39:01.643Z"
   },
   {
    "duration": 6,
    "start_time": "2025-01-25T11:39:01.728Z"
   },
   {
    "duration": 4,
    "start_time": "2025-01-25T11:39:01.736Z"
   },
   {
    "duration": 6,
    "start_time": "2025-01-25T11:39:01.741Z"
   },
   {
    "duration": 7,
    "start_time": "2025-01-25T11:39:01.748Z"
   },
   {
    "duration": 7,
    "start_time": "2025-01-25T11:39:01.756Z"
   },
   {
    "duration": 6,
    "start_time": "2025-01-25T11:39:01.765Z"
   },
   {
    "duration": 7,
    "start_time": "2025-01-25T11:39:01.775Z"
   },
   {
    "duration": 46,
    "start_time": "2025-01-25T11:39:01.783Z"
   },
   {
    "duration": 32,
    "start_time": "2025-01-25T11:39:01.831Z"
   },
   {
    "duration": 9,
    "start_time": "2025-01-25T11:39:01.864Z"
   },
   {
    "duration": 4,
    "start_time": "2025-01-25T11:39:01.875Z"
   },
   {
    "duration": 81,
    "start_time": "2025-01-25T11:39:01.881Z"
   },
   {
    "duration": 4,
    "start_time": "2025-01-25T11:39:01.964Z"
   },
   {
    "duration": 3,
    "start_time": "2025-01-25T11:39:01.969Z"
   },
   {
    "duration": 6,
    "start_time": "2025-01-25T11:39:01.974Z"
   },
   {
    "duration": 6,
    "start_time": "2025-01-25T11:39:01.982Z"
   },
   {
    "duration": 48,
    "start_time": "2025-01-25T11:39:01.989Z"
   },
   {
    "duration": 8,
    "start_time": "2025-01-25T11:39:02.039Z"
   },
   {
    "duration": 4,
    "start_time": "2025-01-25T11:42:54.316Z"
   },
   {
    "duration": 2014,
    "start_time": "2025-01-25T11:44:22.641Z"
   },
   {
    "duration": 118,
    "start_time": "2025-01-25T11:46:44.985Z"
   },
   {
    "duration": 350,
    "start_time": "2025-01-25T11:47:35.121Z"
   },
   {
    "duration": 325,
    "start_time": "2025-01-25T11:48:06.463Z"
   },
   {
    "duration": 140,
    "start_time": "2025-01-25T11:48:06.790Z"
   },
   {
    "duration": 42,
    "start_time": "2025-01-25T11:48:06.932Z"
   },
   {
    "duration": 743,
    "start_time": "2025-01-25T11:48:06.975Z"
   },
   {
    "duration": 14,
    "start_time": "2025-01-25T11:48:07.726Z"
   },
   {
    "duration": 11,
    "start_time": "2025-01-25T11:48:07.742Z"
   },
   {
    "duration": 112,
    "start_time": "2025-01-25T11:48:07.754Z"
   },
   {
    "duration": 9,
    "start_time": "2025-01-25T11:48:07.868Z"
   },
   {
    "duration": 136,
    "start_time": "2025-01-25T11:48:07.879Z"
   },
   {
    "duration": 94,
    "start_time": "2025-01-25T11:48:08.017Z"
   },
   {
    "duration": 34,
    "start_time": "2025-01-25T11:48:08.113Z"
   },
   {
    "duration": 16,
    "start_time": "2025-01-25T11:48:08.149Z"
   },
   {
    "duration": 8,
    "start_time": "2025-01-25T11:48:08.167Z"
   },
   {
    "duration": 44,
    "start_time": "2025-01-25T11:48:08.179Z"
   },
   {
    "duration": 6,
    "start_time": "2025-01-25T11:48:08.225Z"
   },
   {
    "duration": 3,
    "start_time": "2025-01-25T11:48:08.233Z"
   },
   {
    "duration": 3,
    "start_time": "2025-01-25T11:48:08.238Z"
   },
   {
    "duration": 3,
    "start_time": "2025-01-25T11:48:08.243Z"
   },
   {
    "duration": 3,
    "start_time": "2025-01-25T11:48:08.248Z"
   },
   {
    "duration": 786,
    "start_time": "2025-01-25T11:48:08.253Z"
   },
   {
    "duration": 76,
    "start_time": "2025-01-25T11:48:09.041Z"
   },
   {
    "duration": 8,
    "start_time": "2025-01-25T11:48:09.124Z"
   },
   {
    "duration": 4,
    "start_time": "2025-01-25T11:48:09.134Z"
   },
   {
    "duration": 4,
    "start_time": "2025-01-25T11:48:09.140Z"
   },
   {
    "duration": 6,
    "start_time": "2025-01-25T11:48:09.145Z"
   },
   {
    "duration": 7,
    "start_time": "2025-01-25T11:48:09.153Z"
   },
   {
    "duration": 6,
    "start_time": "2025-01-25T11:48:09.161Z"
   },
   {
    "duration": 7,
    "start_time": "2025-01-25T11:48:09.168Z"
   },
   {
    "duration": 51,
    "start_time": "2025-01-25T11:48:09.176Z"
   },
   {
    "duration": 32,
    "start_time": "2025-01-25T11:48:09.228Z"
   },
   {
    "duration": 9,
    "start_time": "2025-01-25T11:48:09.261Z"
   },
   {
    "duration": 4,
    "start_time": "2025-01-25T11:48:09.272Z"
   },
   {
    "duration": 71,
    "start_time": "2025-01-25T11:48:09.277Z"
   },
   {
    "duration": 4,
    "start_time": "2025-01-25T11:48:09.349Z"
   },
   {
    "duration": 4,
    "start_time": "2025-01-25T11:48:09.355Z"
   },
   {
    "duration": 5,
    "start_time": "2025-01-25T11:48:09.361Z"
   },
   {
    "duration": 5,
    "start_time": "2025-01-25T11:48:09.368Z"
   },
   {
    "duration": 56,
    "start_time": "2025-01-25T11:48:09.374Z"
   },
   {
    "duration": 8,
    "start_time": "2025-01-25T11:48:09.431Z"
   },
   {
    "duration": 480,
    "start_time": "2025-01-25T11:48:09.440Z"
   },
   {
    "duration": 0,
    "start_time": "2025-01-25T11:48:09.924Z"
   },
   {
    "duration": 442,
    "start_time": "2025-01-25T11:48:43.335Z"
   },
   {
    "duration": 174,
    "start_time": "2025-01-25T11:48:43.779Z"
   },
   {
    "duration": 42,
    "start_time": "2025-01-25T11:48:43.955Z"
   },
   {
    "duration": 731,
    "start_time": "2025-01-25T11:48:44.000Z"
   },
   {
    "duration": 11,
    "start_time": "2025-01-25T11:48:44.732Z"
   },
   {
    "duration": 10,
    "start_time": "2025-01-25T11:48:44.745Z"
   },
   {
    "duration": 119,
    "start_time": "2025-01-25T11:48:44.757Z"
   },
   {
    "duration": 7,
    "start_time": "2025-01-25T11:48:44.878Z"
   },
   {
    "duration": 125,
    "start_time": "2025-01-25T11:48:44.887Z"
   },
   {
    "duration": 93,
    "start_time": "2025-01-25T11:48:45.016Z"
   },
   {
    "duration": 34,
    "start_time": "2025-01-25T11:48:45.111Z"
   },
   {
    "duration": 15,
    "start_time": "2025-01-25T11:48:45.147Z"
   },
   {
    "duration": 7,
    "start_time": "2025-01-25T11:48:45.164Z"
   },
   {
    "duration": 20,
    "start_time": "2025-01-25T11:48:45.174Z"
   },
   {
    "duration": 29,
    "start_time": "2025-01-25T11:48:45.195Z"
   },
   {
    "duration": 3,
    "start_time": "2025-01-25T11:48:45.226Z"
   },
   {
    "duration": 3,
    "start_time": "2025-01-25T11:48:45.231Z"
   },
   {
    "duration": 4,
    "start_time": "2025-01-25T11:48:45.236Z"
   },
   {
    "duration": 3,
    "start_time": "2025-01-25T11:48:45.241Z"
   },
   {
    "duration": 765,
    "start_time": "2025-01-25T11:48:45.246Z"
   },
   {
    "duration": 78,
    "start_time": "2025-01-25T11:48:46.013Z"
   },
   {
    "duration": 6,
    "start_time": "2025-01-25T11:48:46.093Z"
   },
   {
    "duration": 24,
    "start_time": "2025-01-25T11:48:46.101Z"
   },
   {
    "duration": 4,
    "start_time": "2025-01-25T11:48:46.126Z"
   },
   {
    "duration": 5,
    "start_time": "2025-01-25T11:48:46.132Z"
   },
   {
    "duration": 7,
    "start_time": "2025-01-25T11:48:46.139Z"
   },
   {
    "duration": 7,
    "start_time": "2025-01-25T11:48:46.147Z"
   },
   {
    "duration": 7,
    "start_time": "2025-01-25T11:48:46.159Z"
   },
   {
    "duration": 9,
    "start_time": "2025-01-25T11:48:46.168Z"
   },
   {
    "duration": 64,
    "start_time": "2025-01-25T11:48:46.178Z"
   },
   {
    "duration": 9,
    "start_time": "2025-01-25T11:48:46.244Z"
   },
   {
    "duration": 4,
    "start_time": "2025-01-25T11:48:46.254Z"
   },
   {
    "duration": 65,
    "start_time": "2025-01-25T11:48:46.260Z"
   },
   {
    "duration": 4,
    "start_time": "2025-01-25T11:48:46.327Z"
   },
   {
    "duration": 4,
    "start_time": "2025-01-25T11:48:46.333Z"
   },
   {
    "duration": 5,
    "start_time": "2025-01-25T11:48:46.339Z"
   },
   {
    "duration": 6,
    "start_time": "2025-01-25T11:48:46.346Z"
   },
   {
    "duration": 21,
    "start_time": "2025-01-25T11:48:46.353Z"
   },
   {
    "duration": 50,
    "start_time": "2025-01-25T11:48:46.375Z"
   },
   {
    "duration": 356,
    "start_time": "2025-01-25T11:48:46.427Z"
   },
   {
    "duration": 0,
    "start_time": "2025-01-25T11:48:46.785Z"
   },
   {
    "duration": 167,
    "start_time": "2025-01-25T11:49:35.002Z"
   },
   {
    "duration": 204,
    "start_time": "2025-01-25T11:50:00.724Z"
   },
   {
    "duration": 266,
    "start_time": "2025-01-25T11:50:24.397Z"
   },
   {
    "duration": 228,
    "start_time": "2025-01-25T11:50:57.261Z"
   },
   {
    "duration": 222,
    "start_time": "2025-01-25T11:51:18.567Z"
   },
   {
    "duration": 229,
    "start_time": "2025-01-25T11:51:48.142Z"
   },
   {
    "duration": 227,
    "start_time": "2025-01-25T11:53:34.629Z"
   },
   {
    "duration": 222,
    "start_time": "2025-01-25T11:53:46.122Z"
   },
   {
    "duration": 289,
    "start_time": "2025-01-25T11:54:00.777Z"
   },
   {
    "duration": 344,
    "start_time": "2025-01-25T12:00:50.851Z"
   },
   {
    "duration": 227,
    "start_time": "2025-01-25T12:00:54.240Z"
   },
   {
    "duration": 532,
    "start_time": "2025-01-25T12:07:08.058Z"
   },
   {
    "duration": 113,
    "start_time": "2025-01-25T12:08:13.211Z"
   },
   {
    "duration": 25,
    "start_time": "2025-01-25T12:08:57.231Z"
   },
   {
    "duration": 392,
    "start_time": "2025-01-25T12:09:44.510Z"
   },
   {
    "duration": 167,
    "start_time": "2025-01-25T12:09:44.905Z"
   },
   {
    "duration": 51,
    "start_time": "2025-01-25T12:09:45.073Z"
   },
   {
    "duration": 716,
    "start_time": "2025-01-25T12:09:45.127Z"
   },
   {
    "duration": 11,
    "start_time": "2025-01-25T12:09:45.845Z"
   },
   {
    "duration": 10,
    "start_time": "2025-01-25T12:09:45.858Z"
   },
   {
    "duration": 121,
    "start_time": "2025-01-25T12:09:45.871Z"
   },
   {
    "duration": 9,
    "start_time": "2025-01-25T12:09:45.994Z"
   },
   {
    "duration": 127,
    "start_time": "2025-01-25T12:09:46.004Z"
   },
   {
    "duration": 95,
    "start_time": "2025-01-25T12:09:46.135Z"
   },
   {
    "duration": 26,
    "start_time": "2025-01-25T12:09:46.233Z"
   },
   {
    "duration": 15,
    "start_time": "2025-01-25T12:09:46.261Z"
   },
   {
    "duration": 7,
    "start_time": "2025-01-25T12:09:46.278Z"
   },
   {
    "duration": 42,
    "start_time": "2025-01-25T12:09:46.286Z"
   },
   {
    "duration": 7,
    "start_time": "2025-01-25T12:09:46.330Z"
   },
   {
    "duration": 3,
    "start_time": "2025-01-25T12:09:46.338Z"
   },
   {
    "duration": 3,
    "start_time": "2025-01-25T12:09:46.343Z"
   },
   {
    "duration": 3,
    "start_time": "2025-01-25T12:09:46.348Z"
   },
   {
    "duration": 3,
    "start_time": "2025-01-25T12:09:46.353Z"
   },
   {
    "duration": 798,
    "start_time": "2025-01-25T12:09:46.358Z"
   },
   {
    "duration": 111,
    "start_time": "2025-01-25T12:09:47.158Z"
   },
   {
    "duration": 7,
    "start_time": "2025-01-25T12:09:47.270Z"
   },
   {
    "duration": 4,
    "start_time": "2025-01-25T12:09:47.278Z"
   },
   {
    "duration": 5,
    "start_time": "2025-01-25T12:09:47.285Z"
   },
   {
    "duration": 6,
    "start_time": "2025-01-25T12:09:47.291Z"
   },
   {
    "duration": 31,
    "start_time": "2025-01-25T12:09:47.299Z"
   },
   {
    "duration": 6,
    "start_time": "2025-01-25T12:09:47.332Z"
   },
   {
    "duration": 7,
    "start_time": "2025-01-25T12:09:47.341Z"
   },
   {
    "duration": 8,
    "start_time": "2025-01-25T12:09:47.349Z"
   },
   {
    "duration": 33,
    "start_time": "2025-01-25T12:09:47.359Z"
   },
   {
    "duration": 38,
    "start_time": "2025-01-25T12:09:47.394Z"
   },
   {
    "duration": 5,
    "start_time": "2025-01-25T12:09:47.433Z"
   },
   {
    "duration": 65,
    "start_time": "2025-01-25T12:09:47.440Z"
   },
   {
    "duration": 22,
    "start_time": "2025-01-25T12:09:47.507Z"
   },
   {
    "duration": 4,
    "start_time": "2025-01-25T12:09:47.532Z"
   },
   {
    "duration": 5,
    "start_time": "2025-01-25T12:09:47.538Z"
   },
   {
    "duration": 5,
    "start_time": "2025-01-25T12:09:47.545Z"
   },
   {
    "duration": 19,
    "start_time": "2025-01-25T12:09:47.552Z"
   },
   {
    "duration": 8,
    "start_time": "2025-01-25T12:09:47.573Z"
   },
   {
    "duration": 296,
    "start_time": "2025-01-25T12:09:47.582Z"
   },
   {
    "duration": 303,
    "start_time": "2025-01-25T12:09:47.881Z"
   },
   {
    "duration": 281,
    "start_time": "2025-01-25T12:10:17.314Z"
   },
   {
    "duration": 190,
    "start_time": "2025-01-25T12:10:50.098Z"
   },
   {
    "duration": 252,
    "start_time": "2025-01-25T12:11:55.859Z"
   },
   {
    "duration": 273,
    "start_time": "2025-01-25T12:12:48.109Z"
   },
   {
    "duration": 255,
    "start_time": "2025-01-25T12:13:31.913Z"
   },
   {
    "duration": 257,
    "start_time": "2025-01-25T12:14:23.206Z"
   },
   {
    "duration": 10275,
    "start_time": "2025-01-25T12:14:53.118Z"
   },
   {
    "duration": 2019,
    "start_time": "2025-01-25T12:15:18.697Z"
   },
   {
    "duration": 111,
    "start_time": "2025-01-25T12:15:49.106Z"
   },
   {
    "duration": 88,
    "start_time": "2025-01-25T12:17:01.511Z"
   },
   {
    "duration": 86,
    "start_time": "2025-01-25T12:17:24.426Z"
   },
   {
    "duration": 1053,
    "start_time": "2025-01-25T12:18:32.955Z"
   },
   {
    "duration": 103,
    "start_time": "2025-01-25T12:20:28.337Z"
   },
   {
    "duration": 5,
    "start_time": "2025-01-25T12:22:26.146Z"
   },
   {
    "duration": 33,
    "start_time": "2025-01-25T12:23:54.913Z"
   },
   {
    "duration": 12,
    "start_time": "2025-01-25T12:24:03.049Z"
   },
   {
    "duration": 12,
    "start_time": "2025-01-25T12:24:31.310Z"
   },
   {
    "duration": 23,
    "start_time": "2025-01-25T12:25:36.905Z"
   },
   {
    "duration": 22,
    "start_time": "2025-01-25T12:25:49.916Z"
   },
   {
    "duration": 243,
    "start_time": "2025-01-25T12:26:24.070Z"
   },
   {
    "duration": 157,
    "start_time": "2025-01-25T12:27:25.614Z"
   },
   {
    "duration": 95,
    "start_time": "2025-01-25T12:27:47.130Z"
   },
   {
    "duration": 141,
    "start_time": "2025-01-25T12:27:50.185Z"
   },
   {
    "duration": 248,
    "start_time": "2025-01-25T12:28:11.013Z"
   },
   {
    "duration": 301,
    "start_time": "2025-01-25T12:28:18.293Z"
   },
   {
    "duration": 1702,
    "start_time": "2025-01-25T12:28:31.335Z"
   },
   {
    "duration": 1604,
    "start_time": "2025-01-25T12:30:06.395Z"
   },
   {
    "duration": 7,
    "start_time": "2025-01-25T12:34:00.737Z"
   },
   {
    "duration": 4,
    "start_time": "2025-01-25T12:34:08.124Z"
   },
   {
    "duration": 1531,
    "start_time": "2025-01-25T12:34:20.663Z"
   },
   {
    "duration": 1525,
    "start_time": "2025-01-25T12:34:26.635Z"
   },
   {
    "duration": 161,
    "start_time": "2025-01-25T12:34:32.383Z"
   },
   {
    "duration": 1368,
    "start_time": "2025-01-25T12:35:09.356Z"
   },
   {
    "duration": 1445,
    "start_time": "2025-01-25T12:36:03.090Z"
   },
   {
    "duration": 1391,
    "start_time": "2025-01-25T12:36:10.276Z"
   },
   {
    "duration": 1380,
    "start_time": "2025-01-25T12:37:14.816Z"
   },
   {
    "duration": 1370,
    "start_time": "2025-01-25T12:37:45.081Z"
   },
   {
    "duration": 1405,
    "start_time": "2025-01-25T12:39:02.165Z"
   },
   {
    "duration": 1633,
    "start_time": "2025-01-25T12:40:20.157Z"
   },
   {
    "duration": 4,
    "start_time": "2025-01-25T12:41:16.683Z"
   },
   {
    "duration": 1554,
    "start_time": "2025-01-25T12:41:22.765Z"
   },
   {
    "duration": 160,
    "start_time": "2025-01-25T12:46:57.584Z"
   },
   {
    "duration": 112,
    "start_time": "2025-01-25T12:47:07.349Z"
   },
   {
    "duration": 128,
    "start_time": "2025-01-25T12:47:15.144Z"
   },
   {
    "duration": 195,
    "start_time": "2025-01-25T12:47:23.092Z"
   },
   {
    "duration": 196,
    "start_time": "2025-01-25T12:47:41.274Z"
   },
   {
    "duration": 491,
    "start_time": "2025-01-25T12:48:03.276Z"
   },
   {
    "duration": 1507,
    "start_time": "2025-01-25T12:48:35.995Z"
   },
   {
    "duration": 1502,
    "start_time": "2025-01-25T12:49:44.382Z"
   },
   {
    "duration": 1559,
    "start_time": "2025-01-25T12:50:03.746Z"
   },
   {
    "duration": 2234,
    "start_time": "2025-01-25T12:51:44.040Z"
   },
   {
    "duration": 2286,
    "start_time": "2025-01-25T12:51:56.324Z"
   },
   {
    "duration": 2187,
    "start_time": "2025-01-25T12:52:12.463Z"
   },
   {
    "duration": 1517,
    "start_time": "2025-01-25T12:54:01.924Z"
   },
   {
    "duration": 2291,
    "start_time": "2025-01-25T12:54:16.242Z"
   },
   {
    "duration": 1431,
    "start_time": "2025-01-25T12:54:37.093Z"
   },
   {
    "duration": 859,
    "start_time": "2025-01-25T12:54:41.147Z"
   },
   {
    "duration": 854,
    "start_time": "2025-01-25T12:54:56.877Z"
   },
   {
    "duration": 831,
    "start_time": "2025-01-25T12:55:06.503Z"
   },
   {
    "duration": 837,
    "start_time": "2025-01-25T12:55:14.713Z"
   },
   {
    "duration": 109,
    "start_time": "2025-01-25T12:55:56.787Z"
   },
   {
    "duration": 1194,
    "start_time": "2025-01-25T12:56:31.803Z"
   },
   {
    "duration": 852,
    "start_time": "2025-01-25T12:57:41.986Z"
   },
   {
    "duration": 841,
    "start_time": "2025-01-25T12:57:49.146Z"
   },
   {
    "duration": 437,
    "start_time": "2025-01-25T13:01:53.350Z"
   },
   {
    "duration": 170,
    "start_time": "2025-01-25T13:01:53.789Z"
   },
   {
    "duration": 43,
    "start_time": "2025-01-25T13:01:53.961Z"
   },
   {
    "duration": 727,
    "start_time": "2025-01-25T13:01:54.006Z"
   },
   {
    "duration": 12,
    "start_time": "2025-01-25T13:01:54.734Z"
   },
   {
    "duration": 11,
    "start_time": "2025-01-25T13:01:54.748Z"
   },
   {
    "duration": 113,
    "start_time": "2025-01-25T13:01:54.761Z"
   },
   {
    "duration": 8,
    "start_time": "2025-01-25T13:01:54.876Z"
   },
   {
    "duration": 122,
    "start_time": "2025-01-25T13:01:54.885Z"
   },
   {
    "duration": 96,
    "start_time": "2025-01-25T13:01:55.010Z"
   },
   {
    "duration": 39,
    "start_time": "2025-01-25T13:01:55.108Z"
   },
   {
    "duration": 15,
    "start_time": "2025-01-25T13:01:55.149Z"
   },
   {
    "duration": 7,
    "start_time": "2025-01-25T13:01:55.165Z"
   },
   {
    "duration": 19,
    "start_time": "2025-01-25T13:01:55.174Z"
   },
   {
    "duration": 6,
    "start_time": "2025-01-25T13:01:55.195Z"
   },
   {
    "duration": 3,
    "start_time": "2025-01-25T13:01:55.224Z"
   },
   {
    "duration": 3,
    "start_time": "2025-01-25T13:01:55.229Z"
   },
   {
    "duration": 4,
    "start_time": "2025-01-25T13:01:55.234Z"
   },
   {
    "duration": 3,
    "start_time": "2025-01-25T13:01:55.239Z"
   },
   {
    "duration": 768,
    "start_time": "2025-01-25T13:01:55.244Z"
   },
   {
    "duration": 76,
    "start_time": "2025-01-25T13:01:56.014Z"
   },
   {
    "duration": 6,
    "start_time": "2025-01-25T13:01:56.092Z"
   },
   {
    "duration": 3,
    "start_time": "2025-01-25T13:01:56.100Z"
   },
   {
    "duration": 21,
    "start_time": "2025-01-25T13:01:56.105Z"
   },
   {
    "duration": 6,
    "start_time": "2025-01-25T13:01:56.128Z"
   },
   {
    "duration": 8,
    "start_time": "2025-01-25T13:01:56.135Z"
   },
   {
    "duration": 6,
    "start_time": "2025-01-25T13:01:56.145Z"
   },
   {
    "duration": 6,
    "start_time": "2025-01-25T13:01:56.155Z"
   },
   {
    "duration": 9,
    "start_time": "2025-01-25T13:01:56.162Z"
   },
   {
    "duration": 72,
    "start_time": "2025-01-25T13:01:56.172Z"
   },
   {
    "duration": 9,
    "start_time": "2025-01-25T13:01:56.245Z"
   },
   {
    "duration": 4,
    "start_time": "2025-01-25T13:01:56.255Z"
   },
   {
    "duration": 65,
    "start_time": "2025-01-25T13:01:56.260Z"
   },
   {
    "duration": 4,
    "start_time": "2025-01-25T13:01:56.327Z"
   },
   {
    "duration": 4,
    "start_time": "2025-01-25T13:01:56.333Z"
   },
   {
    "duration": 6,
    "start_time": "2025-01-25T13:01:56.339Z"
   },
   {
    "duration": 6,
    "start_time": "2025-01-25T13:01:56.347Z"
   },
   {
    "duration": 19,
    "start_time": "2025-01-25T13:01:56.354Z"
   },
   {
    "duration": 8,
    "start_time": "2025-01-25T13:01:56.374Z"
   },
   {
    "duration": 288,
    "start_time": "2025-01-25T13:01:56.383Z"
   },
   {
    "duration": 116,
    "start_time": "2025-01-25T13:01:56.673Z"
   },
   {
    "duration": 108,
    "start_time": "2025-01-25T13:01:56.791Z"
   },
   {
    "duration": 12,
    "start_time": "2025-01-25T13:01:56.902Z"
   },
   {
    "duration": 1570,
    "start_time": "2025-01-25T13:01:56.915Z"
   },
   {
    "duration": 159,
    "start_time": "2025-01-25T13:05:57.064Z"
   },
   {
    "duration": 419,
    "start_time": "2025-01-25T13:06:01.686Z"
   },
   {
    "duration": 201,
    "start_time": "2025-01-25T13:06:02.107Z"
   },
   {
    "duration": 61,
    "start_time": "2025-01-25T13:06:02.310Z"
   },
   {
    "duration": 815,
    "start_time": "2025-01-25T13:06:02.373Z"
   },
   {
    "duration": 12,
    "start_time": "2025-01-25T13:06:03.191Z"
   },
   {
    "duration": 23,
    "start_time": "2025-01-25T13:06:03.205Z"
   },
   {
    "duration": 107,
    "start_time": "2025-01-25T13:06:03.229Z"
   },
   {
    "duration": 8,
    "start_time": "2025-01-25T13:06:03.338Z"
   },
   {
    "duration": 128,
    "start_time": "2025-01-25T13:06:03.347Z"
   },
   {
    "duration": 96,
    "start_time": "2025-01-25T13:06:03.476Z"
   },
   {
    "duration": 26,
    "start_time": "2025-01-25T13:06:03.575Z"
   },
   {
    "duration": 33,
    "start_time": "2025-01-25T13:06:03.603Z"
   },
   {
    "duration": 7,
    "start_time": "2025-01-25T13:06:03.637Z"
   },
   {
    "duration": 20,
    "start_time": "2025-01-25T13:06:03.649Z"
   },
   {
    "duration": 6,
    "start_time": "2025-01-25T13:06:03.670Z"
   },
   {
    "duration": 3,
    "start_time": "2025-01-25T13:06:03.678Z"
   },
   {
    "duration": 2,
    "start_time": "2025-01-25T13:06:03.683Z"
   },
   {
    "duration": 38,
    "start_time": "2025-01-25T13:06:03.687Z"
   },
   {
    "duration": 4,
    "start_time": "2025-01-25T13:06:03.726Z"
   },
   {
    "duration": 794,
    "start_time": "2025-01-25T13:06:03.731Z"
   },
   {
    "duration": 73,
    "start_time": "2025-01-25T13:06:04.527Z"
   },
   {
    "duration": 6,
    "start_time": "2025-01-25T13:06:04.602Z"
   },
   {
    "duration": 17,
    "start_time": "2025-01-25T13:06:04.609Z"
   },
   {
    "duration": 4,
    "start_time": "2025-01-25T13:06:04.628Z"
   },
   {
    "duration": 6,
    "start_time": "2025-01-25T13:06:04.633Z"
   },
   {
    "duration": 8,
    "start_time": "2025-01-25T13:06:04.640Z"
   },
   {
    "duration": 7,
    "start_time": "2025-01-25T13:06:04.649Z"
   },
   {
    "duration": 7,
    "start_time": "2025-01-25T13:06:04.657Z"
   },
   {
    "duration": 7,
    "start_time": "2025-01-25T13:06:04.666Z"
   },
   {
    "duration": 76,
    "start_time": "2025-01-25T13:06:04.675Z"
   },
   {
    "duration": 9,
    "start_time": "2025-01-25T13:06:04.752Z"
   },
   {
    "duration": 3,
    "start_time": "2025-01-25T13:06:04.763Z"
   },
   {
    "duration": 66,
    "start_time": "2025-01-25T13:06:04.768Z"
   },
   {
    "duration": 5,
    "start_time": "2025-01-25T13:06:04.836Z"
   },
   {
    "duration": 4,
    "start_time": "2025-01-25T13:06:04.842Z"
   },
   {
    "duration": 5,
    "start_time": "2025-01-25T13:06:04.848Z"
   },
   {
    "duration": 5,
    "start_time": "2025-01-25T13:06:04.855Z"
   },
   {
    "duration": 19,
    "start_time": "2025-01-25T13:06:04.861Z"
   },
   {
    "duration": 43,
    "start_time": "2025-01-25T13:06:04.882Z"
   },
   {
    "duration": 249,
    "start_time": "2025-01-25T13:06:04.927Z"
   },
   {
    "duration": 125,
    "start_time": "2025-01-25T13:06:05.180Z"
   },
   {
    "duration": 108,
    "start_time": "2025-01-25T13:06:05.307Z"
   },
   {
    "duration": 15,
    "start_time": "2025-01-25T13:06:05.417Z"
   },
   {
    "duration": 1428,
    "start_time": "2025-01-25T13:06:05.433Z"
   },
   {
    "duration": 111,
    "start_time": "2025-01-25T13:06:06.862Z"
   },
   {
    "duration": 114,
    "start_time": "2025-01-25T13:07:03.700Z"
   },
   {
    "duration": 6,
    "start_time": "2025-01-25T13:08:17.058Z"
   },
   {
    "duration": 4,
    "start_time": "2025-01-25T13:09:31.867Z"
   },
   {
    "duration": 9,
    "start_time": "2025-01-25T13:10:35.718Z"
   },
   {
    "duration": 4,
    "start_time": "2025-01-25T13:11:10.667Z"
   },
   {
    "duration": 102,
    "start_time": "2025-01-25T13:13:00.185Z"
   },
   {
    "duration": 210,
    "start_time": "2025-01-25T13:13:56.867Z"
   },
   {
    "duration": 643,
    "start_time": "2025-01-25T13:14:21.319Z"
   },
   {
    "duration": 224,
    "start_time": "2025-01-25T13:14:28.408Z"
   },
   {
    "duration": 5,
    "start_time": "2025-01-25T13:16:03.567Z"
   },
   {
    "duration": 13,
    "start_time": "2025-01-25T13:16:24.716Z"
   },
   {
    "duration": 15,
    "start_time": "2025-01-25T13:16:37.941Z"
   },
   {
    "duration": 18,
    "start_time": "2025-01-25T13:16:54.269Z"
   },
   {
    "duration": 271,
    "start_time": "2025-01-25T13:18:13.628Z"
   },
   {
    "duration": 581,
    "start_time": "2025-01-25T13:18:37.782Z"
   },
   {
    "duration": 234,
    "start_time": "2025-01-25T13:20:05.506Z"
   },
   {
    "duration": 259,
    "start_time": "2025-01-25T13:20:33.650Z"
   },
   {
    "duration": 253,
    "start_time": "2025-01-25T13:21:20.323Z"
   },
   {
    "duration": 238,
    "start_time": "2025-01-25T13:23:52.000Z"
   },
   {
    "duration": 241,
    "start_time": "2025-01-25T13:24:55.629Z"
   },
   {
    "duration": 214,
    "start_time": "2025-01-25T13:27:04.210Z"
   },
   {
    "duration": 15,
    "start_time": "2025-01-25T13:27:06.799Z"
   },
   {
    "duration": 14,
    "start_time": "2025-01-25T13:27:09.697Z"
   },
   {
    "duration": 13,
    "start_time": "2025-01-25T13:29:02.103Z"
   },
   {
    "duration": 17,
    "start_time": "2025-01-25T13:29:37.606Z"
   },
   {
    "duration": 15,
    "start_time": "2025-01-25T13:29:56.590Z"
   },
   {
    "duration": 7,
    "start_time": "2025-01-25T13:30:05.665Z"
   },
   {
    "duration": 8,
    "start_time": "2025-01-25T13:30:20.280Z"
   },
   {
    "duration": 12,
    "start_time": "2025-01-25T13:31:33.601Z"
   },
   {
    "duration": 21,
    "start_time": "2025-01-25T13:32:27.947Z"
   },
   {
    "duration": 21,
    "start_time": "2025-01-25T13:32:34.886Z"
   },
   {
    "duration": 9,
    "start_time": "2025-01-25T13:32:37.625Z"
   },
   {
    "duration": 12,
    "start_time": "2025-01-25T13:33:46.424Z"
   },
   {
    "duration": 21,
    "start_time": "2025-01-25T13:34:05.917Z"
   },
   {
    "duration": 9,
    "start_time": "2025-01-25T13:34:37.096Z"
   },
   {
    "duration": 9,
    "start_time": "2025-01-25T13:35:04.911Z"
   },
   {
    "duration": 3,
    "start_time": "2025-01-25T13:35:22.290Z"
   },
   {
    "duration": 424,
    "start_time": "2025-01-25T13:35:54.078Z"
   },
   {
    "duration": 170,
    "start_time": "2025-01-25T13:35:54.504Z"
   },
   {
    "duration": 48,
    "start_time": "2025-01-25T13:35:54.676Z"
   },
   {
    "duration": 727,
    "start_time": "2025-01-25T13:35:54.726Z"
   },
   {
    "duration": 13,
    "start_time": "2025-01-25T13:35:55.455Z"
   },
   {
    "duration": 13,
    "start_time": "2025-01-25T13:35:55.469Z"
   },
   {
    "duration": 112,
    "start_time": "2025-01-25T13:35:55.483Z"
   },
   {
    "duration": 8,
    "start_time": "2025-01-25T13:35:55.597Z"
   },
   {
    "duration": 124,
    "start_time": "2025-01-25T13:35:55.606Z"
   },
   {
    "duration": 96,
    "start_time": "2025-01-25T13:35:55.733Z"
   },
   {
    "duration": 26,
    "start_time": "2025-01-25T13:35:55.831Z"
   },
   {
    "duration": 15,
    "start_time": "2025-01-25T13:35:55.859Z"
   },
   {
    "duration": 7,
    "start_time": "2025-01-25T13:35:55.876Z"
   },
   {
    "duration": 44,
    "start_time": "2025-01-25T13:35:55.887Z"
   },
   {
    "duration": 8,
    "start_time": "2025-01-25T13:35:55.933Z"
   },
   {
    "duration": 3,
    "start_time": "2025-01-25T13:35:55.944Z"
   },
   {
    "duration": 4,
    "start_time": "2025-01-25T13:35:55.949Z"
   },
   {
    "duration": 3,
    "start_time": "2025-01-25T13:35:55.955Z"
   },
   {
    "duration": 4,
    "start_time": "2025-01-25T13:35:55.959Z"
   },
   {
    "duration": 770,
    "start_time": "2025-01-25T13:35:55.964Z"
   },
   {
    "duration": 74,
    "start_time": "2025-01-25T13:35:56.736Z"
   },
   {
    "duration": 19,
    "start_time": "2025-01-25T13:35:56.811Z"
   },
   {
    "duration": 3,
    "start_time": "2025-01-25T13:35:56.833Z"
   },
   {
    "duration": 3,
    "start_time": "2025-01-25T13:35:56.839Z"
   },
   {
    "duration": 5,
    "start_time": "2025-01-25T13:35:56.844Z"
   },
   {
    "duration": 7,
    "start_time": "2025-01-25T13:35:56.851Z"
   },
   {
    "duration": 7,
    "start_time": "2025-01-25T13:35:56.859Z"
   },
   {
    "duration": 6,
    "start_time": "2025-01-25T13:35:56.867Z"
   },
   {
    "duration": 7,
    "start_time": "2025-01-25T13:35:56.875Z"
   },
   {
    "duration": 31,
    "start_time": "2025-01-25T13:35:56.924Z"
   },
   {
    "duration": 10,
    "start_time": "2025-01-25T13:35:56.957Z"
   },
   {
    "duration": 4,
    "start_time": "2025-01-25T13:35:56.969Z"
   },
   {
    "duration": 69,
    "start_time": "2025-01-25T13:35:56.975Z"
   },
   {
    "duration": 3,
    "start_time": "2025-01-25T13:35:57.046Z"
   },
   {
    "duration": 4,
    "start_time": "2025-01-25T13:35:57.051Z"
   },
   {
    "duration": 6,
    "start_time": "2025-01-25T13:35:57.056Z"
   },
   {
    "duration": 6,
    "start_time": "2025-01-25T13:35:57.064Z"
   },
   {
    "duration": 53,
    "start_time": "2025-01-25T13:35:57.071Z"
   },
   {
    "duration": 9,
    "start_time": "2025-01-25T13:35:57.125Z"
   },
   {
    "duration": 254,
    "start_time": "2025-01-25T13:35:57.135Z"
   },
   {
    "duration": 124,
    "start_time": "2025-01-25T13:35:57.394Z"
   },
   {
    "duration": 126,
    "start_time": "2025-01-25T13:35:57.520Z"
   },
   {
    "duration": 11,
    "start_time": "2025-01-25T13:35:57.648Z"
   },
   {
    "duration": 182,
    "start_time": "2025-01-25T13:35:57.661Z"
   },
   {
    "duration": 5,
    "start_time": "2025-01-25T13:35:57.845Z"
   },
   {
    "duration": 7,
    "start_time": "2025-01-25T13:35:57.852Z"
   },
   {
    "duration": 5,
    "start_time": "2025-01-25T13:35:57.861Z"
   },
   {
    "duration": 256,
    "start_time": "2025-01-25T13:35:57.868Z"
   },
   {
    "duration": 20,
    "start_time": "2025-01-25T13:35:58.128Z"
   },
   {
    "duration": 8,
    "start_time": "2025-01-25T13:35:58.149Z"
   },
   {
    "duration": 4,
    "start_time": "2025-01-25T13:35:58.160Z"
   },
   {
    "duration": 171,
    "start_time": "2025-01-25T13:39:13.397Z"
   },
   {
    "duration": 233,
    "start_time": "2025-01-25T13:39:27.974Z"
   },
   {
    "duration": 7,
    "start_time": "2025-01-25T13:39:56.412Z"
   },
   {
    "duration": 231,
    "start_time": "2025-01-25T13:40:07.480Z"
   },
   {
    "duration": 468,
    "start_time": "2025-01-25T13:41:05.699Z"
   },
   {
    "duration": 231,
    "start_time": "2025-01-25T13:41:12.957Z"
   },
   {
    "duration": 125,
    "start_time": "2025-01-25T13:43:21.445Z"
   },
   {
    "duration": 246,
    "start_time": "2025-01-25T13:43:46.586Z"
   },
   {
    "duration": 249,
    "start_time": "2025-01-25T13:44:20.737Z"
   },
   {
    "duration": 143,
    "start_time": "2025-01-25T13:45:00.247Z"
   },
   {
    "duration": 103,
    "start_time": "2025-01-25T13:45:06.823Z"
   },
   {
    "duration": 92,
    "start_time": "2025-01-25T13:46:46.137Z"
   },
   {
    "duration": 90,
    "start_time": "2025-01-25T13:47:37.086Z"
   },
   {
    "duration": 91,
    "start_time": "2025-01-25T13:48:13.366Z"
   },
   {
    "duration": 93,
    "start_time": "2025-01-25T13:48:24.050Z"
   },
   {
    "duration": 91,
    "start_time": "2025-01-25T13:49:25.299Z"
   },
   {
    "duration": 96,
    "start_time": "2025-01-25T13:50:27.663Z"
   },
   {
    "duration": 98,
    "start_time": "2025-01-25T13:51:01.635Z"
   },
   {
    "duration": 94,
    "start_time": "2025-01-25T13:51:54.264Z"
   },
   {
    "duration": 86,
    "start_time": "2025-01-25T13:52:19.821Z"
   },
   {
    "duration": 94,
    "start_time": "2025-01-25T13:52:46.249Z"
   },
   {
    "duration": 93,
    "start_time": "2025-01-25T13:52:55.907Z"
   },
   {
    "duration": 483,
    "start_time": "2025-01-25T13:53:14.436Z"
   },
   {
    "duration": 206,
    "start_time": "2025-01-25T13:53:14.921Z"
   },
   {
    "duration": 49,
    "start_time": "2025-01-25T13:53:15.128Z"
   },
   {
    "duration": 790,
    "start_time": "2025-01-25T13:53:15.181Z"
   },
   {
    "duration": 11,
    "start_time": "2025-01-25T13:53:15.973Z"
   },
   {
    "duration": 10,
    "start_time": "2025-01-25T13:53:15.986Z"
   },
   {
    "duration": 138,
    "start_time": "2025-01-25T13:53:15.998Z"
   },
   {
    "duration": 8,
    "start_time": "2025-01-25T13:53:16.138Z"
   },
   {
    "duration": 151,
    "start_time": "2025-01-25T13:53:16.148Z"
   },
   {
    "duration": 111,
    "start_time": "2025-01-25T13:53:16.302Z"
   },
   {
    "duration": 43,
    "start_time": "2025-01-25T13:53:16.418Z"
   },
   {
    "duration": 15,
    "start_time": "2025-01-25T13:53:16.463Z"
   },
   {
    "duration": 8,
    "start_time": "2025-01-25T13:53:16.482Z"
   },
   {
    "duration": 51,
    "start_time": "2025-01-25T13:53:16.492Z"
   },
   {
    "duration": 6,
    "start_time": "2025-01-25T13:53:16.546Z"
   },
   {
    "duration": 4,
    "start_time": "2025-01-25T13:53:16.554Z"
   },
   {
    "duration": 4,
    "start_time": "2025-01-25T13:53:16.559Z"
   },
   {
    "duration": 4,
    "start_time": "2025-01-25T13:53:16.565Z"
   },
   {
    "duration": 3,
    "start_time": "2025-01-25T13:53:16.570Z"
   },
   {
    "duration": 991,
    "start_time": "2025-01-25T13:53:16.575Z"
   },
   {
    "duration": 158,
    "start_time": "2025-01-25T13:53:17.569Z"
   },
   {
    "duration": 9,
    "start_time": "2025-01-25T13:53:17.730Z"
   },
   {
    "duration": 5,
    "start_time": "2025-01-25T13:53:17.741Z"
   },
   {
    "duration": 9,
    "start_time": "2025-01-25T13:53:17.748Z"
   },
   {
    "duration": 9,
    "start_time": "2025-01-25T13:53:17.759Z"
   },
   {
    "duration": 10,
    "start_time": "2025-01-25T13:53:17.770Z"
   },
   {
    "duration": 6,
    "start_time": "2025-01-25T13:53:17.783Z"
   },
   {
    "duration": 38,
    "start_time": "2025-01-25T13:53:17.793Z"
   },
   {
    "duration": 9,
    "start_time": "2025-01-25T13:53:17.833Z"
   },
   {
    "duration": 49,
    "start_time": "2025-01-25T13:53:17.845Z"
   },
   {
    "duration": 32,
    "start_time": "2025-01-25T13:53:17.896Z"
   },
   {
    "duration": 4,
    "start_time": "2025-01-25T13:53:17.930Z"
   },
   {
    "duration": 58,
    "start_time": "2025-01-25T13:53:17.936Z"
   },
   {
    "duration": 4,
    "start_time": "2025-01-25T13:53:17.996Z"
   },
   {
    "duration": 8,
    "start_time": "2025-01-25T13:53:18.025Z"
   },
   {
    "duration": 8,
    "start_time": "2025-01-25T13:53:18.035Z"
   },
   {
    "duration": 8,
    "start_time": "2025-01-25T13:53:18.045Z"
   },
   {
    "duration": 21,
    "start_time": "2025-01-25T13:53:18.056Z"
   },
   {
    "duration": 9,
    "start_time": "2025-01-25T13:53:18.080Z"
   },
   {
    "duration": 311,
    "start_time": "2025-01-25T13:53:18.091Z"
   },
   {
    "duration": 144,
    "start_time": "2025-01-25T13:53:18.404Z"
   },
   {
    "duration": 157,
    "start_time": "2025-01-25T13:53:18.550Z"
   },
   {
    "duration": 116,
    "start_time": "2025-01-25T13:53:18.710Z"
   },
   {
    "duration": 195,
    "start_time": "2025-01-25T13:53:18.828Z"
   },
   {
    "duration": 6,
    "start_time": "2025-01-25T13:53:19.025Z"
   },
   {
    "duration": 9,
    "start_time": "2025-01-25T13:53:19.032Z"
   },
   {
    "duration": 6,
    "start_time": "2025-01-25T13:53:19.042Z"
   },
   {
    "duration": 248,
    "start_time": "2025-01-25T13:53:19.049Z"
   },
   {
    "duration": 30,
    "start_time": "2025-01-25T13:53:19.299Z"
   },
   {
    "duration": 14,
    "start_time": "2025-01-25T13:53:19.331Z"
   },
   {
    "duration": 5,
    "start_time": "2025-01-25T13:53:19.347Z"
   },
   {
    "duration": 92,
    "start_time": "2025-01-25T13:54:59.831Z"
   },
   {
    "duration": 646,
    "start_time": "2025-01-25T13:58:16.258Z"
   },
   {
    "duration": 98,
    "start_time": "2025-01-25T13:59:16.945Z"
   },
   {
    "duration": 95,
    "start_time": "2025-01-25T13:59:34.303Z"
   },
   {
    "duration": 91,
    "start_time": "2025-01-25T13:59:51.616Z"
   },
   {
    "duration": 98,
    "start_time": "2025-01-25T14:01:03.808Z"
   },
   {
    "duration": 92,
    "start_time": "2025-01-25T14:02:09.319Z"
   },
   {
    "duration": 97,
    "start_time": "2025-01-25T14:03:33.144Z"
   },
   {
    "duration": 96,
    "start_time": "2025-01-25T14:03:42.849Z"
   },
   {
    "duration": 93,
    "start_time": "2025-01-25T14:03:54.411Z"
   },
   {
    "duration": 92,
    "start_time": "2025-01-25T14:06:47.706Z"
   },
   {
    "duration": 88,
    "start_time": "2025-01-25T14:07:01.432Z"
   },
   {
    "duration": 89,
    "start_time": "2025-01-25T14:07:24.378Z"
   },
   {
    "duration": 9,
    "start_time": "2025-01-25T14:07:44.565Z"
   },
   {
    "duration": 5,
    "start_time": "2025-01-25T14:08:15.659Z"
   },
   {
    "duration": 7,
    "start_time": "2025-01-25T14:08:23.279Z"
   },
   {
    "duration": 9,
    "start_time": "2025-01-25T14:14:57.064Z"
   },
   {
    "duration": 6,
    "start_time": "2025-01-25T14:15:14.066Z"
   },
   {
    "duration": 10,
    "start_time": "2025-01-25T14:15:34.413Z"
   },
   {
    "duration": 7,
    "start_time": "2025-01-25T14:16:29.166Z"
   },
   {
    "duration": 7,
    "start_time": "2025-01-25T14:16:38.203Z"
   },
   {
    "duration": 272,
    "start_time": "2025-01-25T14:17:37.676Z"
   },
   {
    "duration": 966,
    "start_time": "2025-01-25T14:17:45.351Z"
   },
   {
    "duration": 86,
    "start_time": "2025-01-25T14:19:29.350Z"
   },
   {
    "duration": 125,
    "start_time": "2025-01-25T14:20:03.787Z"
   },
   {
    "duration": 98,
    "start_time": "2025-01-25T14:20:15.402Z"
   },
   {
    "duration": 89,
    "start_time": "2025-01-25T14:20:24.621Z"
   },
   {
    "duration": 88,
    "start_time": "2025-01-25T14:20:38.595Z"
   },
   {
    "duration": 8,
    "start_time": "2025-01-25T14:24:05.122Z"
   },
   {
    "duration": 5,
    "start_time": "2025-01-25T14:24:57.483Z"
   },
   {
    "duration": 555,
    "start_time": "2025-01-25T14:26:21.584Z"
   },
   {
    "duration": 4,
    "start_time": "2025-01-25T14:26:37.042Z"
   },
   {
    "duration": 6,
    "start_time": "2025-01-25T14:27:04.011Z"
   },
   {
    "duration": 160,
    "start_time": "2025-01-25T14:27:21.519Z"
   },
   {
    "duration": 171,
    "start_time": "2025-01-25T14:27:48.498Z"
   },
   {
    "duration": 160,
    "start_time": "2025-01-25T14:27:57.275Z"
   },
   {
    "duration": 25,
    "start_time": "2025-01-25T14:28:14.519Z"
   },
   {
    "duration": 22,
    "start_time": "2025-01-25T14:29:59.113Z"
   },
   {
    "duration": 24,
    "start_time": "2025-01-25T14:30:09.032Z"
   },
   {
    "duration": 22,
    "start_time": "2025-01-25T14:32:18.226Z"
   },
   {
    "duration": 119,
    "start_time": "2025-01-25T14:32:48.094Z"
   },
   {
    "duration": 443,
    "start_time": "2025-01-25T14:33:00.851Z"
   },
   {
    "duration": 180,
    "start_time": "2025-01-25T14:33:01.296Z"
   },
   {
    "duration": 47,
    "start_time": "2025-01-25T14:33:01.477Z"
   },
   {
    "duration": 724,
    "start_time": "2025-01-25T14:33:01.527Z"
   },
   {
    "duration": 10,
    "start_time": "2025-01-25T14:33:02.253Z"
   },
   {
    "duration": 9,
    "start_time": "2025-01-25T14:33:02.265Z"
   },
   {
    "duration": 115,
    "start_time": "2025-01-25T14:33:02.276Z"
   },
   {
    "duration": 8,
    "start_time": "2025-01-25T14:33:02.393Z"
   },
   {
    "duration": 131,
    "start_time": "2025-01-25T14:33:02.402Z"
   },
   {
    "duration": 99,
    "start_time": "2025-01-25T14:33:02.537Z"
   },
   {
    "duration": 27,
    "start_time": "2025-01-25T14:33:02.637Z"
   },
   {
    "duration": 16,
    "start_time": "2025-01-25T14:33:02.666Z"
   },
   {
    "duration": 7,
    "start_time": "2025-01-25T14:33:02.683Z"
   },
   {
    "duration": 41,
    "start_time": "2025-01-25T14:33:02.691Z"
   },
   {
    "duration": 6,
    "start_time": "2025-01-25T14:33:02.733Z"
   },
   {
    "duration": 4,
    "start_time": "2025-01-25T14:33:02.740Z"
   },
   {
    "duration": 4,
    "start_time": "2025-01-25T14:33:02.746Z"
   },
   {
    "duration": 4,
    "start_time": "2025-01-25T14:33:02.751Z"
   },
   {
    "duration": 4,
    "start_time": "2025-01-25T14:33:02.756Z"
   },
   {
    "duration": 784,
    "start_time": "2025-01-25T14:33:02.762Z"
   },
   {
    "duration": 95,
    "start_time": "2025-01-25T14:33:03.548Z"
   },
   {
    "duration": 6,
    "start_time": "2025-01-25T14:33:03.645Z"
   },
   {
    "duration": 3,
    "start_time": "2025-01-25T14:33:03.653Z"
   },
   {
    "duration": 3,
    "start_time": "2025-01-25T14:33:03.658Z"
   },
   {
    "duration": 5,
    "start_time": "2025-01-25T14:33:03.663Z"
   },
   {
    "duration": 7,
    "start_time": "2025-01-25T14:33:03.671Z"
   },
   {
    "duration": 6,
    "start_time": "2025-01-25T14:33:03.679Z"
   },
   {
    "duration": 6,
    "start_time": "2025-01-25T14:33:03.724Z"
   },
   {
    "duration": 7,
    "start_time": "2025-01-25T14:33:03.732Z"
   },
   {
    "duration": 32,
    "start_time": "2025-01-25T14:33:03.740Z"
   },
   {
    "duration": 8,
    "start_time": "2025-01-25T14:33:03.774Z"
   },
   {
    "duration": 3,
    "start_time": "2025-01-25T14:33:03.785Z"
   },
   {
    "duration": 74,
    "start_time": "2025-01-25T14:33:03.790Z"
   },
   {
    "duration": 5,
    "start_time": "2025-01-25T14:33:03.865Z"
   },
   {
    "duration": 6,
    "start_time": "2025-01-25T14:33:03.873Z"
   },
   {
    "duration": 6,
    "start_time": "2025-01-25T14:33:03.880Z"
   },
   {
    "duration": 5,
    "start_time": "2025-01-25T14:33:03.887Z"
   },
   {
    "duration": 50,
    "start_time": "2025-01-25T14:33:03.893Z"
   },
   {
    "duration": 9,
    "start_time": "2025-01-25T14:33:03.945Z"
   },
   {
    "duration": 255,
    "start_time": "2025-01-25T14:33:03.955Z"
   },
   {
    "duration": 116,
    "start_time": "2025-01-25T14:33:04.212Z"
   },
   {
    "duration": 156,
    "start_time": "2025-01-25T14:33:04.330Z"
   },
   {
    "duration": 94,
    "start_time": "2025-01-25T14:33:04.488Z"
   },
   {
    "duration": 9,
    "start_time": "2025-01-25T14:33:04.584Z"
   },
   {
    "duration": 185,
    "start_time": "2025-01-25T14:33:04.594Z"
   },
   {
    "duration": 5,
    "start_time": "2025-01-25T14:33:04.781Z"
   },
   {
    "duration": 5,
    "start_time": "2025-01-25T14:33:04.788Z"
   },
   {
    "duration": 29,
    "start_time": "2025-01-25T14:33:04.795Z"
   },
   {
    "duration": 4,
    "start_time": "2025-01-25T14:33:04.826Z"
   },
   {
    "duration": 226,
    "start_time": "2025-01-25T14:33:04.832Z"
   },
   {
    "duration": 11,
    "start_time": "2025-01-25T14:33:05.060Z"
   },
   {
    "duration": 17,
    "start_time": "2025-01-25T14:33:05.072Z"
   },
   {
    "duration": 8,
    "start_time": "2025-01-25T14:33:05.091Z"
   },
   {
    "duration": 3,
    "start_time": "2025-01-25T14:33:05.123Z"
   },
   {
    "duration": 13,
    "start_time": "2025-01-25T14:33:33.912Z"
   },
   {
    "duration": 3,
    "start_time": "2025-01-25T14:35:08.060Z"
   },
   {
    "duration": 7,
    "start_time": "2025-01-25T14:35:57.963Z"
   },
   {
    "duration": 10,
    "start_time": "2025-01-25T14:36:17.772Z"
   },
   {
    "duration": 10,
    "start_time": "2025-01-25T14:37:20.742Z"
   },
   {
    "duration": 542,
    "start_time": "2025-01-25T14:37:24.270Z"
   },
   {
    "duration": 11,
    "start_time": "2025-01-25T14:37:47.370Z"
   },
   {
    "duration": 403,
    "start_time": "2025-01-25T14:37:52.214Z"
   },
   {
    "duration": 170,
    "start_time": "2025-01-25T14:37:52.619Z"
   },
   {
    "duration": 48,
    "start_time": "2025-01-25T14:37:52.791Z"
   },
   {
    "duration": 719,
    "start_time": "2025-01-25T14:37:52.842Z"
   },
   {
    "duration": 11,
    "start_time": "2025-01-25T14:37:53.563Z"
   },
   {
    "duration": 11,
    "start_time": "2025-01-25T14:37:53.575Z"
   },
   {
    "duration": 115,
    "start_time": "2025-01-25T14:37:53.588Z"
   },
   {
    "duration": 7,
    "start_time": "2025-01-25T14:37:53.705Z"
   },
   {
    "duration": 117,
    "start_time": "2025-01-25T14:37:53.725Z"
   },
   {
    "duration": 95,
    "start_time": "2025-01-25T14:37:53.846Z"
   },
   {
    "duration": 26,
    "start_time": "2025-01-25T14:37:53.944Z"
   },
   {
    "duration": 18,
    "start_time": "2025-01-25T14:37:53.972Z"
   },
   {
    "duration": 31,
    "start_time": "2025-01-25T14:37:53.993Z"
   },
   {
    "duration": 20,
    "start_time": "2025-01-25T14:37:54.026Z"
   },
   {
    "duration": 7,
    "start_time": "2025-01-25T14:37:54.048Z"
   },
   {
    "duration": 3,
    "start_time": "2025-01-25T14:37:54.057Z"
   },
   {
    "duration": 3,
    "start_time": "2025-01-25T14:37:54.062Z"
   },
   {
    "duration": 3,
    "start_time": "2025-01-25T14:37:54.067Z"
   },
   {
    "duration": 3,
    "start_time": "2025-01-25T14:37:54.071Z"
   },
   {
    "duration": 780,
    "start_time": "2025-01-25T14:37:54.076Z"
   },
   {
    "duration": 83,
    "start_time": "2025-01-25T14:37:54.858Z"
   },
   {
    "duration": 7,
    "start_time": "2025-01-25T14:37:54.942Z"
   },
   {
    "duration": 4,
    "start_time": "2025-01-25T14:37:54.951Z"
   },
   {
    "duration": 3,
    "start_time": "2025-01-25T14:37:54.958Z"
   },
   {
    "duration": 6,
    "start_time": "2025-01-25T14:37:54.962Z"
   },
   {
    "duration": 7,
    "start_time": "2025-01-25T14:37:54.970Z"
   },
   {
    "duration": 6,
    "start_time": "2025-01-25T14:37:54.979Z"
   },
   {
    "duration": 7,
    "start_time": "2025-01-25T14:37:55.026Z"
   },
   {
    "duration": 9,
    "start_time": "2025-01-25T14:37:55.035Z"
   },
   {
    "duration": 32,
    "start_time": "2025-01-25T14:37:55.045Z"
   },
   {
    "duration": 10,
    "start_time": "2025-01-25T14:37:55.079Z"
   },
   {
    "duration": 5,
    "start_time": "2025-01-25T14:37:55.091Z"
   },
   {
    "duration": 51,
    "start_time": "2025-01-25T14:37:55.124Z"
   },
   {
    "duration": 3,
    "start_time": "2025-01-25T14:37:55.177Z"
   },
   {
    "duration": 4,
    "start_time": "2025-01-25T14:37:55.182Z"
   },
   {
    "duration": 5,
    "start_time": "2025-01-25T14:37:55.188Z"
   },
   {
    "duration": 34,
    "start_time": "2025-01-25T14:37:55.194Z"
   },
   {
    "duration": 19,
    "start_time": "2025-01-25T14:37:55.229Z"
   },
   {
    "duration": 8,
    "start_time": "2025-01-25T14:37:55.250Z"
   },
   {
    "duration": 265,
    "start_time": "2025-01-25T14:37:55.259Z"
   },
   {
    "duration": 113,
    "start_time": "2025-01-25T14:37:55.525Z"
   },
   {
    "duration": 150,
    "start_time": "2025-01-25T14:37:55.641Z"
   },
   {
    "duration": 101,
    "start_time": "2025-01-25T14:37:55.793Z"
   },
   {
    "duration": 9,
    "start_time": "2025-01-25T14:37:55.896Z"
   },
   {
    "duration": 181,
    "start_time": "2025-01-25T14:37:55.906Z"
   },
   {
    "duration": 6,
    "start_time": "2025-01-25T14:37:56.089Z"
   },
   {
    "duration": 6,
    "start_time": "2025-01-25T14:37:56.097Z"
   },
   {
    "duration": 22,
    "start_time": "2025-01-25T14:37:56.104Z"
   },
   {
    "duration": 5,
    "start_time": "2025-01-25T14:37:56.128Z"
   },
   {
    "duration": 225,
    "start_time": "2025-01-25T14:37:56.134Z"
   },
   {
    "duration": 12,
    "start_time": "2025-01-25T14:37:56.360Z"
   },
   {
    "duration": 17,
    "start_time": "2025-01-25T14:37:56.373Z"
   },
   {
    "duration": 11,
    "start_time": "2025-01-25T14:37:56.392Z"
   },
   {
    "duration": 8,
    "start_time": "2025-01-25T14:37:56.425Z"
   },
   {
    "duration": 7,
    "start_time": "2025-01-25T14:38:45.330Z"
   },
   {
    "duration": 400,
    "start_time": "2025-01-25T14:38:56.294Z"
   },
   {
    "duration": 174,
    "start_time": "2025-01-25T14:38:56.696Z"
   },
   {
    "duration": 42,
    "start_time": "2025-01-25T14:38:56.872Z"
   },
   {
    "duration": 726,
    "start_time": "2025-01-25T14:38:56.923Z"
   },
   {
    "duration": 10,
    "start_time": "2025-01-25T14:38:57.653Z"
   },
   {
    "duration": 10,
    "start_time": "2025-01-25T14:38:57.665Z"
   },
   {
    "duration": 113,
    "start_time": "2025-01-25T14:38:57.677Z"
   },
   {
    "duration": 7,
    "start_time": "2025-01-25T14:38:57.792Z"
   },
   {
    "duration": 137,
    "start_time": "2025-01-25T14:38:57.801Z"
   },
   {
    "duration": 98,
    "start_time": "2025-01-25T14:38:57.941Z"
   },
   {
    "duration": 27,
    "start_time": "2025-01-25T14:38:58.041Z"
   },
   {
    "duration": 16,
    "start_time": "2025-01-25T14:38:58.069Z"
   },
   {
    "duration": 7,
    "start_time": "2025-01-25T14:38:58.087Z"
   },
   {
    "duration": 42,
    "start_time": "2025-01-25T14:38:58.097Z"
   },
   {
    "duration": 5,
    "start_time": "2025-01-25T14:38:58.141Z"
   },
   {
    "duration": 3,
    "start_time": "2025-01-25T14:38:58.148Z"
   },
   {
    "duration": 3,
    "start_time": "2025-01-25T14:38:58.153Z"
   },
   {
    "duration": 4,
    "start_time": "2025-01-25T14:38:58.157Z"
   },
   {
    "duration": 2,
    "start_time": "2025-01-25T14:38:58.163Z"
   },
   {
    "duration": 788,
    "start_time": "2025-01-25T14:38:58.167Z"
   },
   {
    "duration": 83,
    "start_time": "2025-01-25T14:38:58.957Z"
   },
   {
    "duration": 6,
    "start_time": "2025-01-25T14:38:59.042Z"
   },
   {
    "duration": 4,
    "start_time": "2025-01-25T14:38:59.050Z"
   },
   {
    "duration": 3,
    "start_time": "2025-01-25T14:38:59.056Z"
   },
   {
    "duration": 5,
    "start_time": "2025-01-25T14:38:59.061Z"
   },
   {
    "duration": 8,
    "start_time": "2025-01-25T14:38:59.068Z"
   },
   {
    "duration": 5,
    "start_time": "2025-01-25T14:38:59.078Z"
   },
   {
    "duration": 7,
    "start_time": "2025-01-25T14:38:59.124Z"
   },
   {
    "duration": 8,
    "start_time": "2025-01-25T14:38:59.133Z"
   },
   {
    "duration": 31,
    "start_time": "2025-01-25T14:38:59.142Z"
   },
   {
    "duration": 10,
    "start_time": "2025-01-25T14:38:59.175Z"
   },
   {
    "duration": 38,
    "start_time": "2025-01-25T14:38:59.187Z"
   },
   {
    "duration": 43,
    "start_time": "2025-01-25T14:38:59.226Z"
   },
   {
    "duration": 4,
    "start_time": "2025-01-25T14:38:59.272Z"
   },
   {
    "duration": 4,
    "start_time": "2025-01-25T14:38:59.278Z"
   },
   {
    "duration": 5,
    "start_time": "2025-01-25T14:38:59.284Z"
   },
   {
    "duration": 36,
    "start_time": "2025-01-25T14:38:59.291Z"
   },
   {
    "duration": 19,
    "start_time": "2025-01-25T14:38:59.329Z"
   },
   {
    "duration": 8,
    "start_time": "2025-01-25T14:38:59.350Z"
   },
   {
    "duration": 274,
    "start_time": "2025-01-25T14:38:59.360Z"
   },
   {
    "duration": 113,
    "start_time": "2025-01-25T14:38:59.636Z"
   },
   {
    "duration": 150,
    "start_time": "2025-01-25T14:38:59.752Z"
   },
   {
    "duration": 99,
    "start_time": "2025-01-25T14:38:59.904Z"
   },
   {
    "duration": 8,
    "start_time": "2025-01-25T14:39:00.005Z"
   },
   {
    "duration": 173,
    "start_time": "2025-01-25T14:39:00.023Z"
   },
   {
    "duration": 5,
    "start_time": "2025-01-25T14:39:00.198Z"
   },
   {
    "duration": 19,
    "start_time": "2025-01-25T14:39:00.205Z"
   },
   {
    "duration": 7,
    "start_time": "2025-01-25T14:39:00.226Z"
   },
   {
    "duration": 6,
    "start_time": "2025-01-25T14:39:00.235Z"
   },
   {
    "duration": 232,
    "start_time": "2025-01-25T14:39:00.243Z"
   },
   {
    "duration": 11,
    "start_time": "2025-01-25T14:39:00.478Z"
   },
   {
    "duration": 34,
    "start_time": "2025-01-25T14:39:00.490Z"
   },
   {
    "duration": 12,
    "start_time": "2025-01-25T14:39:00.526Z"
   },
   {
    "duration": 8,
    "start_time": "2025-01-25T14:39:00.540Z"
   },
   {
    "duration": 143,
    "start_time": "2025-01-25T14:39:52.400Z"
   },
   {
    "duration": 150,
    "start_time": "2025-01-25T14:40:06.433Z"
   },
   {
    "duration": 145,
    "start_time": "2025-01-25T14:40:22.921Z"
   },
   {
    "duration": 142,
    "start_time": "2025-01-25T14:40:45.704Z"
   },
   {
    "duration": 115,
    "start_time": "2025-01-25T14:42:38.290Z"
   },
   {
    "duration": 140,
    "start_time": "2025-01-25T14:43:13.016Z"
   },
   {
    "duration": 735,
    "start_time": "2025-01-25T14:46:59.483Z"
   },
   {
    "duration": 711,
    "start_time": "2025-01-25T14:47:16.384Z"
   },
   {
    "duration": 706,
    "start_time": "2025-01-25T14:47:26.970Z"
   },
   {
    "duration": 751,
    "start_time": "2025-01-25T14:47:36.739Z"
   },
   {
    "duration": 6,
    "start_time": "2025-01-25T15:00:04.489Z"
   },
   {
    "duration": 462,
    "start_time": "2025-01-25T15:00:21.415Z"
   },
   {
    "duration": 199,
    "start_time": "2025-01-25T15:00:21.879Z"
   },
   {
    "duration": 47,
    "start_time": "2025-01-25T15:00:22.079Z"
   },
   {
    "duration": 756,
    "start_time": "2025-01-25T15:00:22.129Z"
   },
   {
    "duration": 11,
    "start_time": "2025-01-25T15:00:22.888Z"
   },
   {
    "duration": 24,
    "start_time": "2025-01-25T15:00:22.901Z"
   },
   {
    "duration": 102,
    "start_time": "2025-01-25T15:00:22.927Z"
   },
   {
    "duration": 8,
    "start_time": "2025-01-25T15:00:23.031Z"
   },
   {
    "duration": 130,
    "start_time": "2025-01-25T15:00:23.041Z"
   },
   {
    "duration": 96,
    "start_time": "2025-01-25T15:00:23.176Z"
   },
   {
    "duration": 28,
    "start_time": "2025-01-25T15:00:23.274Z"
   },
   {
    "duration": 32,
    "start_time": "2025-01-25T15:00:23.304Z"
   },
   {
    "duration": 7,
    "start_time": "2025-01-25T15:00:23.338Z"
   },
   {
    "duration": 24,
    "start_time": "2025-01-25T15:00:23.347Z"
   },
   {
    "duration": 6,
    "start_time": "2025-01-25T15:00:23.373Z"
   },
   {
    "duration": 3,
    "start_time": "2025-01-25T15:00:23.381Z"
   },
   {
    "duration": 3,
    "start_time": "2025-01-25T15:00:23.386Z"
   },
   {
    "duration": 34,
    "start_time": "2025-01-25T15:00:23.391Z"
   },
   {
    "duration": 3,
    "start_time": "2025-01-25T15:00:23.426Z"
   },
   {
    "duration": 795,
    "start_time": "2025-01-25T15:00:23.431Z"
   },
   {
    "duration": 81,
    "start_time": "2025-01-25T15:00:24.227Z"
   },
   {
    "duration": 19,
    "start_time": "2025-01-25T15:00:24.309Z"
   },
   {
    "duration": 9,
    "start_time": "2025-01-25T15:00:24.330Z"
   },
   {
    "duration": 5,
    "start_time": "2025-01-25T15:00:24.341Z"
   },
   {
    "duration": 5,
    "start_time": "2025-01-25T15:00:24.348Z"
   },
   {
    "duration": 9,
    "start_time": "2025-01-25T15:00:24.354Z"
   },
   {
    "duration": 5,
    "start_time": "2025-01-25T15:00:24.364Z"
   },
   {
    "duration": 6,
    "start_time": "2025-01-25T15:00:24.373Z"
   },
   {
    "duration": 8,
    "start_time": "2025-01-25T15:00:24.381Z"
   },
   {
    "duration": 63,
    "start_time": "2025-01-25T15:00:24.391Z"
   },
   {
    "duration": 9,
    "start_time": "2025-01-25T15:00:24.457Z"
   },
   {
    "duration": 4,
    "start_time": "2025-01-25T15:00:24.469Z"
   },
   {
    "duration": 71,
    "start_time": "2025-01-25T15:00:24.475Z"
   },
   {
    "duration": 4,
    "start_time": "2025-01-25T15:00:24.547Z"
   },
   {
    "duration": 4,
    "start_time": "2025-01-25T15:00:24.553Z"
   },
   {
    "duration": 7,
    "start_time": "2025-01-25T15:00:24.559Z"
   },
   {
    "duration": 5,
    "start_time": "2025-01-25T15:00:24.568Z"
   },
   {
    "duration": 19,
    "start_time": "2025-01-25T15:00:24.574Z"
   },
   {
    "duration": 8,
    "start_time": "2025-01-25T15:00:24.624Z"
   },
   {
    "duration": 285,
    "start_time": "2025-01-25T15:00:24.634Z"
   },
   {
    "duration": 128,
    "start_time": "2025-01-25T15:00:24.925Z"
   },
   {
    "duration": 151,
    "start_time": "2025-01-25T15:00:25.055Z"
   },
   {
    "duration": 110,
    "start_time": "2025-01-25T15:00:25.208Z"
   },
   {
    "duration": 10,
    "start_time": "2025-01-25T15:00:25.324Z"
   },
   {
    "duration": 178,
    "start_time": "2025-01-25T15:00:25.336Z"
   },
   {
    "duration": 7,
    "start_time": "2025-01-25T15:00:25.520Z"
   },
   {
    "duration": 5,
    "start_time": "2025-01-25T15:00:25.529Z"
   },
   {
    "duration": 9,
    "start_time": "2025-01-25T15:00:25.535Z"
   },
   {
    "duration": 7,
    "start_time": "2025-01-25T15:00:25.546Z"
   },
   {
    "duration": 235,
    "start_time": "2025-01-25T15:00:25.555Z"
   },
   {
    "duration": 10,
    "start_time": "2025-01-25T15:00:25.792Z"
   },
   {
    "duration": 37,
    "start_time": "2025-01-25T15:00:25.804Z"
   },
   {
    "duration": 14,
    "start_time": "2025-01-25T15:00:25.842Z"
   },
   {
    "duration": 13,
    "start_time": "2025-01-25T15:00:25.859Z"
   },
   {
    "duration": 51,
    "start_time": "2025-01-25T15:02:19.864Z"
   },
   {
    "duration": 57,
    "start_time": "2025-01-25T15:03:01.152Z"
   },
   {
    "duration": 54,
    "start_time": "2025-01-25T15:03:12.096Z"
   },
   {
    "duration": 11,
    "start_time": "2025-01-25T15:08:21.323Z"
   },
   {
    "duration": 6,
    "start_time": "2025-01-25T15:08:32.203Z"
   },
   {
    "duration": 6,
    "start_time": "2025-01-25T15:08:47.771Z"
   },
   {
    "duration": 10,
    "start_time": "2025-01-25T15:16:34.153Z"
   },
   {
    "duration": 10,
    "start_time": "2025-01-25T15:17:00.369Z"
   },
   {
    "duration": 29,
    "start_time": "2025-01-25T15:17:17.204Z"
   },
   {
    "duration": 717,
    "start_time": "2025-01-25T15:17:41.247Z"
   },
   {
    "duration": 839,
    "start_time": "2025-01-25T15:17:51.202Z"
   },
   {
    "duration": 47,
    "start_time": "2025-01-25T15:18:53.085Z"
   },
   {
    "duration": 51,
    "start_time": "2025-01-25T15:19:04.494Z"
   },
   {
    "duration": 50,
    "start_time": "2025-01-25T15:19:14.769Z"
   },
   {
    "duration": 425,
    "start_time": "2025-01-25T15:19:41.283Z"
   },
   {
    "duration": 172,
    "start_time": "2025-01-25T15:19:41.710Z"
   },
   {
    "duration": 64,
    "start_time": "2025-01-25T15:19:41.886Z"
   },
   {
    "duration": 763,
    "start_time": "2025-01-25T15:19:41.953Z"
   },
   {
    "duration": 17,
    "start_time": "2025-01-25T15:19:42.718Z"
   },
   {
    "duration": 11,
    "start_time": "2025-01-25T15:19:42.736Z"
   },
   {
    "duration": 109,
    "start_time": "2025-01-25T15:19:42.749Z"
   },
   {
    "duration": 12,
    "start_time": "2025-01-25T15:19:42.859Z"
   },
   {
    "duration": 154,
    "start_time": "2025-01-25T15:19:42.873Z"
   },
   {
    "duration": 96,
    "start_time": "2025-01-25T15:19:43.029Z"
   },
   {
    "duration": 33,
    "start_time": "2025-01-25T15:19:43.127Z"
   },
   {
    "duration": 21,
    "start_time": "2025-01-25T15:19:43.162Z"
   },
   {
    "duration": 7,
    "start_time": "2025-01-25T15:19:43.187Z"
   },
   {
    "duration": 46,
    "start_time": "2025-01-25T15:19:43.196Z"
   },
   {
    "duration": 8,
    "start_time": "2025-01-25T15:19:43.245Z"
   },
   {
    "duration": 3,
    "start_time": "2025-01-25T15:19:43.255Z"
   },
   {
    "duration": 3,
    "start_time": "2025-01-25T15:19:43.259Z"
   },
   {
    "duration": 3,
    "start_time": "2025-01-25T15:19:43.264Z"
   },
   {
    "duration": 4,
    "start_time": "2025-01-25T15:19:43.268Z"
   },
   {
    "duration": 826,
    "start_time": "2025-01-25T15:19:43.273Z"
   },
   {
    "duration": 84,
    "start_time": "2025-01-25T15:19:44.101Z"
   },
   {
    "duration": 6,
    "start_time": "2025-01-25T15:19:44.187Z"
   },
   {
    "duration": 5,
    "start_time": "2025-01-25T15:19:44.195Z"
   },
   {
    "duration": 3,
    "start_time": "2025-01-25T15:19:44.202Z"
   },
   {
    "duration": 6,
    "start_time": "2025-01-25T15:19:44.223Z"
   },
   {
    "duration": 7,
    "start_time": "2025-01-25T15:19:44.231Z"
   },
   {
    "duration": 5,
    "start_time": "2025-01-25T15:19:44.240Z"
   },
   {
    "duration": 7,
    "start_time": "2025-01-25T15:19:44.247Z"
   },
   {
    "duration": 9,
    "start_time": "2025-01-25T15:19:44.256Z"
   },
   {
    "duration": 61,
    "start_time": "2025-01-25T15:19:44.267Z"
   },
   {
    "duration": 11,
    "start_time": "2025-01-25T15:19:44.330Z"
   },
   {
    "duration": 6,
    "start_time": "2025-01-25T15:19:44.342Z"
   },
   {
    "duration": 45,
    "start_time": "2025-01-25T15:19:44.350Z"
   },
   {
    "duration": 4,
    "start_time": "2025-01-25T15:19:44.423Z"
   },
   {
    "duration": 6,
    "start_time": "2025-01-25T15:19:44.428Z"
   },
   {
    "duration": 7,
    "start_time": "2025-01-25T15:19:44.436Z"
   },
   {
    "duration": 6,
    "start_time": "2025-01-25T15:19:44.444Z"
   },
   {
    "duration": 20,
    "start_time": "2025-01-25T15:19:44.451Z"
   },
   {
    "duration": 7,
    "start_time": "2025-01-25T15:19:44.473Z"
   },
   {
    "duration": 284,
    "start_time": "2025-01-25T15:19:44.485Z"
   },
   {
    "duration": 136,
    "start_time": "2025-01-25T15:19:44.771Z"
   },
   {
    "duration": 150,
    "start_time": "2025-01-25T15:19:44.909Z"
   },
   {
    "duration": 144,
    "start_time": "2025-01-25T15:19:45.061Z"
   },
   {
    "duration": 16,
    "start_time": "2025-01-25T15:19:45.208Z"
   },
   {
    "duration": 194,
    "start_time": "2025-01-25T15:19:45.225Z"
   },
   {
    "duration": 5,
    "start_time": "2025-01-25T15:19:45.425Z"
   },
   {
    "duration": 6,
    "start_time": "2025-01-25T15:19:45.432Z"
   },
   {
    "duration": 9,
    "start_time": "2025-01-25T15:19:45.439Z"
   },
   {
    "duration": 8,
    "start_time": "2025-01-25T15:19:45.450Z"
   },
   {
    "duration": 256,
    "start_time": "2025-01-25T15:19:45.460Z"
   },
   {
    "duration": 12,
    "start_time": "2025-01-25T15:19:45.724Z"
   },
   {
    "duration": 20,
    "start_time": "2025-01-25T15:19:45.737Z"
   },
   {
    "duration": 13,
    "start_time": "2025-01-25T15:19:45.758Z"
   },
   {
    "duration": 9,
    "start_time": "2025-01-25T15:19:45.773Z"
   },
   {
    "duration": 8,
    "start_time": "2025-01-25T15:19:56.899Z"
   },
   {
    "duration": 8,
    "start_time": "2025-01-25T15:20:36.216Z"
   },
   {
    "duration": 7,
    "start_time": "2025-01-25T15:20:50.943Z"
   },
   {
    "duration": 6,
    "start_time": "2025-01-25T15:21:00.070Z"
   },
   {
    "duration": 442,
    "start_time": "2025-01-25T15:21:08.659Z"
   },
   {
    "duration": 167,
    "start_time": "2025-01-25T15:21:09.103Z"
   },
   {
    "duration": 43,
    "start_time": "2025-01-25T15:21:09.272Z"
   },
   {
    "duration": 763,
    "start_time": "2025-01-25T15:21:09.317Z"
   },
   {
    "duration": 11,
    "start_time": "2025-01-25T15:21:10.083Z"
   },
   {
    "duration": 11,
    "start_time": "2025-01-25T15:21:10.096Z"
   },
   {
    "duration": 122,
    "start_time": "2025-01-25T15:21:10.108Z"
   },
   {
    "duration": 13,
    "start_time": "2025-01-25T15:21:10.233Z"
   },
   {
    "duration": 122,
    "start_time": "2025-01-25T15:21:10.248Z"
   },
   {
    "duration": 95,
    "start_time": "2025-01-25T15:21:10.372Z"
   },
   {
    "duration": 29,
    "start_time": "2025-01-25T15:21:10.469Z"
   },
   {
    "duration": 27,
    "start_time": "2025-01-25T15:21:10.500Z"
   },
   {
    "duration": 8,
    "start_time": "2025-01-25T15:21:10.529Z"
   },
   {
    "duration": 31,
    "start_time": "2025-01-25T15:21:10.541Z"
   },
   {
    "duration": 10,
    "start_time": "2025-01-25T15:21:10.575Z"
   },
   {
    "duration": 3,
    "start_time": "2025-01-25T15:21:10.586Z"
   },
   {
    "duration": 4,
    "start_time": "2025-01-25T15:21:10.591Z"
   },
   {
    "duration": 3,
    "start_time": "2025-01-25T15:21:10.624Z"
   },
   {
    "duration": 4,
    "start_time": "2025-01-25T15:21:10.629Z"
   },
   {
    "duration": 842,
    "start_time": "2025-01-25T15:21:10.635Z"
   },
   {
    "duration": 91,
    "start_time": "2025-01-25T15:21:11.479Z"
   },
   {
    "duration": 7,
    "start_time": "2025-01-25T15:21:11.572Z"
   },
   {
    "duration": 3,
    "start_time": "2025-01-25T15:21:11.581Z"
   },
   {
    "duration": 4,
    "start_time": "2025-01-25T15:21:11.586Z"
   },
   {
    "duration": 8,
    "start_time": "2025-01-25T15:21:11.591Z"
   },
   {
    "duration": 9,
    "start_time": "2025-01-25T15:21:11.624Z"
   },
   {
    "duration": 5,
    "start_time": "2025-01-25T15:21:11.634Z"
   },
   {
    "duration": 6,
    "start_time": "2025-01-25T15:21:11.641Z"
   },
   {
    "duration": 8,
    "start_time": "2025-01-25T15:21:11.648Z"
   },
   {
    "duration": 31,
    "start_time": "2025-01-25T15:21:11.659Z"
   },
   {
    "duration": 10,
    "start_time": "2025-01-25T15:21:11.724Z"
   },
   {
    "duration": 6,
    "start_time": "2025-01-25T15:21:11.736Z"
   },
   {
    "duration": 54,
    "start_time": "2025-01-25T15:21:11.743Z"
   },
   {
    "duration": 26,
    "start_time": "2025-01-25T15:21:11.799Z"
   },
   {
    "duration": 3,
    "start_time": "2025-01-25T15:21:11.827Z"
   },
   {
    "duration": 6,
    "start_time": "2025-01-25T15:21:11.832Z"
   },
   {
    "duration": 5,
    "start_time": "2025-01-25T15:21:11.839Z"
   },
   {
    "duration": 19,
    "start_time": "2025-01-25T15:21:11.846Z"
   },
   {
    "duration": 11,
    "start_time": "2025-01-25T15:21:11.866Z"
   },
   {
    "duration": 281,
    "start_time": "2025-01-25T15:21:11.879Z"
   },
   {
    "duration": 148,
    "start_time": "2025-01-25T15:21:12.164Z"
   },
   {
    "duration": 149,
    "start_time": "2025-01-25T15:21:12.314Z"
   },
   {
    "duration": 125,
    "start_time": "2025-01-25T15:21:12.464Z"
   },
   {
    "duration": 10,
    "start_time": "2025-01-25T15:21:12.591Z"
   },
   {
    "duration": 187,
    "start_time": "2025-01-25T15:21:12.603Z"
   },
   {
    "duration": 6,
    "start_time": "2025-01-25T15:21:12.793Z"
   },
   {
    "duration": 6,
    "start_time": "2025-01-25T15:21:12.801Z"
   },
   {
    "duration": 10,
    "start_time": "2025-01-25T15:21:12.824Z"
   },
   {
    "duration": 8,
    "start_time": "2025-01-25T15:21:12.835Z"
   },
   {
    "duration": 228,
    "start_time": "2025-01-25T15:21:12.845Z"
   },
   {
    "duration": 11,
    "start_time": "2025-01-25T15:21:13.075Z"
   },
   {
    "duration": 18,
    "start_time": "2025-01-25T15:21:13.087Z"
   },
   {
    "duration": 11,
    "start_time": "2025-01-25T15:21:13.123Z"
   },
   {
    "duration": 11,
    "start_time": "2025-01-25T15:21:13.136Z"
   },
   {
    "duration": 7,
    "start_time": "2025-01-25T15:21:33.661Z"
   },
   {
    "duration": 4,
    "start_time": "2025-01-25T15:23:11.974Z"
   },
   {
    "duration": 348,
    "start_time": "2025-01-25T15:23:21.386Z"
   },
   {
    "duration": 414,
    "start_time": "2025-01-25T15:23:48.374Z"
   },
   {
    "duration": 228,
    "start_time": "2025-01-25T15:23:48.790Z"
   },
   {
    "duration": 54,
    "start_time": "2025-01-25T15:23:49.023Z"
   },
   {
    "duration": 740,
    "start_time": "2025-01-25T15:23:49.079Z"
   },
   {
    "duration": 12,
    "start_time": "2025-01-25T15:23:49.823Z"
   },
   {
    "duration": 11,
    "start_time": "2025-01-25T15:23:49.837Z"
   },
   {
    "duration": 144,
    "start_time": "2025-01-25T15:23:49.850Z"
   },
   {
    "duration": 13,
    "start_time": "2025-01-25T15:23:49.996Z"
   },
   {
    "duration": 124,
    "start_time": "2025-01-25T15:23:50.011Z"
   },
   {
    "duration": 98,
    "start_time": "2025-01-25T15:23:50.137Z"
   },
   {
    "duration": 28,
    "start_time": "2025-01-25T15:23:50.238Z"
   },
   {
    "duration": 17,
    "start_time": "2025-01-25T15:23:50.268Z"
   },
   {
    "duration": 7,
    "start_time": "2025-01-25T15:23:50.287Z"
   },
   {
    "duration": 49,
    "start_time": "2025-01-25T15:23:50.298Z"
   },
   {
    "duration": 10,
    "start_time": "2025-01-25T15:23:50.349Z"
   },
   {
    "duration": 3,
    "start_time": "2025-01-25T15:23:50.360Z"
   },
   {
    "duration": 4,
    "start_time": "2025-01-25T15:23:50.365Z"
   },
   {
    "duration": 4,
    "start_time": "2025-01-25T15:23:50.370Z"
   },
   {
    "duration": 3,
    "start_time": "2025-01-25T15:23:50.377Z"
   },
   {
    "duration": 826,
    "start_time": "2025-01-25T15:23:50.383Z"
   },
   {
    "duration": 295,
    "start_time": "2025-01-25T15:23:51.210Z"
   },
   {
    "duration": 18,
    "start_time": "2025-01-25T15:23:51.506Z"
   },
   {
    "duration": 4,
    "start_time": "2025-01-25T15:23:51.526Z"
   },
   {
    "duration": 5,
    "start_time": "2025-01-25T15:23:51.532Z"
   },
   {
    "duration": 5,
    "start_time": "2025-01-25T15:23:51.539Z"
   },
   {
    "duration": 7,
    "start_time": "2025-01-25T15:23:51.546Z"
   },
   {
    "duration": 6,
    "start_time": "2025-01-25T15:23:51.555Z"
   },
   {
    "duration": 7,
    "start_time": "2025-01-25T15:23:51.563Z"
   },
   {
    "duration": 9,
    "start_time": "2025-01-25T15:23:51.571Z"
   },
   {
    "duration": 65,
    "start_time": "2025-01-25T15:23:51.582Z"
   },
   {
    "duration": 9,
    "start_time": "2025-01-25T15:23:51.649Z"
   },
   {
    "duration": 6,
    "start_time": "2025-01-25T15:23:51.659Z"
   },
   {
    "duration": 66,
    "start_time": "2025-01-25T15:23:51.666Z"
   },
   {
    "duration": 5,
    "start_time": "2025-01-25T15:23:51.733Z"
   },
   {
    "duration": 6,
    "start_time": "2025-01-25T15:23:51.740Z"
   },
   {
    "duration": 7,
    "start_time": "2025-01-25T15:23:51.747Z"
   },
   {
    "duration": 7,
    "start_time": "2025-01-25T15:23:51.756Z"
   },
   {
    "duration": 23,
    "start_time": "2025-01-25T15:23:51.764Z"
   },
   {
    "duration": 37,
    "start_time": "2025-01-25T15:23:51.789Z"
   },
   {
    "duration": 282,
    "start_time": "2025-01-25T15:23:51.828Z"
   },
   {
    "duration": 125,
    "start_time": "2025-01-25T15:23:52.123Z"
   },
   {
    "duration": 167,
    "start_time": "2025-01-25T15:23:52.250Z"
   },
   {
    "duration": 92,
    "start_time": "2025-01-25T15:23:52.419Z"
   },
   {
    "duration": 17,
    "start_time": "2025-01-25T15:23:52.514Z"
   },
   {
    "duration": 182,
    "start_time": "2025-01-25T15:23:52.533Z"
   },
   {
    "duration": 11,
    "start_time": "2025-01-25T15:23:52.717Z"
   },
   {
    "duration": 6,
    "start_time": "2025-01-25T15:23:52.729Z"
   },
   {
    "duration": 7,
    "start_time": "2025-01-25T15:23:52.736Z"
   },
   {
    "duration": 8,
    "start_time": "2025-01-25T15:23:52.745Z"
   },
   {
    "duration": 238,
    "start_time": "2025-01-25T15:23:52.755Z"
   },
   {
    "duration": 11,
    "start_time": "2025-01-25T15:23:52.996Z"
   },
   {
    "duration": 35,
    "start_time": "2025-01-25T15:23:53.009Z"
   },
   {
    "duration": 13,
    "start_time": "2025-01-25T15:23:53.046Z"
   },
   {
    "duration": 9,
    "start_time": "2025-01-25T15:23:53.061Z"
   },
   {
    "duration": 5,
    "start_time": "2025-01-25T15:37:13.127Z"
   },
   {
    "duration": 4,
    "start_time": "2025-01-25T15:37:39.206Z"
   },
   {
    "duration": 5,
    "start_time": "2025-01-25T15:37:45.371Z"
   },
   {
    "duration": 8,
    "start_time": "2025-01-25T15:37:53.712Z"
   },
   {
    "duration": 2,
    "start_time": "2025-01-25T15:46:08.301Z"
   },
   {
    "duration": 128,
    "start_time": "2025-01-25T15:46:08.305Z"
   },
   {
    "duration": 37,
    "start_time": "2025-01-25T15:46:08.435Z"
   },
   {
    "duration": 708,
    "start_time": "2025-01-25T15:46:08.474Z"
   },
   {
    "duration": 11,
    "start_time": "2025-01-25T15:46:09.185Z"
   },
   {
    "duration": 11,
    "start_time": "2025-01-25T15:46:09.197Z"
   },
   {
    "duration": 83,
    "start_time": "2025-01-25T15:46:09.209Z"
   },
   {
    "duration": 11,
    "start_time": "2025-01-25T15:46:09.294Z"
   },
   {
    "duration": 90,
    "start_time": "2025-01-25T15:46:09.306Z"
   },
   {
    "duration": 77,
    "start_time": "2025-01-25T15:46:09.398Z"
   },
   {
    "duration": 21,
    "start_time": "2025-01-25T15:46:09.477Z"
   },
   {
    "duration": 30,
    "start_time": "2025-01-25T15:46:09.500Z"
   },
   {
    "duration": 7,
    "start_time": "2025-01-25T15:46:09.532Z"
   },
   {
    "duration": 23,
    "start_time": "2025-01-25T15:46:09.542Z"
   },
   {
    "duration": 8,
    "start_time": "2025-01-25T15:46:09.567Z"
   },
   {
    "duration": 3,
    "start_time": "2025-01-25T15:46:09.577Z"
   },
   {
    "duration": 3,
    "start_time": "2025-01-25T15:46:09.581Z"
   },
   {
    "duration": 3,
    "start_time": "2025-01-25T15:46:09.586Z"
   },
   {
    "duration": 36,
    "start_time": "2025-01-25T15:46:09.590Z"
   },
   {
    "duration": 704,
    "start_time": "2025-01-25T15:46:09.628Z"
   },
   {
    "duration": 231,
    "start_time": "2025-01-25T15:46:10.334Z"
   },
   {
    "duration": 6,
    "start_time": "2025-01-25T15:46:10.568Z"
   },
   {
    "duration": 4,
    "start_time": "2025-01-25T15:46:10.576Z"
   },
   {
    "duration": 3,
    "start_time": "2025-01-25T15:46:10.582Z"
   },
   {
    "duration": 6,
    "start_time": "2025-01-25T15:46:10.587Z"
   },
   {
    "duration": 32,
    "start_time": "2025-01-25T15:46:10.595Z"
   },
   {
    "duration": 5,
    "start_time": "2025-01-25T15:46:10.629Z"
   },
   {
    "duration": 7,
    "start_time": "2025-01-25T15:46:10.636Z"
   },
   {
    "duration": 8,
    "start_time": "2025-01-25T15:46:10.644Z"
   },
   {
    "duration": 30,
    "start_time": "2025-01-25T15:46:10.653Z"
   },
   {
    "duration": 39,
    "start_time": "2025-01-25T15:46:10.685Z"
   },
   {
    "duration": 4,
    "start_time": "2025-01-25T15:46:10.726Z"
   },
   {
    "duration": 43,
    "start_time": "2025-01-25T15:46:10.732Z"
   },
   {
    "duration": 3,
    "start_time": "2025-01-25T15:46:10.777Z"
   },
   {
    "duration": 4,
    "start_time": "2025-01-25T15:46:10.782Z"
   },
   {
    "duration": 39,
    "start_time": "2025-01-25T15:46:10.787Z"
   },
   {
    "duration": 5,
    "start_time": "2025-01-25T15:46:10.828Z"
   },
   {
    "duration": 18,
    "start_time": "2025-01-25T15:46:10.834Z"
   },
   {
    "duration": 7,
    "start_time": "2025-01-25T15:46:10.854Z"
   },
   {
    "duration": 254,
    "start_time": "2025-01-25T15:46:10.863Z"
   },
   {
    "duration": 111,
    "start_time": "2025-01-25T15:46:11.126Z"
   },
   {
    "duration": 154,
    "start_time": "2025-01-25T15:46:11.238Z"
   },
   {
    "duration": 96,
    "start_time": "2025-01-25T15:46:11.394Z"
   },
   {
    "duration": 8,
    "start_time": "2025-01-25T15:46:11.492Z"
   },
   {
    "duration": 157,
    "start_time": "2025-01-25T15:46:11.502Z"
   },
   {
    "duration": 6,
    "start_time": "2025-01-25T15:46:11.660Z"
   },
   {
    "duration": 5,
    "start_time": "2025-01-25T15:46:11.667Z"
   },
   {
    "duration": 7,
    "start_time": "2025-01-25T15:46:11.674Z"
   },
   {
    "duration": 7,
    "start_time": "2025-01-25T15:46:11.683Z"
   },
   {
    "duration": 202,
    "start_time": "2025-01-25T15:46:11.692Z"
   },
   {
    "duration": 11,
    "start_time": "2025-01-25T15:46:11.897Z"
   },
   {
    "duration": 30,
    "start_time": "2025-01-25T15:46:11.910Z"
   },
   {
    "duration": 15,
    "start_time": "2025-01-25T15:46:11.942Z"
   },
   {
    "duration": 10,
    "start_time": "2025-01-25T15:46:11.959Z"
   },
   {
    "duration": 416,
    "start_time": "2025-01-25T15:46:40.704Z"
   },
   {
    "duration": 171,
    "start_time": "2025-01-25T15:46:41.123Z"
   },
   {
    "duration": 47,
    "start_time": "2025-01-25T15:46:41.295Z"
   },
   {
    "duration": 721,
    "start_time": "2025-01-25T15:46:41.344Z"
   },
   {
    "duration": 11,
    "start_time": "2025-01-25T15:46:42.068Z"
   },
   {
    "duration": 10,
    "start_time": "2025-01-25T15:46:42.080Z"
   },
   {
    "duration": 116,
    "start_time": "2025-01-25T15:46:42.091Z"
   },
   {
    "duration": 19,
    "start_time": "2025-01-25T15:46:42.209Z"
   },
   {
    "duration": 116,
    "start_time": "2025-01-25T15:46:42.229Z"
   },
   {
    "duration": 96,
    "start_time": "2025-01-25T15:46:42.347Z"
   },
   {
    "duration": 25,
    "start_time": "2025-01-25T15:46:42.445Z"
   },
   {
    "duration": 15,
    "start_time": "2025-01-25T15:46:42.472Z"
   },
   {
    "duration": 7,
    "start_time": "2025-01-25T15:46:42.489Z"
   },
   {
    "duration": 23,
    "start_time": "2025-01-25T15:46:42.524Z"
   },
   {
    "duration": 8,
    "start_time": "2025-01-25T15:46:42.549Z"
   },
   {
    "duration": 3,
    "start_time": "2025-01-25T15:46:42.559Z"
   },
   {
    "duration": 3,
    "start_time": "2025-01-25T15:46:42.564Z"
   },
   {
    "duration": 4,
    "start_time": "2025-01-25T15:46:42.569Z"
   },
   {
    "duration": 4,
    "start_time": "2025-01-25T15:46:42.574Z"
   },
   {
    "duration": 802,
    "start_time": "2025-01-25T15:46:42.579Z"
   },
   {
    "duration": 284,
    "start_time": "2025-01-25T15:46:43.383Z"
   },
   {
    "duration": 7,
    "start_time": "2025-01-25T15:46:43.669Z"
   },
   {
    "duration": 4,
    "start_time": "2025-01-25T15:46:43.677Z"
   },
   {
    "duration": 4,
    "start_time": "2025-01-25T15:46:43.683Z"
   },
   {
    "duration": 6,
    "start_time": "2025-01-25T15:46:43.689Z"
   },
   {
    "duration": 8,
    "start_time": "2025-01-25T15:46:43.724Z"
   },
   {
    "duration": 6,
    "start_time": "2025-01-25T15:46:43.733Z"
   },
   {
    "duration": 7,
    "start_time": "2025-01-25T15:46:43.740Z"
   },
   {
    "duration": 11,
    "start_time": "2025-01-25T15:46:43.748Z"
   },
   {
    "duration": 24,
    "start_time": "2025-01-25T15:46:43.760Z"
   },
   {
    "duration": 41,
    "start_time": "2025-01-25T15:46:43.786Z"
   },
   {
    "duration": 4,
    "start_time": "2025-01-25T15:46:43.828Z"
   },
   {
    "duration": 40,
    "start_time": "2025-01-25T15:46:43.835Z"
   },
   {
    "duration": 4,
    "start_time": "2025-01-25T15:46:43.877Z"
   },
   {
    "duration": 4,
    "start_time": "2025-01-25T15:46:43.883Z"
   },
   {
    "duration": 38,
    "start_time": "2025-01-25T15:46:43.889Z"
   },
   {
    "duration": 6,
    "start_time": "2025-01-25T15:46:43.928Z"
   },
   {
    "duration": 19,
    "start_time": "2025-01-25T15:46:43.936Z"
   },
   {
    "duration": 7,
    "start_time": "2025-01-25T15:46:43.957Z"
   },
   {
    "duration": 283,
    "start_time": "2025-01-25T15:46:43.965Z"
   },
   {
    "duration": 120,
    "start_time": "2025-01-25T15:46:44.253Z"
   },
   {
    "duration": 149,
    "start_time": "2025-01-25T15:46:44.375Z"
   },
   {
    "duration": 99,
    "start_time": "2025-01-25T15:46:44.526Z"
   },
   {
    "duration": 8,
    "start_time": "2025-01-25T15:46:44.627Z"
   },
   {
    "duration": 176,
    "start_time": "2025-01-25T15:46:44.637Z"
   },
   {
    "duration": 10,
    "start_time": "2025-01-25T15:46:44.815Z"
   },
   {
    "duration": 6,
    "start_time": "2025-01-25T15:46:44.826Z"
   },
   {
    "duration": 8,
    "start_time": "2025-01-25T15:46:44.834Z"
   },
   {
    "duration": 7,
    "start_time": "2025-01-25T15:46:44.843Z"
   },
   {
    "duration": 232,
    "start_time": "2025-01-25T15:46:44.852Z"
   },
   {
    "duration": 10,
    "start_time": "2025-01-25T15:46:45.087Z"
   },
   {
    "duration": 38,
    "start_time": "2025-01-25T15:46:45.099Z"
   },
   {
    "duration": 13,
    "start_time": "2025-01-25T15:46:45.138Z"
   },
   {
    "duration": 12,
    "start_time": "2025-01-25T15:46:45.154Z"
   },
   {
    "duration": 27,
    "start_time": "2025-01-25T16:27:21.255Z"
   },
   {
    "duration": 10,
    "start_time": "2025-01-25T16:33:01.327Z"
   },
   {
    "duration": 6,
    "start_time": "2025-01-25T16:36:39.978Z"
   },
   {
    "duration": 401,
    "start_time": "2025-01-25T16:37:48.504Z"
   },
   {
    "duration": 168,
    "start_time": "2025-01-25T16:37:48.907Z"
   },
   {
    "duration": 47,
    "start_time": "2025-01-25T16:37:49.077Z"
   },
   {
    "duration": 720,
    "start_time": "2025-01-25T16:37:49.127Z"
   },
   {
    "duration": 12,
    "start_time": "2025-01-25T16:37:49.848Z"
   },
   {
    "duration": 11,
    "start_time": "2025-01-25T16:37:49.862Z"
   },
   {
    "duration": 111,
    "start_time": "2025-01-25T16:37:49.874Z"
   },
   {
    "duration": 12,
    "start_time": "2025-01-25T16:37:49.987Z"
   },
   {
    "duration": 123,
    "start_time": "2025-01-25T16:37:50.001Z"
   },
   {
    "duration": 87,
    "start_time": "2025-01-25T16:37:50.127Z"
   },
   {
    "duration": 32,
    "start_time": "2025-01-25T16:37:50.216Z"
   },
   {
    "duration": 16,
    "start_time": "2025-01-25T16:37:50.249Z"
   },
   {
    "duration": 8,
    "start_time": "2025-01-25T16:37:50.266Z"
   },
   {
    "duration": 50,
    "start_time": "2025-01-25T16:37:50.275Z"
   },
   {
    "duration": 9,
    "start_time": "2025-01-25T16:37:50.327Z"
   },
   {
    "duration": 3,
    "start_time": "2025-01-25T16:37:50.338Z"
   },
   {
    "duration": 3,
    "start_time": "2025-01-25T16:37:50.343Z"
   },
   {
    "duration": 4,
    "start_time": "2025-01-25T16:37:50.348Z"
   },
   {
    "duration": 3,
    "start_time": "2025-01-25T16:37:50.353Z"
   },
   {
    "duration": 767,
    "start_time": "2025-01-25T16:37:50.358Z"
   },
   {
    "duration": 309,
    "start_time": "2025-01-25T16:37:51.127Z"
   },
   {
    "duration": 6,
    "start_time": "2025-01-25T16:37:51.439Z"
   },
   {
    "duration": 4,
    "start_time": "2025-01-25T16:37:51.446Z"
   },
   {
    "duration": 3,
    "start_time": "2025-01-25T16:37:51.452Z"
   },
   {
    "duration": 7,
    "start_time": "2025-01-25T16:37:51.457Z"
   },
   {
    "duration": 7,
    "start_time": "2025-01-25T16:37:51.466Z"
   },
   {
    "duration": 6,
    "start_time": "2025-01-25T16:37:51.474Z"
   },
   {
    "duration": 6,
    "start_time": "2025-01-25T16:37:51.525Z"
   },
   {
    "duration": 8,
    "start_time": "2025-01-25T16:37:51.533Z"
   },
   {
    "duration": 29,
    "start_time": "2025-01-25T16:37:51.542Z"
   },
   {
    "duration": 9,
    "start_time": "2025-01-25T16:37:51.573Z"
   },
   {
    "duration": 4,
    "start_time": "2025-01-25T16:37:51.584Z"
   },
   {
    "duration": 74,
    "start_time": "2025-01-25T16:37:51.589Z"
   },
   {
    "duration": 4,
    "start_time": "2025-01-25T16:37:51.665Z"
   },
   {
    "duration": 4,
    "start_time": "2025-01-25T16:37:51.671Z"
   },
   {
    "duration": 7,
    "start_time": "2025-01-25T16:37:51.676Z"
   },
   {
    "duration": 5,
    "start_time": "2025-01-25T16:37:51.684Z"
   },
   {
    "duration": 53,
    "start_time": "2025-01-25T16:37:51.690Z"
   },
   {
    "duration": 8,
    "start_time": "2025-01-25T16:37:51.745Z"
   },
   {
    "duration": 274,
    "start_time": "2025-01-25T16:37:51.755Z"
   },
   {
    "duration": 131,
    "start_time": "2025-01-25T16:37:52.031Z"
   },
   {
    "duration": 181,
    "start_time": "2025-01-25T16:37:52.164Z"
   },
   {
    "duration": 97,
    "start_time": "2025-01-25T16:37:52.346Z"
   },
   {
    "duration": 8,
    "start_time": "2025-01-25T16:37:52.445Z"
   },
   {
    "duration": 175,
    "start_time": "2025-01-25T16:37:52.456Z"
   },
   {
    "duration": 6,
    "start_time": "2025-01-25T16:37:52.633Z"
   },
   {
    "duration": 6,
    "start_time": "2025-01-25T16:37:52.640Z"
   },
   {
    "duration": 8,
    "start_time": "2025-01-25T16:37:52.649Z"
   },
   {
    "duration": 7,
    "start_time": "2025-01-25T16:37:52.658Z"
   },
   {
    "duration": 245,
    "start_time": "2025-01-25T16:37:52.667Z"
   },
   {
    "duration": 17,
    "start_time": "2025-01-25T16:37:52.914Z"
   },
   {
    "duration": 17,
    "start_time": "2025-01-25T16:37:52.933Z"
   },
   {
    "duration": 11,
    "start_time": "2025-01-25T16:37:52.952Z"
   },
   {
    "duration": 9,
    "start_time": "2025-01-25T16:37:52.965Z"
   },
   {
    "duration": 4,
    "start_time": "2025-01-25T16:46:30.353Z"
   },
   {
    "duration": 54,
    "start_time": "2025-01-25T16:49:20.865Z"
   },
   {
    "duration": 54,
    "start_time": "2025-01-25T16:49:50.447Z"
   },
   {
    "duration": 15,
    "start_time": "2025-01-25T16:51:03.102Z"
   },
   {
    "duration": 29,
    "start_time": "2025-01-25T16:58:45.002Z"
   },
   {
    "duration": 10,
    "start_time": "2025-01-25T16:59:41.879Z"
   },
   {
    "duration": 176,
    "start_time": "2025-01-25T17:11:06.436Z"
   },
   {
    "duration": 289,
    "start_time": "2025-01-25T17:11:21.141Z"
   },
   {
    "duration": 185,
    "start_time": "2025-01-25T17:18:12.101Z"
   },
   {
    "duration": 4,
    "start_time": "2025-01-25T17:35:46.117Z"
   },
   {
    "duration": 7,
    "start_time": "2025-01-25T17:35:54.287Z"
   },
   {
    "duration": 155,
    "start_time": "2025-01-25T17:36:22.345Z"
   },
   {
    "duration": 4,
    "start_time": "2025-01-25T17:36:33.847Z"
   },
   {
    "duration": 6,
    "start_time": "2025-01-25T17:38:48.694Z"
   },
   {
    "duration": 6,
    "start_time": "2025-01-25T17:38:57.655Z"
   },
   {
    "duration": 6,
    "start_time": "2025-01-25T17:39:05.831Z"
   },
   {
    "duration": 8,
    "start_time": "2025-01-25T17:39:29.656Z"
   },
   {
    "duration": 7,
    "start_time": "2025-01-25T17:39:45.991Z"
   },
   {
    "duration": 7,
    "start_time": "2025-01-25T17:40:05.369Z"
   },
   {
    "duration": 4,
    "start_time": "2025-01-25T17:47:28.110Z"
   },
   {
    "duration": 3,
    "start_time": "2025-01-25T17:47:36.391Z"
   },
   {
    "duration": 11,
    "start_time": "2025-01-25T17:47:48.054Z"
   },
   {
    "duration": 4,
    "start_time": "2025-01-25T17:47:52.929Z"
   },
   {
    "duration": 223,
    "start_time": "2025-01-25T17:49:21.726Z"
   },
   {
    "duration": 108,
    "start_time": "2025-01-25T18:01:08.404Z"
   },
   {
    "duration": 109,
    "start_time": "2025-01-25T18:01:14.261Z"
   },
   {
    "duration": 114,
    "start_time": "2025-01-25T18:02:03.838Z"
   },
   {
    "duration": 432,
    "start_time": "2025-01-25T18:02:08.152Z"
   },
   {
    "duration": 171,
    "start_time": "2025-01-25T18:02:08.586Z"
   },
   {
    "duration": 43,
    "start_time": "2025-01-25T18:02:08.759Z"
   },
   {
    "duration": 715,
    "start_time": "2025-01-25T18:02:08.804Z"
   },
   {
    "duration": 11,
    "start_time": "2025-01-25T18:02:09.523Z"
   },
   {
    "duration": 11,
    "start_time": "2025-01-25T18:02:09.535Z"
   },
   {
    "duration": 112,
    "start_time": "2025-01-25T18:02:09.548Z"
   },
   {
    "duration": 12,
    "start_time": "2025-01-25T18:02:09.662Z"
   },
   {
    "duration": 126,
    "start_time": "2025-01-25T18:02:09.675Z"
   },
   {
    "duration": 91,
    "start_time": "2025-01-25T18:02:09.802Z"
   },
   {
    "duration": 34,
    "start_time": "2025-01-25T18:02:09.895Z"
   },
   {
    "duration": 15,
    "start_time": "2025-01-25T18:02:09.931Z"
   },
   {
    "duration": 8,
    "start_time": "2025-01-25T18:02:09.947Z"
   },
   {
    "duration": 22,
    "start_time": "2025-01-25T18:02:09.958Z"
   },
   {
    "duration": 9,
    "start_time": "2025-01-25T18:02:09.982Z"
   },
   {
    "duration": 31,
    "start_time": "2025-01-25T18:02:09.993Z"
   },
   {
    "duration": 3,
    "start_time": "2025-01-25T18:02:10.026Z"
   },
   {
    "duration": 3,
    "start_time": "2025-01-25T18:02:10.031Z"
   },
   {
    "duration": 3,
    "start_time": "2025-01-25T18:02:10.036Z"
   },
   {
    "duration": 770,
    "start_time": "2025-01-25T18:02:10.041Z"
   },
   {
    "duration": 308,
    "start_time": "2025-01-25T18:02:10.813Z"
   },
   {
    "duration": 7,
    "start_time": "2025-01-25T18:02:11.123Z"
   },
   {
    "duration": 4,
    "start_time": "2025-01-25T18:02:11.132Z"
   },
   {
    "duration": 6,
    "start_time": "2025-01-25T18:02:11.138Z"
   },
   {
    "duration": 6,
    "start_time": "2025-01-25T18:02:11.146Z"
   },
   {
    "duration": 7,
    "start_time": "2025-01-25T18:02:11.155Z"
   },
   {
    "duration": 7,
    "start_time": "2025-01-25T18:02:11.164Z"
   },
   {
    "duration": 8,
    "start_time": "2025-01-25T18:02:11.175Z"
   },
   {
    "duration": 45,
    "start_time": "2025-01-25T18:02:11.185Z"
   },
   {
    "duration": 24,
    "start_time": "2025-01-25T18:02:11.232Z"
   },
   {
    "duration": 9,
    "start_time": "2025-01-25T18:02:11.258Z"
   },
   {
    "duration": 4,
    "start_time": "2025-01-25T18:02:11.269Z"
   },
   {
    "duration": 65,
    "start_time": "2025-01-25T18:02:11.274Z"
   },
   {
    "duration": 4,
    "start_time": "2025-01-25T18:02:11.341Z"
   },
   {
    "duration": 4,
    "start_time": "2025-01-25T18:02:11.347Z"
   },
   {
    "duration": 6,
    "start_time": "2025-01-25T18:02:11.352Z"
   },
   {
    "duration": 5,
    "start_time": "2025-01-25T18:02:11.359Z"
   },
   {
    "duration": 19,
    "start_time": "2025-01-25T18:02:11.366Z"
   },
   {
    "duration": 40,
    "start_time": "2025-01-25T18:02:11.387Z"
   },
   {
    "duration": 308,
    "start_time": "2025-01-25T18:02:11.429Z"
   },
   {
    "duration": 115,
    "start_time": "2025-01-25T18:02:11.742Z"
   },
   {
    "duration": 192,
    "start_time": "2025-01-25T18:02:11.860Z"
   },
   {
    "duration": 95,
    "start_time": "2025-01-25T18:02:12.054Z"
   },
   {
    "duration": 9,
    "start_time": "2025-01-25T18:02:12.151Z"
   },
   {
    "duration": 180,
    "start_time": "2025-01-25T18:02:12.161Z"
   },
   {
    "duration": 6,
    "start_time": "2025-01-25T18:02:12.343Z"
   },
   {
    "duration": 6,
    "start_time": "2025-01-25T18:02:12.350Z"
   },
   {
    "duration": 6,
    "start_time": "2025-01-25T18:02:12.358Z"
   },
   {
    "duration": 7,
    "start_time": "2025-01-25T18:02:12.366Z"
   },
   {
    "duration": 250,
    "start_time": "2025-01-25T18:02:12.374Z"
   },
   {
    "duration": 10,
    "start_time": "2025-01-25T18:02:12.626Z"
   },
   {
    "duration": 16,
    "start_time": "2025-01-25T18:02:12.638Z"
   },
   {
    "duration": 11,
    "start_time": "2025-01-25T18:02:12.656Z"
   },
   {
    "duration": 9,
    "start_time": "2025-01-25T18:02:12.668Z"
   },
   {
    "duration": 2141,
    "start_time": "2025-01-25T20:50:44.636Z"
   },
   {
    "duration": 158,
    "start_time": "2025-01-25T20:50:46.779Z"
   },
   {
    "duration": 63,
    "start_time": "2025-01-25T20:50:46.940Z"
   },
   {
    "duration": 829,
    "start_time": "2025-01-25T20:50:47.006Z"
   },
   {
    "duration": 13,
    "start_time": "2025-01-25T20:50:47.836Z"
   },
   {
    "duration": 12,
    "start_time": "2025-01-25T20:50:47.850Z"
   },
   {
    "duration": 106,
    "start_time": "2025-01-25T20:50:47.864Z"
   },
   {
    "duration": 12,
    "start_time": "2025-01-25T20:50:47.973Z"
   },
   {
    "duration": 125,
    "start_time": "2025-01-25T20:50:47.986Z"
   },
   {
    "duration": 95,
    "start_time": "2025-01-25T20:50:48.114Z"
   },
   {
    "duration": 32,
    "start_time": "2025-01-25T20:50:48.211Z"
   },
   {
    "duration": 16,
    "start_time": "2025-01-25T20:50:48.245Z"
   },
   {
    "duration": 7,
    "start_time": "2025-01-25T20:50:48.263Z"
   },
   {
    "duration": 23,
    "start_time": "2025-01-25T20:50:48.271Z"
   },
   {
    "duration": 11,
    "start_time": "2025-01-25T20:50:48.324Z"
   },
   {
    "duration": 3,
    "start_time": "2025-01-25T20:50:48.337Z"
   },
   {
    "duration": 3,
    "start_time": "2025-01-25T20:50:48.342Z"
   },
   {
    "duration": 3,
    "start_time": "2025-01-25T20:50:48.347Z"
   },
   {
    "duration": 3,
    "start_time": "2025-01-25T20:50:48.352Z"
   },
   {
    "duration": 784,
    "start_time": "2025-01-25T20:50:48.357Z"
   },
   {
    "duration": 308,
    "start_time": "2025-01-25T20:50:49.143Z"
   },
   {
    "duration": 6,
    "start_time": "2025-01-25T20:50:49.453Z"
   },
   {
    "duration": 5,
    "start_time": "2025-01-25T20:50:49.461Z"
   },
   {
    "duration": 4,
    "start_time": "2025-01-25T20:50:49.468Z"
   },
   {
    "duration": 6,
    "start_time": "2025-01-25T20:50:49.473Z"
   },
   {
    "duration": 8,
    "start_time": "2025-01-25T20:50:49.481Z"
   },
   {
    "duration": 5,
    "start_time": "2025-01-25T20:50:49.525Z"
   },
   {
    "duration": 7,
    "start_time": "2025-01-25T20:50:49.534Z"
   },
   {
    "duration": 8,
    "start_time": "2025-01-25T20:50:49.542Z"
   },
   {
    "duration": 30,
    "start_time": "2025-01-25T20:50:49.552Z"
   },
   {
    "duration": 40,
    "start_time": "2025-01-25T20:50:49.584Z"
   },
   {
    "duration": 4,
    "start_time": "2025-01-25T20:50:49.626Z"
   },
   {
    "duration": 37,
    "start_time": "2025-01-25T20:50:49.631Z"
   },
   {
    "duration": 3,
    "start_time": "2025-01-25T20:50:49.670Z"
   },
   {
    "duration": 4,
    "start_time": "2025-01-25T20:50:49.675Z"
   },
   {
    "duration": 6,
    "start_time": "2025-01-25T20:50:49.680Z"
   },
   {
    "duration": 38,
    "start_time": "2025-01-25T20:50:49.688Z"
   },
   {
    "duration": 19,
    "start_time": "2025-01-25T20:50:49.728Z"
   },
   {
    "duration": 7,
    "start_time": "2025-01-25T20:50:49.749Z"
   },
   {
    "duration": 347,
    "start_time": "2025-01-25T20:50:49.757Z"
   },
   {
    "duration": 119,
    "start_time": "2025-01-25T20:50:50.106Z"
   },
   {
    "duration": 188,
    "start_time": "2025-01-25T20:50:50.227Z"
   },
   {
    "duration": 98,
    "start_time": "2025-01-25T20:50:50.417Z"
   },
   {
    "duration": 12,
    "start_time": "2025-01-25T20:50:50.517Z"
   },
   {
    "duration": 174,
    "start_time": "2025-01-25T20:50:50.530Z"
   },
   {
    "duration": 6,
    "start_time": "2025-01-25T20:50:50.706Z"
   },
   {
    "duration": 15,
    "start_time": "2025-01-25T20:50:50.713Z"
   },
   {
    "duration": 7,
    "start_time": "2025-01-25T20:50:50.729Z"
   },
   {
    "duration": 8,
    "start_time": "2025-01-25T20:50:50.737Z"
   },
   {
    "duration": 220,
    "start_time": "2025-01-25T20:50:50.746Z"
   },
   {
    "duration": 10,
    "start_time": "2025-01-25T20:50:50.968Z"
   },
   {
    "duration": 16,
    "start_time": "2025-01-25T20:50:50.980Z"
   },
   {
    "duration": 28,
    "start_time": "2025-01-25T20:50:50.998Z"
   },
   {
    "duration": 9,
    "start_time": "2025-01-25T20:50:51.027Z"
   },
   {
    "duration": 1777,
    "start_time": "2025-01-25T21:57:06.020Z"
   },
   {
    "duration": 165,
    "start_time": "2025-01-26T00:22:05.891Z"
   },
   {
    "duration": 2206,
    "start_time": "2025-01-26T00:22:21.006Z"
   },
   {
    "duration": 180,
    "start_time": "2025-01-26T00:22:23.214Z"
   },
   {
    "duration": 64,
    "start_time": "2025-01-26T00:22:23.397Z"
   },
   {
    "duration": 827,
    "start_time": "2025-01-26T00:22:23.463Z"
   },
   {
    "duration": 21,
    "start_time": "2025-01-26T00:22:24.292Z"
   },
   {
    "duration": 15,
    "start_time": "2025-01-26T00:22:24.315Z"
   },
   {
    "duration": 115,
    "start_time": "2025-01-26T00:22:24.331Z"
   },
   {
    "duration": 12,
    "start_time": "2025-01-26T00:22:24.448Z"
   },
   {
    "duration": 383,
    "start_time": "2025-01-26T00:22:24.462Z"
   },
   {
    "duration": 0,
    "start_time": "2025-01-26T00:22:24.849Z"
   },
   {
    "duration": 0,
    "start_time": "2025-01-26T00:22:24.850Z"
   },
   {
    "duration": 0,
    "start_time": "2025-01-26T00:22:24.851Z"
   },
   {
    "duration": 0,
    "start_time": "2025-01-26T00:22:24.852Z"
   },
   {
    "duration": 0,
    "start_time": "2025-01-26T00:22:24.853Z"
   },
   {
    "duration": 0,
    "start_time": "2025-01-26T00:22:24.854Z"
   },
   {
    "duration": 0,
    "start_time": "2025-01-26T00:22:24.855Z"
   },
   {
    "duration": 0,
    "start_time": "2025-01-26T00:22:24.856Z"
   },
   {
    "duration": 0,
    "start_time": "2025-01-26T00:22:24.858Z"
   },
   {
    "duration": 0,
    "start_time": "2025-01-26T00:22:24.859Z"
   },
   {
    "duration": 0,
    "start_time": "2025-01-26T00:22:24.860Z"
   },
   {
    "duration": 0,
    "start_time": "2025-01-26T00:22:24.861Z"
   },
   {
    "duration": 0,
    "start_time": "2025-01-26T00:22:24.863Z"
   },
   {
    "duration": 0,
    "start_time": "2025-01-26T00:22:24.865Z"
   },
   {
    "duration": 0,
    "start_time": "2025-01-26T00:22:24.866Z"
   },
   {
    "duration": 0,
    "start_time": "2025-01-26T00:22:24.868Z"
   },
   {
    "duration": 0,
    "start_time": "2025-01-26T00:22:24.869Z"
   },
   {
    "duration": 0,
    "start_time": "2025-01-26T00:22:24.912Z"
   },
   {
    "duration": 0,
    "start_time": "2025-01-26T00:22:24.915Z"
   },
   {
    "duration": 0,
    "start_time": "2025-01-26T00:22:24.916Z"
   },
   {
    "duration": 0,
    "start_time": "2025-01-26T00:22:24.918Z"
   },
   {
    "duration": 0,
    "start_time": "2025-01-26T00:22:24.919Z"
   },
   {
    "duration": 0,
    "start_time": "2025-01-26T00:22:24.920Z"
   },
   {
    "duration": 0,
    "start_time": "2025-01-26T00:22:24.921Z"
   },
   {
    "duration": 0,
    "start_time": "2025-01-26T00:22:24.922Z"
   },
   {
    "duration": 0,
    "start_time": "2025-01-26T00:22:24.924Z"
   },
   {
    "duration": 0,
    "start_time": "2025-01-26T00:22:24.925Z"
   },
   {
    "duration": 0,
    "start_time": "2025-01-26T00:22:24.926Z"
   },
   {
    "duration": 0,
    "start_time": "2025-01-26T00:22:24.927Z"
   },
   {
    "duration": 0,
    "start_time": "2025-01-26T00:22:24.929Z"
   },
   {
    "duration": 0,
    "start_time": "2025-01-26T00:22:24.930Z"
   },
   {
    "duration": 0,
    "start_time": "2025-01-26T00:22:24.931Z"
   },
   {
    "duration": 0,
    "start_time": "2025-01-26T00:22:24.932Z"
   },
   {
    "duration": 0,
    "start_time": "2025-01-26T00:22:24.933Z"
   },
   {
    "duration": 0,
    "start_time": "2025-01-26T00:22:24.935Z"
   },
   {
    "duration": 0,
    "start_time": "2025-01-26T00:22:24.937Z"
   },
   {
    "duration": 0,
    "start_time": "2025-01-26T00:22:24.938Z"
   },
   {
    "duration": 0,
    "start_time": "2025-01-26T00:22:24.940Z"
   },
   {
    "duration": 0,
    "start_time": "2025-01-26T00:22:24.942Z"
   },
   {
    "duration": 0,
    "start_time": "2025-01-26T00:22:24.945Z"
   },
   {
    "duration": 0,
    "start_time": "2025-01-26T00:22:24.947Z"
   },
   {
    "duration": 0,
    "start_time": "2025-01-26T00:22:24.949Z"
   },
   {
    "duration": 0,
    "start_time": "2025-01-26T00:22:24.950Z"
   },
   {
    "duration": 1,
    "start_time": "2025-01-26T00:22:24.951Z"
   },
   {
    "duration": 0,
    "start_time": "2025-01-26T00:22:25.012Z"
   },
   {
    "duration": 0,
    "start_time": "2025-01-26T00:22:25.013Z"
   },
   {
    "duration": 117,
    "start_time": "2025-01-26T00:23:17.814Z"
   },
   {
    "duration": 98,
    "start_time": "2025-01-26T00:23:20.678Z"
   },
   {
    "duration": 27,
    "start_time": "2025-01-26T00:23:23.283Z"
   },
   {
    "duration": 156,
    "start_time": "2025-01-26T02:38:08.816Z"
   },
   {
    "duration": 2205,
    "start_time": "2025-01-26T02:38:18.054Z"
   },
   {
    "duration": 161,
    "start_time": "2025-01-26T02:38:20.261Z"
   },
   {
    "duration": 60,
    "start_time": "2025-01-26T02:38:20.424Z"
   },
   {
    "duration": 787,
    "start_time": "2025-01-26T02:38:20.486Z"
   },
   {
    "duration": 13,
    "start_time": "2025-01-26T02:38:21.275Z"
   },
   {
    "duration": 20,
    "start_time": "2025-01-26T02:38:21.289Z"
   },
   {
    "duration": 117,
    "start_time": "2025-01-26T02:38:21.311Z"
   },
   {
    "duration": 14,
    "start_time": "2025-01-26T02:38:21.430Z"
   },
   {
    "duration": 131,
    "start_time": "2025-01-26T02:38:21.446Z"
   },
   {
    "duration": 97,
    "start_time": "2025-01-26T02:38:21.580Z"
   },
   {
    "duration": 30,
    "start_time": "2025-01-26T02:38:21.679Z"
   },
   {
    "duration": 17,
    "start_time": "2025-01-26T02:38:21.710Z"
   },
   {
    "duration": 7,
    "start_time": "2025-01-26T02:38:21.729Z"
   },
   {
    "duration": 25,
    "start_time": "2025-01-26T02:38:21.738Z"
   },
   {
    "duration": 11,
    "start_time": "2025-01-26T02:38:21.764Z"
   },
   {
    "duration": 32,
    "start_time": "2025-01-26T02:38:21.777Z"
   },
   {
    "duration": 3,
    "start_time": "2025-01-26T02:38:21.811Z"
   },
   {
    "duration": 3,
    "start_time": "2025-01-26T02:38:21.816Z"
   },
   {
    "duration": 3,
    "start_time": "2025-01-26T02:38:21.821Z"
   },
   {
    "duration": 802,
    "start_time": "2025-01-26T02:38:21.825Z"
   },
   {
    "duration": 292,
    "start_time": "2025-01-26T02:38:22.630Z"
   },
   {
    "duration": 7,
    "start_time": "2025-01-26T02:38:22.924Z"
   },
   {
    "duration": 5,
    "start_time": "2025-01-26T02:38:22.932Z"
   },
   {
    "duration": 4,
    "start_time": "2025-01-26T02:38:22.938Z"
   },
   {
    "duration": 5,
    "start_time": "2025-01-26T02:38:22.944Z"
   },
   {
    "duration": 7,
    "start_time": "2025-01-26T02:38:22.950Z"
   },
   {
    "duration": 5,
    "start_time": "2025-01-26T02:38:22.959Z"
   },
   {
    "duration": 43,
    "start_time": "2025-01-26T02:38:22.970Z"
   },
   {
    "duration": 8,
    "start_time": "2025-01-26T02:38:23.015Z"
   },
   {
    "duration": 24,
    "start_time": "2025-01-26T02:38:23.025Z"
   },
   {
    "duration": 9,
    "start_time": "2025-01-26T02:38:23.051Z"
   },
   {
    "duration": 4,
    "start_time": "2025-01-26T02:38:23.062Z"
   },
   {
    "duration": 77,
    "start_time": "2025-01-26T02:38:23.068Z"
   },
   {
    "duration": 4,
    "start_time": "2025-01-26T02:38:23.147Z"
   },
   {
    "duration": 5,
    "start_time": "2025-01-26T02:38:23.152Z"
   },
   {
    "duration": 6,
    "start_time": "2025-01-26T02:38:23.158Z"
   },
   {
    "duration": 5,
    "start_time": "2025-01-26T02:38:23.166Z"
   },
   {
    "duration": 49,
    "start_time": "2025-01-26T02:38:23.173Z"
   },
   {
    "duration": 8,
    "start_time": "2025-01-26T02:38:23.224Z"
   },
   {
    "duration": 353,
    "start_time": "2025-01-26T02:38:23.234Z"
   },
   {
    "duration": 122,
    "start_time": "2025-01-26T02:38:23.589Z"
   },
   {
    "duration": 191,
    "start_time": "2025-01-26T02:38:23.713Z"
   },
   {
    "duration": 90,
    "start_time": "2025-01-26T02:38:23.909Z"
   },
   {
    "duration": 14,
    "start_time": "2025-01-26T02:38:24.001Z"
   },
   {
    "duration": 192,
    "start_time": "2025-01-26T02:38:24.016Z"
   },
   {
    "duration": 5,
    "start_time": "2025-01-26T02:38:24.210Z"
   },
   {
    "duration": 5,
    "start_time": "2025-01-26T02:38:24.217Z"
   },
   {
    "duration": 6,
    "start_time": "2025-01-26T02:38:24.224Z"
   },
   {
    "duration": 7,
    "start_time": "2025-01-26T02:38:24.232Z"
   },
   {
    "duration": 245,
    "start_time": "2025-01-26T02:38:24.241Z"
   },
   {
    "duration": 24,
    "start_time": "2025-01-26T02:38:24.488Z"
   },
   {
    "duration": 19,
    "start_time": "2025-01-26T02:38:24.514Z"
   },
   {
    "duration": 16,
    "start_time": "2025-01-26T02:38:24.536Z"
   },
   {
    "duration": 9,
    "start_time": "2025-01-26T02:38:24.554Z"
   },
   {
    "duration": 1822,
    "start_time": "2025-01-26T02:38:24.565Z"
   },
   {
    "duration": 4,
    "start_time": "2025-01-26T02:39:20.022Z"
   },
   {
    "duration": 4,
    "start_time": "2025-01-26T02:39:29.875Z"
   },
   {
    "duration": 3,
    "start_time": "2025-01-26T02:41:44.127Z"
   },
   {
    "duration": 5,
    "start_time": "2025-01-26T02:41:48.719Z"
   },
   {
    "duration": 4,
    "start_time": "2025-01-26T02:41:59.149Z"
   },
   {
    "duration": 4,
    "start_time": "2025-01-26T02:42:15.909Z"
   },
   {
    "duration": 659,
    "start_time": "2025-01-26T02:42:46.004Z"
   },
   {
    "duration": 945,
    "start_time": "2025-01-26T02:43:43.679Z"
   },
   {
    "duration": 950,
    "start_time": "2025-01-26T02:43:52.619Z"
   },
   {
    "duration": 806,
    "start_time": "2025-01-26T02:46:16.407Z"
   },
   {
    "duration": 948,
    "start_time": "2025-01-26T02:46:42.013Z"
   },
   {
    "duration": 977,
    "start_time": "2025-01-26T02:46:54.909Z"
   },
   {
    "duration": 1076,
    "start_time": "2025-01-26T02:47:14.033Z"
   },
   {
    "duration": 6,
    "start_time": "2025-01-26T02:48:18.011Z"
   },
   {
    "duration": 716,
    "start_time": "2025-01-26T03:01:07.623Z"
   },
   {
    "duration": 708,
    "start_time": "2025-01-26T03:01:18.639Z"
   },
   {
    "duration": 723,
    "start_time": "2025-01-26T03:02:13.855Z"
   },
   {
    "duration": 16,
    "start_time": "2025-01-26T03:14:10.498Z"
   },
   {
    "duration": 10,
    "start_time": "2025-01-26T03:14:38.044Z"
   },
   {
    "duration": 13,
    "start_time": "2025-01-26T03:15:01.564Z"
   },
   {
    "duration": 250,
    "start_time": "2025-01-26T03:18:28.376Z"
   },
   {
    "duration": 68,
    "start_time": "2025-01-26T03:19:13.687Z"
   },
   {
    "duration": 69,
    "start_time": "2025-01-26T03:20:01.835Z"
   },
   {
    "duration": 71,
    "start_time": "2025-01-26T03:20:12.981Z"
   },
   {
    "duration": 9,
    "start_time": "2025-01-26T03:21:43.451Z"
   },
   {
    "duration": 69,
    "start_time": "2025-01-26T03:21:47.261Z"
   },
   {
    "duration": 65,
    "start_time": "2025-01-26T03:22:21.366Z"
   },
   {
    "duration": 66,
    "start_time": "2025-01-26T03:22:29.028Z"
   },
   {
    "duration": 125,
    "start_time": "2025-01-26T03:36:39.207Z"
   },
   {
    "duration": 2117,
    "start_time": "2025-01-26T13:47:32.990Z"
   },
   {
    "duration": 164,
    "start_time": "2025-01-26T13:47:35.109Z"
   },
   {
    "duration": 64,
    "start_time": "2025-01-26T13:47:35.275Z"
   },
   {
    "duration": 811,
    "start_time": "2025-01-26T13:47:35.341Z"
   },
   {
    "duration": 15,
    "start_time": "2025-01-26T13:47:36.155Z"
   },
   {
    "duration": 13,
    "start_time": "2025-01-26T13:47:36.172Z"
   },
   {
    "duration": 109,
    "start_time": "2025-01-26T13:47:36.187Z"
   },
   {
    "duration": 16,
    "start_time": "2025-01-26T13:47:36.297Z"
   },
   {
    "duration": 124,
    "start_time": "2025-01-26T13:47:36.314Z"
   },
   {
    "duration": 101,
    "start_time": "2025-01-26T13:47:36.440Z"
   },
   {
    "duration": 26,
    "start_time": "2025-01-26T13:47:36.543Z"
   },
   {
    "duration": 15,
    "start_time": "2025-01-26T13:47:36.570Z"
   },
   {
    "duration": 24,
    "start_time": "2025-01-26T13:47:36.587Z"
   },
   {
    "duration": 24,
    "start_time": "2025-01-26T13:47:36.614Z"
   },
   {
    "duration": 9,
    "start_time": "2025-01-26T13:47:36.640Z"
   },
   {
    "duration": 3,
    "start_time": "2025-01-26T13:47:36.650Z"
   },
   {
    "duration": 3,
    "start_time": "2025-01-26T13:47:36.655Z"
   },
   {
    "duration": 3,
    "start_time": "2025-01-26T13:47:36.660Z"
   },
   {
    "duration": 40,
    "start_time": "2025-01-26T13:47:36.665Z"
   },
   {
    "duration": 774,
    "start_time": "2025-01-26T13:47:36.707Z"
   },
   {
    "duration": 964,
    "start_time": "2025-01-26T13:47:37.483Z"
   },
   {
    "duration": 5,
    "start_time": "2025-01-26T13:47:38.450Z"
   },
   {
    "duration": 481,
    "start_time": "2025-01-26T13:47:38.457Z"
   },
   {
    "duration": 0,
    "start_time": "2025-01-26T13:47:38.941Z"
   },
   {
    "duration": 0,
    "start_time": "2025-01-26T13:47:38.942Z"
   },
   {
    "duration": 0,
    "start_time": "2025-01-26T13:47:38.943Z"
   },
   {
    "duration": 0,
    "start_time": "2025-01-26T13:47:38.944Z"
   },
   {
    "duration": 0,
    "start_time": "2025-01-26T13:47:38.945Z"
   },
   {
    "duration": 0,
    "start_time": "2025-01-26T13:47:38.946Z"
   },
   {
    "duration": 0,
    "start_time": "2025-01-26T13:47:38.947Z"
   },
   {
    "duration": 0,
    "start_time": "2025-01-26T13:47:38.948Z"
   },
   {
    "duration": 0,
    "start_time": "2025-01-26T13:47:38.949Z"
   },
   {
    "duration": 0,
    "start_time": "2025-01-26T13:47:38.950Z"
   },
   {
    "duration": 0,
    "start_time": "2025-01-26T13:47:38.951Z"
   },
   {
    "duration": 0,
    "start_time": "2025-01-26T13:47:38.952Z"
   },
   {
    "duration": 0,
    "start_time": "2025-01-26T13:47:38.953Z"
   },
   {
    "duration": 0,
    "start_time": "2025-01-26T13:47:38.954Z"
   },
   {
    "duration": 0,
    "start_time": "2025-01-26T13:47:38.955Z"
   },
   {
    "duration": 0,
    "start_time": "2025-01-26T13:47:38.956Z"
   },
   {
    "duration": 0,
    "start_time": "2025-01-26T13:47:38.957Z"
   },
   {
    "duration": 0,
    "start_time": "2025-01-26T13:47:38.958Z"
   },
   {
    "duration": 0,
    "start_time": "2025-01-26T13:47:38.959Z"
   },
   {
    "duration": 0,
    "start_time": "2025-01-26T13:47:38.960Z"
   },
   {
    "duration": 0,
    "start_time": "2025-01-26T13:47:38.962Z"
   },
   {
    "duration": 0,
    "start_time": "2025-01-26T13:47:38.963Z"
   },
   {
    "duration": 0,
    "start_time": "2025-01-26T13:47:38.964Z"
   },
   {
    "duration": 0,
    "start_time": "2025-01-26T13:47:38.965Z"
   },
   {
    "duration": 0,
    "start_time": "2025-01-26T13:47:39.005Z"
   },
   {
    "duration": 0,
    "start_time": "2025-01-26T13:47:39.006Z"
   },
   {
    "duration": 0,
    "start_time": "2025-01-26T13:47:39.007Z"
   },
   {
    "duration": 0,
    "start_time": "2025-01-26T13:47:39.008Z"
   },
   {
    "duration": 0,
    "start_time": "2025-01-26T13:47:39.009Z"
   },
   {
    "duration": 0,
    "start_time": "2025-01-26T13:47:39.010Z"
   },
   {
    "duration": 0,
    "start_time": "2025-01-26T13:47:39.011Z"
   },
   {
    "duration": 0,
    "start_time": "2025-01-26T13:47:39.012Z"
   },
   {
    "duration": 0,
    "start_time": "2025-01-26T13:47:39.014Z"
   },
   {
    "duration": 13,
    "start_time": "2025-01-26T13:49:02.074Z"
   },
   {
    "duration": 7,
    "start_time": "2025-01-26T13:49:24.432Z"
   },
   {
    "duration": 43,
    "start_time": "2025-01-26T13:53:30.678Z"
   },
   {
    "duration": 6,
    "start_time": "2025-01-26T13:53:31.273Z"
   },
   {
    "duration": 8,
    "start_time": "2025-01-26T13:53:32.323Z"
   },
   {
    "duration": 6,
    "start_time": "2025-01-26T13:53:54.916Z"
   },
   {
    "duration": 6,
    "start_time": "2025-01-26T13:54:05.321Z"
   },
   {
    "duration": 8,
    "start_time": "2025-01-26T13:54:05.328Z"
   },
   {
    "duration": 7,
    "start_time": "2025-01-26T13:54:05.338Z"
   },
   {
    "duration": 29,
    "start_time": "2025-01-26T13:54:05.348Z"
   },
   {
    "duration": 26,
    "start_time": "2025-01-26T13:54:05.379Z"
   },
   {
    "duration": 65,
    "start_time": "2025-01-26T13:54:05.407Z"
   },
   {
    "duration": 56,
    "start_time": "2025-01-26T13:54:05.473Z"
   },
   {
    "duration": 4,
    "start_time": "2025-01-26T13:54:05.531Z"
   },
   {
    "duration": 4,
    "start_time": "2025-01-26T13:54:05.537Z"
   },
   {
    "duration": 6,
    "start_time": "2025-01-26T13:54:05.542Z"
   },
   {
    "duration": 5,
    "start_time": "2025-01-26T13:54:05.551Z"
   },
   {
    "duration": 51,
    "start_time": "2025-01-26T13:54:05.557Z"
   },
   {
    "duration": 8,
    "start_time": "2025-01-26T13:54:05.610Z"
   },
   {
    "duration": 361,
    "start_time": "2025-01-26T13:54:05.620Z"
   },
   {
    "duration": 138,
    "start_time": "2025-01-26T13:54:05.983Z"
   },
   {
    "duration": 132,
    "start_time": "2025-01-26T13:54:06.123Z"
   },
   {
    "duration": 92,
    "start_time": "2025-01-26T13:54:06.257Z"
   },
   {
    "duration": 10,
    "start_time": "2025-01-26T13:54:06.350Z"
   },
   {
    "duration": 182,
    "start_time": "2025-01-26T13:54:06.361Z"
   },
   {
    "duration": 5,
    "start_time": "2025-01-26T13:54:06.545Z"
   },
   {
    "duration": 7,
    "start_time": "2025-01-26T13:54:06.552Z"
   },
   {
    "duration": 6,
    "start_time": "2025-01-26T13:54:06.560Z"
   },
   {
    "duration": 7,
    "start_time": "2025-01-26T13:54:06.568Z"
   },
   {
    "duration": 233,
    "start_time": "2025-01-26T13:54:06.576Z"
   },
   {
    "duration": 12,
    "start_time": "2025-01-26T13:54:06.811Z"
   },
   {
    "duration": 17,
    "start_time": "2025-01-26T13:54:06.825Z"
   },
   {
    "duration": 11,
    "start_time": "2025-01-26T13:54:06.843Z"
   },
   {
    "duration": 9,
    "start_time": "2025-01-26T13:54:06.855Z"
   },
   {
    "duration": 1757,
    "start_time": "2025-01-26T13:54:06.868Z"
   },
   {
    "duration": 158,
    "start_time": "2025-01-26T16:10:51.570Z"
   },
   {
    "duration": 2154,
    "start_time": "2025-01-26T16:11:05.391Z"
   },
   {
    "duration": 171,
    "start_time": "2025-01-26T16:11:07.547Z"
   },
   {
    "duration": 63,
    "start_time": "2025-01-26T16:11:07.720Z"
   },
   {
    "duration": 831,
    "start_time": "2025-01-26T16:11:07.785Z"
   },
   {
    "duration": 18,
    "start_time": "2025-01-26T16:11:08.618Z"
   },
   {
    "duration": 12,
    "start_time": "2025-01-26T16:11:08.637Z"
   },
   {
    "duration": 119,
    "start_time": "2025-01-26T16:11:08.651Z"
   },
   {
    "duration": 14,
    "start_time": "2025-01-26T16:11:08.772Z"
   },
   {
    "duration": 131,
    "start_time": "2025-01-26T16:11:08.788Z"
   },
   {
    "duration": 91,
    "start_time": "2025-01-26T16:11:08.923Z"
   },
   {
    "duration": 39,
    "start_time": "2025-01-26T16:11:09.016Z"
   },
   {
    "duration": 15,
    "start_time": "2025-01-26T16:11:09.057Z"
   },
   {
    "duration": 7,
    "start_time": "2025-01-26T16:11:09.074Z"
   },
   {
    "duration": 23,
    "start_time": "2025-01-26T16:11:09.082Z"
   },
   {
    "duration": 31,
    "start_time": "2025-01-26T16:11:09.107Z"
   },
   {
    "duration": 3,
    "start_time": "2025-01-26T16:11:09.140Z"
   },
   {
    "duration": 4,
    "start_time": "2025-01-26T16:11:09.145Z"
   },
   {
    "duration": 4,
    "start_time": "2025-01-26T16:11:09.150Z"
   },
   {
    "duration": 4,
    "start_time": "2025-01-26T16:11:09.156Z"
   },
   {
    "duration": 792,
    "start_time": "2025-01-26T16:11:09.162Z"
   },
   {
    "duration": 899,
    "start_time": "2025-01-26T16:11:09.956Z"
   },
   {
    "duration": 5,
    "start_time": "2025-01-26T16:11:10.857Z"
   },
   {
    "duration": 7,
    "start_time": "2025-01-26T16:11:10.864Z"
   },
   {
    "duration": 501,
    "start_time": "2025-01-26T16:11:10.872Z"
   },
   {
    "duration": 0,
    "start_time": "2025-01-26T16:11:11.376Z"
   },
   {
    "duration": 0,
    "start_time": "2025-01-26T16:11:11.377Z"
   },
   {
    "duration": 0,
    "start_time": "2025-01-26T16:11:11.378Z"
   },
   {
    "duration": 0,
    "start_time": "2025-01-26T16:11:11.379Z"
   },
   {
    "duration": 0,
    "start_time": "2025-01-26T16:11:11.380Z"
   },
   {
    "duration": 0,
    "start_time": "2025-01-26T16:11:11.381Z"
   },
   {
    "duration": 0,
    "start_time": "2025-01-26T16:11:11.382Z"
   },
   {
    "duration": 0,
    "start_time": "2025-01-26T16:11:11.383Z"
   },
   {
    "duration": 0,
    "start_time": "2025-01-26T16:11:11.384Z"
   },
   {
    "duration": 0,
    "start_time": "2025-01-26T16:11:11.385Z"
   },
   {
    "duration": 0,
    "start_time": "2025-01-26T16:11:11.386Z"
   },
   {
    "duration": 0,
    "start_time": "2025-01-26T16:11:11.387Z"
   },
   {
    "duration": 0,
    "start_time": "2025-01-26T16:11:11.389Z"
   },
   {
    "duration": 0,
    "start_time": "2025-01-26T16:11:11.390Z"
   },
   {
    "duration": 0,
    "start_time": "2025-01-26T16:11:11.391Z"
   },
   {
    "duration": 0,
    "start_time": "2025-01-26T16:11:11.393Z"
   },
   {
    "duration": 0,
    "start_time": "2025-01-26T16:11:11.394Z"
   },
   {
    "duration": 0,
    "start_time": "2025-01-26T16:11:11.396Z"
   },
   {
    "duration": 0,
    "start_time": "2025-01-26T16:11:11.397Z"
   },
   {
    "duration": 0,
    "start_time": "2025-01-26T16:11:11.398Z"
   },
   {
    "duration": 0,
    "start_time": "2025-01-26T16:11:11.399Z"
   },
   {
    "duration": 0,
    "start_time": "2025-01-26T16:11:11.432Z"
   },
   {
    "duration": 0,
    "start_time": "2025-01-26T16:11:11.433Z"
   },
   {
    "duration": 0,
    "start_time": "2025-01-26T16:11:11.434Z"
   },
   {
    "duration": 0,
    "start_time": "2025-01-26T16:11:11.435Z"
   },
   {
    "duration": 0,
    "start_time": "2025-01-26T16:11:11.435Z"
   },
   {
    "duration": 0,
    "start_time": "2025-01-26T16:11:11.436Z"
   },
   {
    "duration": 0,
    "start_time": "2025-01-26T16:11:11.437Z"
   },
   {
    "duration": 0,
    "start_time": "2025-01-26T16:11:11.438Z"
   },
   {
    "duration": 0,
    "start_time": "2025-01-26T16:11:11.439Z"
   },
   {
    "duration": 0,
    "start_time": "2025-01-26T16:11:11.440Z"
   },
   {
    "duration": 0,
    "start_time": "2025-01-26T16:11:11.441Z"
   },
   {
    "duration": 4,
    "start_time": "2025-01-26T16:37:24.000Z"
   },
   {
    "duration": 4,
    "start_time": "2025-01-26T16:43:07.857Z"
   },
   {
    "duration": 6,
    "start_time": "2025-01-26T16:44:01.824Z"
   },
   {
    "duration": 44,
    "start_time": "2025-01-26T16:44:05.711Z"
   },
   {
    "duration": 7,
    "start_time": "2025-01-26T16:44:19.065Z"
   },
   {
    "duration": 274,
    "start_time": "2025-01-26T17:02:53.534Z"
   },
   {
    "duration": 37,
    "start_time": "2025-01-26T17:03:26.794Z"
   },
   {
    "duration": 95,
    "start_time": "2025-01-26T17:03:44.405Z"
   },
   {
    "duration": 9,
    "start_time": "2025-01-26T17:03:51.262Z"
   },
   {
    "duration": 147,
    "start_time": "2025-01-26T17:11:05.207Z"
   },
   {
    "duration": 136,
    "start_time": "2025-01-26T17:13:24.070Z"
   },
   {
    "duration": 7,
    "start_time": "2025-01-26T17:13:51.851Z"
   },
   {
    "duration": 121,
    "start_time": "2025-01-26T17:14:03.393Z"
   },
   {
    "duration": 186,
    "start_time": "2025-01-26T17:14:41.868Z"
   },
   {
    "duration": 366,
    "start_time": "2025-01-26T17:14:50.024Z"
   },
   {
    "duration": 170,
    "start_time": "2025-01-26T17:15:05.393Z"
   },
   {
    "duration": 171,
    "start_time": "2025-01-26T17:15:53.112Z"
   },
   {
    "duration": 184,
    "start_time": "2025-01-26T17:16:02.655Z"
   },
   {
    "duration": 183,
    "start_time": "2025-01-26T17:16:41.809Z"
   },
   {
    "duration": 180,
    "start_time": "2025-01-26T17:17:01.455Z"
   },
   {
    "duration": 126,
    "start_time": "2025-01-26T17:18:17.872Z"
   },
   {
    "duration": 9,
    "start_time": "2025-01-26T17:21:19.775Z"
   },
   {
    "duration": 194,
    "start_time": "2025-01-26T17:22:29.328Z"
   },
   {
    "duration": 29,
    "start_time": "2025-01-26T17:22:32.038Z"
   },
   {
    "duration": 27,
    "start_time": "2025-01-26T17:22:38.573Z"
   },
   {
    "duration": 196,
    "start_time": "2025-01-26T17:22:41.108Z"
   },
   {
    "duration": 469,
    "start_time": "2025-01-26T17:30:18.236Z"
   },
   {
    "duration": 171,
    "start_time": "2025-01-26T17:30:18.707Z"
   },
   {
    "duration": 42,
    "start_time": "2025-01-26T17:30:18.880Z"
   },
   {
    "duration": 730,
    "start_time": "2025-01-26T17:30:18.931Z"
   },
   {
    "duration": 12,
    "start_time": "2025-01-26T17:30:19.664Z"
   },
   {
    "duration": 13,
    "start_time": "2025-01-26T17:30:19.677Z"
   },
   {
    "duration": 136,
    "start_time": "2025-01-26T17:30:19.692Z"
   },
   {
    "duration": 12,
    "start_time": "2025-01-26T17:30:19.830Z"
   },
   {
    "duration": 125,
    "start_time": "2025-01-26T17:30:19.844Z"
   },
   {
    "duration": 97,
    "start_time": "2025-01-26T17:30:19.971Z"
   },
   {
    "duration": 28,
    "start_time": "2025-01-26T17:30:20.070Z"
   },
   {
    "duration": 31,
    "start_time": "2025-01-26T17:30:20.100Z"
   },
   {
    "duration": 8,
    "start_time": "2025-01-26T17:30:20.133Z"
   },
   {
    "duration": 23,
    "start_time": "2025-01-26T17:30:20.145Z"
   },
   {
    "duration": 10,
    "start_time": "2025-01-26T17:30:20.170Z"
   },
   {
    "duration": 3,
    "start_time": "2025-01-26T17:30:20.182Z"
   },
   {
    "duration": 3,
    "start_time": "2025-01-26T17:30:20.187Z"
   },
   {
    "duration": 39,
    "start_time": "2025-01-26T17:30:20.192Z"
   },
   {
    "duration": 4,
    "start_time": "2025-01-26T17:30:20.233Z"
   },
   {
    "duration": 793,
    "start_time": "2025-01-26T17:30:20.239Z"
   },
   {
    "duration": 923,
    "start_time": "2025-01-26T17:30:21.034Z"
   },
   {
    "duration": 8,
    "start_time": "2025-01-26T17:30:21.958Z"
   },
   {
    "duration": 9,
    "start_time": "2025-01-26T17:30:21.968Z"
   },
   {
    "duration": 505,
    "start_time": "2025-01-26T17:30:21.979Z"
   },
   {
    "duration": 0,
    "start_time": "2025-01-26T17:30:22.487Z"
   },
   {
    "duration": 0,
    "start_time": "2025-01-26T17:30:22.488Z"
   },
   {
    "duration": 0,
    "start_time": "2025-01-26T17:30:22.489Z"
   },
   {
    "duration": 0,
    "start_time": "2025-01-26T17:30:22.490Z"
   },
   {
    "duration": 0,
    "start_time": "2025-01-26T17:30:22.492Z"
   },
   {
    "duration": 0,
    "start_time": "2025-01-26T17:30:22.493Z"
   },
   {
    "duration": 0,
    "start_time": "2025-01-26T17:30:22.494Z"
   },
   {
    "duration": 0,
    "start_time": "2025-01-26T17:30:22.495Z"
   },
   {
    "duration": 0,
    "start_time": "2025-01-26T17:30:22.496Z"
   },
   {
    "duration": 0,
    "start_time": "2025-01-26T17:30:22.498Z"
   },
   {
    "duration": 0,
    "start_time": "2025-01-26T17:30:22.499Z"
   },
   {
    "duration": 0,
    "start_time": "2025-01-26T17:30:22.500Z"
   },
   {
    "duration": 0,
    "start_time": "2025-01-26T17:30:22.501Z"
   },
   {
    "duration": 0,
    "start_time": "2025-01-26T17:30:22.503Z"
   },
   {
    "duration": 0,
    "start_time": "2025-01-26T17:30:22.504Z"
   },
   {
    "duration": 0,
    "start_time": "2025-01-26T17:30:22.532Z"
   },
   {
    "duration": 0,
    "start_time": "2025-01-26T17:30:22.533Z"
   },
   {
    "duration": 0,
    "start_time": "2025-01-26T17:30:22.534Z"
   },
   {
    "duration": 0,
    "start_time": "2025-01-26T17:30:22.536Z"
   },
   {
    "duration": 0,
    "start_time": "2025-01-26T17:30:22.537Z"
   },
   {
    "duration": 0,
    "start_time": "2025-01-26T17:30:22.538Z"
   },
   {
    "duration": 0,
    "start_time": "2025-01-26T17:30:22.539Z"
   },
   {
    "duration": 0,
    "start_time": "2025-01-26T17:30:22.541Z"
   },
   {
    "duration": 0,
    "start_time": "2025-01-26T17:30:22.542Z"
   },
   {
    "duration": 0,
    "start_time": "2025-01-26T17:30:22.543Z"
   },
   {
    "duration": 0,
    "start_time": "2025-01-26T17:30:22.544Z"
   },
   {
    "duration": 0,
    "start_time": "2025-01-26T17:30:22.545Z"
   },
   {
    "duration": 0,
    "start_time": "2025-01-26T17:30:22.546Z"
   },
   {
    "duration": 0,
    "start_time": "2025-01-26T17:30:22.547Z"
   },
   {
    "duration": 0,
    "start_time": "2025-01-26T17:30:22.549Z"
   },
   {
    "duration": 0,
    "start_time": "2025-01-26T17:30:22.550Z"
   },
   {
    "duration": 9,
    "start_time": "2025-01-26T17:32:31.766Z"
   },
   {
    "duration": 5,
    "start_time": "2025-01-26T17:32:41.311Z"
   },
   {
    "duration": 8,
    "start_time": "2025-01-26T17:32:43.686Z"
   },
   {
    "duration": 425,
    "start_time": "2025-01-26T17:35:54.612Z"
   },
   {
    "duration": 181,
    "start_time": "2025-01-26T17:35:55.039Z"
   },
   {
    "duration": 47,
    "start_time": "2025-01-26T17:35:55.225Z"
   },
   {
    "duration": 727,
    "start_time": "2025-01-26T17:35:55.273Z"
   },
   {
    "duration": 11,
    "start_time": "2025-01-26T17:35:56.002Z"
   },
   {
    "duration": 22,
    "start_time": "2025-01-26T17:35:56.015Z"
   },
   {
    "duration": 110,
    "start_time": "2025-01-26T17:35:56.038Z"
   },
   {
    "duration": 13,
    "start_time": "2025-01-26T17:35:56.150Z"
   },
   {
    "duration": 133,
    "start_time": "2025-01-26T17:35:56.167Z"
   },
   {
    "duration": 97,
    "start_time": "2025-01-26T17:35:56.301Z"
   },
   {
    "duration": 38,
    "start_time": "2025-01-26T17:35:56.400Z"
   },
   {
    "duration": 17,
    "start_time": "2025-01-26T17:35:56.439Z"
   },
   {
    "duration": 9,
    "start_time": "2025-01-26T17:35:56.457Z"
   },
   {
    "duration": 26,
    "start_time": "2025-01-26T17:35:56.467Z"
   },
   {
    "duration": 37,
    "start_time": "2025-01-26T17:35:56.495Z"
   },
   {
    "duration": 3,
    "start_time": "2025-01-26T17:35:56.535Z"
   },
   {
    "duration": 4,
    "start_time": "2025-01-26T17:35:56.539Z"
   },
   {
    "duration": 4,
    "start_time": "2025-01-26T17:35:56.545Z"
   },
   {
    "duration": 3,
    "start_time": "2025-01-26T17:35:56.551Z"
   },
   {
    "duration": 793,
    "start_time": "2025-01-26T17:35:56.556Z"
   },
   {
    "duration": 954,
    "start_time": "2025-01-26T17:35:57.351Z"
   },
   {
    "duration": 6,
    "start_time": "2025-01-26T17:35:58.307Z"
   },
   {
    "duration": 9,
    "start_time": "2025-01-26T17:35:58.331Z"
   },
   {
    "duration": 7,
    "start_time": "2025-01-26T17:35:58.342Z"
   },
   {
    "duration": 5,
    "start_time": "2025-01-26T17:35:58.351Z"
   },
   {
    "duration": 8,
    "start_time": "2025-01-26T17:35:58.358Z"
   },
   {
    "duration": 6,
    "start_time": "2025-01-26T17:35:58.371Z"
   },
   {
    "duration": 6,
    "start_time": "2025-01-26T17:35:58.379Z"
   },
   {
    "duration": 44,
    "start_time": "2025-01-26T17:35:58.387Z"
   },
   {
    "duration": 33,
    "start_time": "2025-01-26T17:35:58.432Z"
   },
   {
    "duration": 8,
    "start_time": "2025-01-26T17:35:58.467Z"
   },
   {
    "duration": 85,
    "start_time": "2025-01-26T17:35:58.477Z"
   },
   {
    "duration": 46,
    "start_time": "2025-01-26T17:35:58.565Z"
   },
   {
    "duration": 20,
    "start_time": "2025-01-26T17:35:58.613Z"
   },
   {
    "duration": 4,
    "start_time": "2025-01-26T17:35:58.635Z"
   },
   {
    "duration": 210,
    "start_time": "2025-01-26T17:35:58.640Z"
   },
   {
    "duration": 127,
    "start_time": "2025-01-26T17:35:58.853Z"
   },
   {
    "duration": 29,
    "start_time": "2025-01-26T17:35:58.981Z"
   },
   {
    "duration": 213,
    "start_time": "2025-01-26T17:35:59.012Z"
   },
   {
    "duration": 279,
    "start_time": "2025-01-26T17:35:59.231Z"
   },
   {
    "duration": 133,
    "start_time": "2025-01-26T17:35:59.512Z"
   },
   {
    "duration": 131,
    "start_time": "2025-01-26T17:35:59.647Z"
   },
   {
    "duration": 90,
    "start_time": "2025-01-26T17:35:59.780Z"
   },
   {
    "duration": 9,
    "start_time": "2025-01-26T17:35:59.872Z"
   },
   {
    "duration": 179,
    "start_time": "2025-01-26T17:35:59.883Z"
   },
   {
    "duration": 5,
    "start_time": "2025-01-26T17:36:00.064Z"
   },
   {
    "duration": 6,
    "start_time": "2025-01-26T17:36:00.070Z"
   },
   {
    "duration": 7,
    "start_time": "2025-01-26T17:36:00.077Z"
   },
   {
    "duration": 7,
    "start_time": "2025-01-26T17:36:00.086Z"
   },
   {
    "duration": 220,
    "start_time": "2025-01-26T17:36:00.095Z"
   },
   {
    "duration": 21,
    "start_time": "2025-01-26T17:36:00.317Z"
   },
   {
    "duration": 18,
    "start_time": "2025-01-26T17:36:00.340Z"
   },
   {
    "duration": 13,
    "start_time": "2025-01-26T17:36:00.360Z"
   },
   {
    "duration": 10,
    "start_time": "2025-01-26T17:36:00.375Z"
   },
   {
    "duration": 1793,
    "start_time": "2025-01-26T17:36:00.388Z"
   },
   {
    "duration": 2152,
    "start_time": "2025-01-26T22:11:21.819Z"
   },
   {
    "duration": 166,
    "start_time": "2025-01-26T22:11:23.973Z"
   },
   {
    "duration": 61,
    "start_time": "2025-01-26T22:11:24.141Z"
   },
   {
    "duration": 822,
    "start_time": "2025-01-26T22:11:24.204Z"
   },
   {
    "duration": 12,
    "start_time": "2025-01-26T22:11:25.029Z"
   },
   {
    "duration": 14,
    "start_time": "2025-01-26T22:11:25.043Z"
   },
   {
    "duration": 118,
    "start_time": "2025-01-26T22:11:25.058Z"
   },
   {
    "duration": 13,
    "start_time": "2025-01-26T22:11:25.177Z"
   },
   {
    "duration": 131,
    "start_time": "2025-01-26T22:11:25.191Z"
   },
   {
    "duration": 91,
    "start_time": "2025-01-26T22:11:25.324Z"
   },
   {
    "duration": 29,
    "start_time": "2025-01-26T22:11:25.417Z"
   },
   {
    "duration": 15,
    "start_time": "2025-01-26T22:11:25.448Z"
   },
   {
    "duration": 7,
    "start_time": "2025-01-26T22:11:25.464Z"
   },
   {
    "duration": 43,
    "start_time": "2025-01-26T22:11:25.474Z"
   },
   {
    "duration": 10,
    "start_time": "2025-01-26T22:11:25.518Z"
   },
   {
    "duration": 4,
    "start_time": "2025-01-26T22:11:25.529Z"
   },
   {
    "duration": 4,
    "start_time": "2025-01-26T22:11:25.535Z"
   },
   {
    "duration": 3,
    "start_time": "2025-01-26T22:11:25.541Z"
   },
   {
    "duration": 3,
    "start_time": "2025-01-26T22:11:25.546Z"
   },
   {
    "duration": 793,
    "start_time": "2025-01-26T22:11:25.551Z"
   },
   {
    "duration": 924,
    "start_time": "2025-01-26T22:11:26.345Z"
   },
   {
    "duration": 6,
    "start_time": "2025-01-26T22:11:27.272Z"
   },
   {
    "duration": 8,
    "start_time": "2025-01-26T22:11:27.280Z"
   },
   {
    "duration": 26,
    "start_time": "2025-01-26T22:11:27.290Z"
   },
   {
    "duration": 5,
    "start_time": "2025-01-26T22:11:27.317Z"
   },
   {
    "duration": 8,
    "start_time": "2025-01-26T22:11:27.324Z"
   },
   {
    "duration": 7,
    "start_time": "2025-01-26T22:11:27.333Z"
   },
   {
    "duration": 8,
    "start_time": "2025-01-26T22:11:27.341Z"
   },
   {
    "duration": 8,
    "start_time": "2025-01-26T22:11:27.351Z"
   },
   {
    "duration": 67,
    "start_time": "2025-01-26T22:11:27.361Z"
   },
   {
    "duration": 9,
    "start_time": "2025-01-26T22:11:27.430Z"
   },
   {
    "duration": 81,
    "start_time": "2025-01-26T22:11:27.440Z"
   },
   {
    "duration": 43,
    "start_time": "2025-01-26T22:11:27.523Z"
   },
   {
    "duration": 4,
    "start_time": "2025-01-26T22:11:27.568Z"
   },
   {
    "duration": 4,
    "start_time": "2025-01-26T22:11:27.574Z"
   },
   {
    "duration": 254,
    "start_time": "2025-01-26T22:11:27.580Z"
   },
   {
    "duration": 124,
    "start_time": "2025-01-26T22:11:27.836Z"
   },
   {
    "duration": 28,
    "start_time": "2025-01-26T22:11:27.962Z"
   },
   {
    "duration": 231,
    "start_time": "2025-01-26T22:11:27.992Z"
   },
   {
    "duration": 276,
    "start_time": "2025-01-26T22:11:28.225Z"
   },
   {
    "duration": 123,
    "start_time": "2025-01-26T22:11:28.511Z"
   },
   {
    "duration": 134,
    "start_time": "2025-01-26T22:11:28.636Z"
   },
   {
    "duration": 94,
    "start_time": "2025-01-26T22:11:28.771Z"
   },
   {
    "duration": 8,
    "start_time": "2025-01-26T22:11:28.867Z"
   },
   {
    "duration": 181,
    "start_time": "2025-01-26T22:11:28.878Z"
   },
   {
    "duration": 5,
    "start_time": "2025-01-26T22:11:29.062Z"
   },
   {
    "duration": 6,
    "start_time": "2025-01-26T22:11:29.068Z"
   },
   {
    "duration": 7,
    "start_time": "2025-01-26T22:11:29.075Z"
   },
   {
    "duration": 31,
    "start_time": "2025-01-26T22:11:29.084Z"
   },
   {
    "duration": 233,
    "start_time": "2025-01-26T22:11:29.117Z"
   },
   {
    "duration": 11,
    "start_time": "2025-01-26T22:11:29.351Z"
   },
   {
    "duration": 17,
    "start_time": "2025-01-26T22:11:29.364Z"
   },
   {
    "duration": 32,
    "start_time": "2025-01-26T22:11:29.383Z"
   },
   {
    "duration": 8,
    "start_time": "2025-01-26T22:11:29.417Z"
   },
   {
    "duration": 1772,
    "start_time": "2025-01-26T22:11:29.427Z"
   },
   {
    "duration": 163,
    "start_time": "2025-01-26T22:41:14.376Z"
   },
   {
    "duration": 2238,
    "start_time": "2025-01-26T22:41:17.845Z"
   },
   {
    "duration": 162,
    "start_time": "2025-01-26T22:41:20.085Z"
   },
   {
    "duration": 64,
    "start_time": "2025-01-26T22:41:20.249Z"
   },
   {
    "duration": 839,
    "start_time": "2025-01-26T22:41:20.315Z"
   },
   {
    "duration": 14,
    "start_time": "2025-01-26T22:41:21.156Z"
   },
   {
    "duration": 14,
    "start_time": "2025-01-26T22:41:21.171Z"
   },
   {
    "duration": 127,
    "start_time": "2025-01-26T22:41:21.187Z"
   },
   {
    "duration": 19,
    "start_time": "2025-01-26T22:41:21.316Z"
   },
   {
    "duration": 124,
    "start_time": "2025-01-26T22:41:21.337Z"
   },
   {
    "duration": 102,
    "start_time": "2025-01-26T22:41:21.465Z"
   },
   {
    "duration": 31,
    "start_time": "2025-01-26T22:41:21.569Z"
   },
   {
    "duration": 29,
    "start_time": "2025-01-26T22:41:21.602Z"
   },
   {
    "duration": 8,
    "start_time": "2025-01-26T22:41:21.633Z"
   },
   {
    "duration": 24,
    "start_time": "2025-01-26T22:41:21.643Z"
   },
   {
    "duration": 11,
    "start_time": "2025-01-26T22:41:21.669Z"
   },
   {
    "duration": 4,
    "start_time": "2025-01-26T22:41:21.682Z"
   },
   {
    "duration": 4,
    "start_time": "2025-01-26T22:41:21.688Z"
   },
   {
    "duration": 39,
    "start_time": "2025-01-26T22:41:21.693Z"
   },
   {
    "duration": 4,
    "start_time": "2025-01-26T22:41:21.734Z"
   },
   {
    "duration": 932,
    "start_time": "2025-01-26T22:41:21.740Z"
   },
   {
    "duration": 966,
    "start_time": "2025-01-26T22:41:22.676Z"
   },
   {
    "duration": 6,
    "start_time": "2025-01-26T22:41:23.643Z"
   },
   {
    "duration": 404,
    "start_time": "2025-01-26T22:41:23.651Z"
   },
   {
    "duration": 0,
    "start_time": "2025-01-26T22:41:24.058Z"
   },
   {
    "duration": 0,
    "start_time": "2025-01-26T22:41:24.059Z"
   },
   {
    "duration": 0,
    "start_time": "2025-01-26T22:41:24.060Z"
   },
   {
    "duration": 0,
    "start_time": "2025-01-26T22:41:24.061Z"
   },
   {
    "duration": 0,
    "start_time": "2025-01-26T22:41:24.062Z"
   },
   {
    "duration": 0,
    "start_time": "2025-01-26T22:41:24.063Z"
   },
   {
    "duration": 0,
    "start_time": "2025-01-26T22:41:24.064Z"
   },
   {
    "duration": 0,
    "start_time": "2025-01-26T22:41:24.065Z"
   },
   {
    "duration": 0,
    "start_time": "2025-01-26T22:41:24.067Z"
   },
   {
    "duration": 0,
    "start_time": "2025-01-26T22:41:24.069Z"
   },
   {
    "duration": 0,
    "start_time": "2025-01-26T22:41:24.070Z"
   },
   {
    "duration": 0,
    "start_time": "2025-01-26T22:41:24.072Z"
   },
   {
    "duration": 0,
    "start_time": "2025-01-26T22:41:24.072Z"
   },
   {
    "duration": 0,
    "start_time": "2025-01-26T22:41:24.073Z"
   },
   {
    "duration": 0,
    "start_time": "2025-01-26T22:41:24.074Z"
   },
   {
    "duration": 0,
    "start_time": "2025-01-26T22:41:24.075Z"
   },
   {
    "duration": 0,
    "start_time": "2025-01-26T22:41:24.076Z"
   },
   {
    "duration": 0,
    "start_time": "2025-01-26T22:41:24.077Z"
   },
   {
    "duration": 1,
    "start_time": "2025-01-26T22:41:24.078Z"
   },
   {
    "duration": 0,
    "start_time": "2025-01-26T22:41:24.080Z"
   },
   {
    "duration": 0,
    "start_time": "2025-01-26T22:41:24.081Z"
   },
   {
    "duration": 0,
    "start_time": "2025-01-26T22:41:24.082Z"
   },
   {
    "duration": 0,
    "start_time": "2025-01-26T22:41:24.083Z"
   },
   {
    "duration": 0,
    "start_time": "2025-01-26T22:41:24.084Z"
   },
   {
    "duration": 0,
    "start_time": "2025-01-26T22:41:24.085Z"
   },
   {
    "duration": 0,
    "start_time": "2025-01-26T22:41:24.133Z"
   },
   {
    "duration": 0,
    "start_time": "2025-01-26T22:41:24.136Z"
   },
   {
    "duration": 0,
    "start_time": "2025-01-26T22:41:24.137Z"
   },
   {
    "duration": 0,
    "start_time": "2025-01-26T22:41:24.139Z"
   },
   {
    "duration": 0,
    "start_time": "2025-01-26T22:41:24.139Z"
   },
   {
    "duration": 0,
    "start_time": "2025-01-26T22:41:24.140Z"
   },
   {
    "duration": 0,
    "start_time": "2025-01-26T22:41:24.141Z"
   },
   {
    "duration": 28,
    "start_time": "2025-01-26T22:42:06.125Z"
   },
   {
    "duration": 269,
    "start_time": "2025-01-26T22:42:24.651Z"
   },
   {
    "duration": 45,
    "start_time": "2025-01-26T22:43:05.077Z"
   },
   {
    "duration": 9,
    "start_time": "2025-01-26T22:44:12.300Z"
   },
   {
    "duration": 16,
    "start_time": "2025-01-26T22:45:06.130Z"
   },
   {
    "duration": 8,
    "start_time": "2025-01-26T22:45:14.693Z"
   },
   {
    "duration": 10,
    "start_time": "2025-01-26T22:45:34.468Z"
   },
   {
    "duration": 9,
    "start_time": "2025-01-26T22:46:26.345Z"
   },
   {
    "duration": 137,
    "start_time": "2025-01-26T22:46:35.072Z"
   },
   {
    "duration": 9,
    "start_time": "2025-01-26T22:46:48.283Z"
   },
   {
    "duration": 45,
    "start_time": "2025-01-26T22:47:20.747Z"
   },
   {
    "duration": 12,
    "start_time": "2025-01-26T22:48:27.918Z"
   },
   {
    "duration": 193,
    "start_time": "2025-01-26T22:49:03.900Z"
   },
   {
    "duration": 9,
    "start_time": "2025-01-26T22:49:34.624Z"
   },
   {
    "duration": 8,
    "start_time": "2025-01-26T22:55:18.830Z"
   },
   {
    "duration": 21,
    "start_time": "2025-01-26T22:56:33.591Z"
   },
   {
    "duration": 9,
    "start_time": "2025-01-26T22:56:48.999Z"
   },
   {
    "duration": 19,
    "start_time": "2025-01-26T22:56:51.695Z"
   },
   {
    "duration": 11,
    "start_time": "2025-01-26T22:57:00.240Z"
   },
   {
    "duration": 2132,
    "start_time": "2025-01-27T06:10:12.526Z"
   },
   {
    "duration": 165,
    "start_time": "2025-01-27T06:10:14.660Z"
   },
   {
    "duration": 63,
    "start_time": "2025-01-27T06:10:14.827Z"
   },
   {
    "duration": 799,
    "start_time": "2025-01-27T06:10:14.893Z"
   },
   {
    "duration": 13,
    "start_time": "2025-01-27T06:10:15.694Z"
   },
   {
    "duration": 23,
    "start_time": "2025-01-27T06:10:15.709Z"
   },
   {
    "duration": 112,
    "start_time": "2025-01-27T06:10:15.734Z"
   },
   {
    "duration": 12,
    "start_time": "2025-01-27T06:10:15.848Z"
   },
   {
    "duration": 128,
    "start_time": "2025-01-27T06:10:15.861Z"
   },
   {
    "duration": 87,
    "start_time": "2025-01-27T06:10:15.992Z"
   },
   {
    "duration": 26,
    "start_time": "2025-01-27T06:10:16.081Z"
   },
   {
    "duration": 31,
    "start_time": "2025-01-27T06:10:16.108Z"
   },
   {
    "duration": 8,
    "start_time": "2025-01-27T06:10:16.140Z"
   },
   {
    "duration": 25,
    "start_time": "2025-01-27T06:10:16.149Z"
   },
   {
    "duration": 10,
    "start_time": "2025-01-27T06:10:16.175Z"
   },
   {
    "duration": 3,
    "start_time": "2025-01-27T06:10:16.187Z"
   },
   {
    "duration": 4,
    "start_time": "2025-01-27T06:10:16.191Z"
   },
   {
    "duration": 35,
    "start_time": "2025-01-27T06:10:16.197Z"
   },
   {
    "duration": 4,
    "start_time": "2025-01-27T06:10:16.233Z"
   },
   {
    "duration": 774,
    "start_time": "2025-01-27T06:10:16.238Z"
   },
   {
    "duration": 867,
    "start_time": "2025-01-27T06:10:17.013Z"
   },
   {
    "duration": 6,
    "start_time": "2025-01-27T06:10:17.882Z"
   },
   {
    "duration": 9,
    "start_time": "2025-01-27T06:10:17.889Z"
   },
   {
    "duration": 9,
    "start_time": "2025-01-27T06:10:17.900Z"
   },
   {
    "duration": 24,
    "start_time": "2025-01-27T06:10:17.910Z"
   },
   {
    "duration": 8,
    "start_time": "2025-01-27T06:10:17.937Z"
   },
   {
    "duration": 6,
    "start_time": "2025-01-27T06:10:17.947Z"
   },
   {
    "duration": 7,
    "start_time": "2025-01-27T06:10:17.957Z"
   },
   {
    "duration": 7,
    "start_time": "2025-01-27T06:10:17.966Z"
   },
   {
    "duration": 69,
    "start_time": "2025-01-27T06:10:17.975Z"
   },
   {
    "duration": 8,
    "start_time": "2025-01-27T06:10:18.046Z"
   },
   {
    "duration": 78,
    "start_time": "2025-01-27T06:10:18.056Z"
   },
   {
    "duration": 45,
    "start_time": "2025-01-27T06:10:18.136Z"
   },
   {
    "duration": 4,
    "start_time": "2025-01-27T06:10:18.183Z"
   },
   {
    "duration": 4,
    "start_time": "2025-01-27T06:10:18.189Z"
   },
   {
    "duration": 227,
    "start_time": "2025-01-27T06:10:18.194Z"
   },
   {
    "duration": 122,
    "start_time": "2025-01-27T06:10:18.423Z"
   },
   {
    "duration": 28,
    "start_time": "2025-01-27T06:10:18.546Z"
   },
   {
    "duration": 249,
    "start_time": "2025-01-27T06:10:18.577Z"
   },
   {
    "duration": 286,
    "start_time": "2025-01-27T06:10:18.832Z"
   },
   {
    "duration": 125,
    "start_time": "2025-01-27T06:10:19.119Z"
   },
   {
    "duration": 133,
    "start_time": "2025-01-27T06:10:19.246Z"
   },
   {
    "duration": 92,
    "start_time": "2025-01-27T06:10:19.381Z"
   },
   {
    "duration": 8,
    "start_time": "2025-01-27T06:10:19.474Z"
   },
   {
    "duration": 180,
    "start_time": "2025-01-27T06:10:19.484Z"
   },
   {
    "duration": 5,
    "start_time": "2025-01-27T06:10:19.666Z"
   },
   {
    "duration": 6,
    "start_time": "2025-01-27T06:10:19.673Z"
   },
   {
    "duration": 6,
    "start_time": "2025-01-27T06:10:19.681Z"
   },
   {
    "duration": 8,
    "start_time": "2025-01-27T06:10:19.689Z"
   },
   {
    "duration": 278,
    "start_time": "2025-01-27T06:10:19.699Z"
   },
   {
    "duration": 11,
    "start_time": "2025-01-27T06:10:19.979Z"
   },
   {
    "duration": 18,
    "start_time": "2025-01-27T06:10:19.992Z"
   },
   {
    "duration": 22,
    "start_time": "2025-01-27T06:10:20.013Z"
   },
   {
    "duration": 9,
    "start_time": "2025-01-27T06:10:20.036Z"
   },
   {
    "duration": 1769,
    "start_time": "2025-01-27T06:10:20.047Z"
   }
  ],
  "kernelspec": {
   "display_name": "Python 3 (ipykernel)",
   "language": "python",
   "name": "python3"
  },
  "language_info": {
   "codemirror_mode": {
    "name": "ipython",
    "version": 3
   },
   "file_extension": ".py",
   "mimetype": "text/x-python",
   "name": "python",
   "nbconvert_exporter": "python",
   "pygments_lexer": "ipython3",
   "version": "3.12.5"
  },
  "toc": {
   "base_numbering": 1,
   "nav_menu": {},
   "number_sections": true,
   "sideBar": true,
   "skip_h1_title": true,
   "title_cell": "Table of Contents",
   "title_sidebar": "Contents",
   "toc_cell": false,
   "toc_position": {},
   "toc_section_display": true,
   "toc_window_display": false
  },
  "vscode": {
   "interpreter": {
    "hash": "01a7be9ec63e704a62cefc5fe7a4756944464ee731be31632bdf42a4cb4688cf"
   }
  }
 },
 "nbformat": 4,
 "nbformat_minor": 5
}
